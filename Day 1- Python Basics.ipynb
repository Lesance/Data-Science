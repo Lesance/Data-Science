{
 "cells": [
  {
   "cell_type": "markdown",
   "id": "811d2a9d",
   "metadata": {},
   "source": [
    "# if statement"
   ]
  },
  {
   "cell_type": "code",
   "execution_count": 2,
   "id": "bc64650a",
   "metadata": {},
   "outputs": [
    {
     "name": "stdout",
     "output_type": "stream",
     "text": [
      "given value is greater than 10\n"
     ]
    }
   ],
   "source": [
    "# if statement\n",
    "\n",
    "i=20\n",
    "if i>10:\n",
    "    print ('given value is greater than 10')"
   ]
  },
  {
   "cell_type": "markdown",
   "id": "feaf7c12",
   "metadata": {},
   "source": [
    "# if else statement"
   ]
  },
  {
   "cell_type": "code",
   "execution_count": 3,
   "id": "3f3ef50f",
   "metadata": {},
   "outputs": [
    {
     "name": "stdout",
     "output_type": "stream",
     "text": [
      "greater than 5\n"
     ]
    }
   ],
   "source": [
    "# if else statement\n",
    "i=10\n",
    "if i<5:\n",
    "    print('lesser than 5')\n",
    "else:\n",
    "    print('greater than 5')"
   ]
  },
  {
   "cell_type": "markdown",
   "id": "1b3e13ba",
   "metadata": {},
   "source": [
    "# if elif else statement"
   ]
  },
  {
   "cell_type": "code",
   "execution_count": 6,
   "id": "085409e1",
   "metadata": {},
   "outputs": [
    {
     "name": "stdout",
     "output_type": "stream",
     "text": [
      "between 10 to 50\n"
     ]
    }
   ],
   "source": [
    "# if elif else statement\n",
    "\n",
    "i=20\n",
    "\n",
    "if i<=10:\n",
    "    print('lesser than 10')\n",
    "elif((i>10) &(i<=50)):\n",
    "    print('between 10 to 50')\n",
    "else:\n",
    "    print('greater then 50')"
   ]
  },
  {
   "cell_type": "code",
   "execution_count": 14,
   "id": "d49ab633",
   "metadata": {},
   "outputs": [
    {
     "name": "stdout",
     "output_type": "stream",
     "text": [
      "Enter the student's marks: 90\n",
      "Grade: A\n",
      "Class: outstanding\n"
     ]
    }
   ],
   "source": [
    "# nested  if else statement\n",
    "\n",
    "marks = int(input(\"Enter the student's marks: \"))\n",
    "\n",
    "if marks>=90:S\n",
    "    grade='A'\n",
    "    Class='outstanding'\n",
    "elif ((marks>=75) & (marks<90)):\n",
    "    grade='B'\n",
    "    Class='distinction'\n",
    "elif ((marks>=60) & (marks<75)):\n",
    "    grade='C'\n",
    "    Class='firstclass'\n",
    "elif ((marks>=45) & (marks<60)):\n",
    "    grade='D'\n",
    "    Class='secondclass'\n",
    "else:\n",
    "    grade='E'\n",
    "    Class='thirdclass'\n",
    "print(\"Grade:\",grade)\n",
    "\n",
    "print(\"Class:\",Class)\n",
    "    \n",
    "\n"
   ]
  },
  {
   "cell_type": "markdown",
   "id": "4f2e381a",
   "metadata": {},
   "source": [
    "# while loop"
   ]
  },
  {
   "cell_type": "code",
   "execution_count": 18,
   "id": "7aff9152",
   "metadata": {},
   "outputs": [
    {
     "name": "stdout",
     "output_type": "stream",
     "text": [
      "5\n",
      "6\n",
      "7\n",
      "8\n",
      "9\n"
     ]
    }
   ],
   "source": [
    "i=5\n",
    "while i<10:\n",
    "    print(i)\n",
    "    i=i+1"
   ]
  },
  {
   "cell_type": "code",
   "execution_count": 22,
   "id": "8847f650",
   "metadata": {},
   "outputs": [
    {
     "name": "stdout",
     "output_type": "stream",
     "text": [
      "5 6 7 8 9 10 11 12 13 14 15 16 17 18 19 end\n"
     ]
    }
   ],
   "source": [
    "# while loop with else block\n",
    "\n",
    "i=5\n",
    "while i<20:\n",
    "    print(i, end=' ')\n",
    "    i=i+1\n",
    "else:\n",
    "    print('end')\n",
    "    "
   ]
  },
  {
   "cell_type": "markdown",
   "id": "3149849d",
   "metadata": {},
   "source": [
    "# for loop\n"
   ]
  },
  {
   "cell_type": "code",
   "execution_count": 23,
   "id": "ca0e85cc",
   "metadata": {},
   "outputs": [
    {
     "name": "stdout",
     "output_type": "stream",
     "text": [
      "1\n",
      "2\n",
      "3\n",
      "4\n",
      "5\n",
      "6\n",
      "7\n",
      "8\n",
      "9\n"
     ]
    }
   ],
   "source": [
    "for i in range(1,10):\n",
    "    print(i)"
   ]
  },
  {
   "cell_type": "code",
   "execution_count": 24,
   "id": "a56c4512",
   "metadata": {},
   "outputs": [
    {
     "name": "stdout",
     "output_type": "stream",
     "text": [
      "0\n",
      "1\n",
      "2\n",
      "3\n",
      "4\n",
      "5\n",
      "6\n",
      "7\n",
      "8\n",
      "9\n"
     ]
    }
   ],
   "source": [
    "for i in range (10):\n",
    "    print(i)"
   ]
  },
  {
   "cell_type": "markdown",
   "id": "4f36b4e5",
   "metadata": {},
   "source": [
    "# list, tuple, set, disct, string in loop iteration\n"
   ]
  },
  {
   "cell_type": "code",
   "execution_count": 26,
   "id": "a28b7172",
   "metadata": {},
   "outputs": [],
   "source": [
    "lt=[1,2,3,4,5,6,7,8,9,10]\n",
    "tup=(1,2,3,4,5,6,7,8,9,10)\n",
    "st={1,2,3,4,5,6,7,8,9,10}\n",
    "dt={'a':1,'b':2,'c':3,'d':4,'e':5}\n",
    "strr=('apple','orange','banana','mango','grapes')"
   ]
  },
  {
   "cell_type": "code",
   "execution_count": 27,
   "id": "defeac59",
   "metadata": {},
   "outputs": [
    {
     "data": {
      "text/plain": [
       "[1, 2, 3, 4, 5, 6, 7, 8, 9, 10]"
      ]
     },
     "execution_count": 27,
     "metadata": {},
     "output_type": "execute_result"
    }
   ],
   "source": [
    "lt"
   ]
  },
  {
   "cell_type": "code",
   "execution_count": 28,
   "id": "91f8337e",
   "metadata": {},
   "outputs": [
    {
     "data": {
      "text/plain": [
       "(1, 2, 3, 4, 5, 6, 7, 8, 9, 10)"
      ]
     },
     "execution_count": 28,
     "metadata": {},
     "output_type": "execute_result"
    }
   ],
   "source": [
    "tup"
   ]
  },
  {
   "cell_type": "code",
   "execution_count": 29,
   "id": "0165d411",
   "metadata": {},
   "outputs": [
    {
     "data": {
      "text/plain": [
       "{1, 2, 3, 4, 5, 6, 7, 8, 9, 10}"
      ]
     },
     "execution_count": 29,
     "metadata": {},
     "output_type": "execute_result"
    }
   ],
   "source": [
    "st"
   ]
  },
  {
   "cell_type": "code",
   "execution_count": 30,
   "id": "de7cc729",
   "metadata": {},
   "outputs": [
    {
     "data": {
      "text/plain": [
       "{'a': 1, 'b': 2, 'c': 3, 'd': 4, 'e': 5}"
      ]
     },
     "execution_count": 30,
     "metadata": {},
     "output_type": "execute_result"
    }
   ],
   "source": [
    "dt"
   ]
  },
  {
   "cell_type": "code",
   "execution_count": 31,
   "id": "c64f787e",
   "metadata": {},
   "outputs": [
    {
     "data": {
      "text/plain": [
       "('apple', 'orange', 'banana', 'mango', 'grapes')"
      ]
     },
     "execution_count": 31,
     "metadata": {},
     "output_type": "execute_result"
    }
   ],
   "source": [
    "strr"
   ]
  },
  {
   "cell_type": "code",
   "execution_count": 40,
   "id": "80480ee7",
   "metadata": {},
   "outputs": [
    {
     "name": "stdout",
     "output_type": "stream",
     "text": [
      "\n",
      " list iteration\n",
      "1\n",
      "2\n",
      "3\n",
      "4\n",
      "5\n",
      "6\n",
      "7\n",
      "8\n",
      "9\n",
      "10\n",
      "\n",
      "1 2 3 4 5 6 7 8 9 10 \n",
      "0 1\n",
      "1 2\n",
      "2 3\n",
      "3 4\n",
      "4 5\n",
      "5 6\n",
      "6 7\n",
      "7 8\n",
      "8 9\n",
      "9 10\n"
     ]
    }
   ],
   "source": [
    "print('\\n list iteration')\n",
    "for i in lt:\n",
    "    print(i)\n",
    "print()\n",
    "for i in range(len(lt)):\n",
    "    print(lt[i], end=' ')\n",
    "print()\n",
    "\n",
    "for i,e in enumerate(lt):\n",
    "    print(i,e)"
   ]
  },
  {
   "cell_type": "code",
   "execution_count": 44,
   "id": "c3182759",
   "metadata": {},
   "outputs": [
    {
     "name": "stdout",
     "output_type": "stream",
     "text": [
      "\n",
      " tuple iteration\n",
      "1\n",
      "2\n",
      "3\n",
      "4\n",
      "5\n",
      "6\n",
      "7\n",
      "8\n",
      "9\n",
      "10\n",
      "\n",
      "1 2 3 4 5 6 7 8 9 10 \n",
      "0 1\n",
      "1 2\n",
      "2 3\n",
      "3 4\n",
      "4 5\n",
      "5 6\n",
      "6 7\n",
      "7 8\n",
      "8 9\n",
      "9 10\n"
     ]
    }
   ],
   "source": [
    "print('\\n tuple iteration')\n",
    "for i in tup:\n",
    "    print(i)\n",
    "print()\n",
    "\n",
    "for i in range(len(tup)):\n",
    "    print( tup[i], end=' ')\n",
    "print()\n",
    "\n",
    "for i,e in enumerate(tup):\n",
    "    print(i,e)"
   ]
  },
  {
   "cell_type": "code",
   "execution_count": 46,
   "id": "5c673767",
   "metadata": {},
   "outputs": [
    {
     "name": "stdout",
     "output_type": "stream",
     "text": [
      "\n",
      " set iteration\n",
      "1\n",
      "2\n",
      "3\n",
      "4\n",
      "5\n",
      "6\n",
      "7\n",
      "8\n",
      "9\n",
      "10\n"
     ]
    },
    {
     "ename": "TypeError",
     "evalue": "'set' object is not subscriptable",
     "output_type": "error",
     "traceback": [
      "\u001b[1;31m---------------------------------------------------------------------------\u001b[0m",
      "\u001b[1;31mTypeError\u001b[0m                                 Traceback (most recent call last)",
      "\u001b[1;32m~\\AppData\\Local\\Temp\\ipykernel_17348\\4092333183.py\u001b[0m in \u001b[0;36m<module>\u001b[1;34m\u001b[0m\n\u001b[0;32m      4\u001b[0m \u001b[1;33m\u001b[0m\u001b[0m\n\u001b[0;32m      5\u001b[0m \u001b[1;32mfor\u001b[0m \u001b[0mi\u001b[0m \u001b[1;32min\u001b[0m \u001b[0mrange\u001b[0m\u001b[1;33m(\u001b[0m\u001b[0mlen\u001b[0m\u001b[1;33m(\u001b[0m\u001b[0mst\u001b[0m\u001b[1;33m)\u001b[0m\u001b[1;33m)\u001b[0m\u001b[1;33m:\u001b[0m\u001b[1;33m\u001b[0m\u001b[1;33m\u001b[0m\u001b[0m\n\u001b[1;32m----> 6\u001b[1;33m     \u001b[0mprint\u001b[0m\u001b[1;33m(\u001b[0m\u001b[0mst\u001b[0m\u001b[1;33m[\u001b[0m\u001b[0mi\u001b[0m\u001b[1;33m]\u001b[0m\u001b[1;33m,\u001b[0m \u001b[0mend\u001b[0m\u001b[1;33m=\u001b[0m\u001b[1;34m' '\u001b[0m\u001b[1;33m)\u001b[0m\u001b[1;33m\u001b[0m\u001b[1;33m\u001b[0m\u001b[0m\n\u001b[0m",
      "\u001b[1;31mTypeError\u001b[0m: 'set' object is not subscriptable"
     ]
    }
   ],
   "source": [
    "print('\\n set iteration')\n",
    "for i in st:\n",
    "    print(i)\n",
    "    \n",
    "    \n",
    "### set is not support for  indexing\n",
    "for i in range(len(st)):\n",
    "    print(st[i], end=' ')"
   ]
  },
  {
   "cell_type": "code",
   "execution_count": 50,
   "id": "46df7643",
   "metadata": {},
   "outputs": [
    {
     "name": "stdout",
     "output_type": "stream",
     "text": [
      "\n",
      " disctionary iteration\n",
      "a\n",
      "b\n",
      "c\n",
      "d\n",
      "e\n",
      "\n",
      "('a', 1)\n",
      "('b', 2)\n",
      "('c', 3)\n",
      "('d', 4)\n",
      "('e', 5)\n",
      "\n",
      "a\n",
      "b\n",
      "c\n",
      "d\n",
      "e\n",
      "\n",
      "1\n",
      "2\n",
      "3\n",
      "4\n",
      "5\n",
      "\n",
      "a : 1\n",
      "b : 2\n",
      "c : 3\n",
      "d : 4\n",
      "e : 5\n"
     ]
    }
   ],
   "source": [
    "print('\\n disctionary iteration')\n",
    "\n",
    "for i in dt:\n",
    "    print(i)\n",
    "print()\n",
    "\n",
    "for i in dt.items():\n",
    "    print(i)\n",
    "print()\n",
    "\n",
    "for i in dt.keys():\n",
    "    print(i)\n",
    "print()\n",
    "\n",
    "for i in dt.values():\n",
    "    print(i)\n",
    "print()\n",
    "\n",
    "for i in dt.keys():\n",
    "    print(i,':', dt[i])"
   ]
  },
  {
   "cell_type": "code",
   "execution_count": 54,
   "id": "3da29507",
   "metadata": {},
   "outputs": [
    {
     "name": "stdout",
     "output_type": "stream",
     "text": [
      "\n",
      " string iteration\n",
      "l\n",
      "i\n",
      "s\n",
      "a\n",
      "n\n",
      "c\n",
      "y\n",
      "l i s a n c y "
     ]
    }
   ],
   "source": [
    "print('\\n string iteration')\n",
    "\n",
    "strr='lisancy'\n",
    "for i in strr:\n",
    "    print(i)\n",
    "    \n",
    "for i in range(len(strr)):\n",
    "    print(strr[i], end=' ')"
   ]
  },
  {
   "cell_type": "markdown",
   "id": "28c8b178",
   "metadata": {},
   "source": [
    "# Nested loop"
   ]
  },
  {
   "cell_type": "code",
   "execution_count": 60,
   "id": "764ce684",
   "metadata": {},
   "outputs": [
    {
     "name": "stdout",
     "output_type": "stream",
     "text": [
      "* \n",
      "* * \n",
      "* * * \n",
      "* * * * \n",
      "* * * * * \n"
     ]
    }
   ],
   "source": [
    "\n",
    "for i in range(1,6):\n",
    "    for j in range(i):\n",
    "        print('*', end=' ')\n",
    "    print()"
   ]
  },
  {
   "cell_type": "markdown",
   "id": "fa259902",
   "metadata": {},
   "source": [
    "# continue and break and pass"
   ]
  },
  {
   "cell_type": "code",
   "execution_count": 66,
   "id": "6ae612ca",
   "metadata": {},
   "outputs": [
    {
     "name": "stdout",
     "output_type": "stream",
     "text": [
      "0\n",
      "1\n",
      "2\n",
      "4\n"
     ]
    }
   ],
   "source": [
    "\n",
    "for i in range(5):\n",
    "    if i==3:\n",
    "        continue\n",
    "    print(i)"
   ]
  },
  {
   "cell_type": "code",
   "execution_count": 78,
   "id": "06fbaca8",
   "metadata": {},
   "outputs": [
    {
     "name": "stdout",
     "output_type": "stream",
     "text": [
      "odd 1\n",
      "odd 3\n",
      "odd 5\n",
      "odd 7\n",
      "odd 9\n",
      "odd 11\n",
      "odd 13\n"
     ]
    }
   ],
   "source": [
    "for i in range(15):\n",
    "    if i%2==0:\n",
    "        continue\n",
    "        print('even',i)\n",
    "    if i%2==1:\n",
    "        print('odd',i)\n",
    "    "
   ]
  },
  {
   "cell_type": "code",
   "execution_count": 84,
   "id": "e7566f19",
   "metadata": {},
   "outputs": [
    {
     "name": "stdout",
     "output_type": "stream",
     "text": [
      "1\n",
      "2\n",
      "3\n",
      "4\n"
     ]
    }
   ],
   "source": [
    "# for i in range(15):\n",
    "#     if i%2==0:\n",
    "#         break\n",
    "#     print(i)\n",
    "\n",
    "for i in range(1,11):\n",
    "    if i%5==0:\n",
    "        break\n",
    "    print(i)\n",
    "\n",
    "    "
   ]
  },
  {
   "cell_type": "code",
   "execution_count": null,
   "id": "b5943c20",
   "metadata": {},
   "outputs": [],
   "source": []
  }
 ],
 "metadata": {
  "kernelspec": {
   "display_name": "Python 3 (ipykernel)",
   "language": "python",
   "name": "python3"
  },
  "language_info": {
   "codemirror_mode": {
    "name": "ipython",
    "version": 3
   },
   "file_extension": ".py",
   "mimetype": "text/x-python",
   "name": "python",
   "nbconvert_exporter": "python",
   "pygments_lexer": "ipython3",
   "version": "3.9.13"
  }
 },
 "nbformat": 4,
 "nbformat_minor": 5
}
