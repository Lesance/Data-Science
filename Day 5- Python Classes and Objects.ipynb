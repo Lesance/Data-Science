{
 "cells": [
  {
   "cell_type": "markdown",
   "id": "b2494a29",
   "metadata": {},
   "source": [
    "# Classes and Objects in python"
   ]
  },
  {
   "cell_type": "code",
   "execution_count": 5,
   "id": "4ae1e23f",
   "metadata": {},
   "outputs": [],
   "source": [
    "class laptop():\n",
    "    def __init__(self, price,processor,ram):\n",
    "        self.price=price\n",
    "        self.processor=processor\n",
    "        self.ram=ram\n",
    "    def display(self):\n",
    "        print(\"Price:\",self.price)\n",
    "        print(\"Price:\",self.processor)\n",
    "        print(\"Price:\",self.ram)\n",
    "        \n",
    "jio=laptop(10000,'i5','8gb')\n",
    "lava=laptop(200000,'i7','8gb')"
   ]
  },
  {
   "cell_type": "code",
   "execution_count": 2,
   "id": "02fe36fc",
   "metadata": {},
   "outputs": [
    {
     "name": "stdout",
     "output_type": "stream",
     "text": [
      "Price: 10000\n",
      "Price: i5\n",
      "Price: 8gb\n"
     ]
    }
   ],
   "source": [
    "jio.display()"
   ]
  },
  {
   "cell_type": "code",
   "execution_count": 3,
   "id": "600febef",
   "metadata": {},
   "outputs": [],
   "source": [
    "lava=laptop(200000,'i7','8gb')"
   ]
  },
  {
   "cell_type": "code",
   "execution_count": 7,
   "id": "362ea68f",
   "metadata": {},
   "outputs": [
    {
     "name": "stdout",
     "output_type": "stream",
     "text": [
      "Price: 200000\n",
      "Price: i7\n",
      "Price: 8gb\n"
     ]
    }
   ],
   "source": [
    "lava.display()"
   ]
  },
  {
   "cell_type": "markdown",
   "id": "3300e346",
   "metadata": {},
   "source": [
    "### instantating a class"
   ]
  },
  {
   "cell_type": "code",
   "execution_count": 8,
   "id": "6fa40c42",
   "metadata": {},
   "outputs": [],
   "source": [
    "# create a class called employee with 2 variables id and name."
   ]
  },
  {
   "cell_type": "code",
   "execution_count": 16,
   "id": "2ce8cedf",
   "metadata": {},
   "outputs": [],
   "source": [
    "class Employee:\n",
    "    def __init__(self,id:int,name:str):\n",
    "        self.id=id\n",
    "        self.name=name\n",
    "    def display(self):\n",
    "        print(\"ID:\",self.id)\n",
    "        print(\"Name:\",self.name)\n",
    "    \n",
    "        "
   ]
  },
  {
   "cell_type": "code",
   "execution_count": 17,
   "id": "4e78bb1f",
   "metadata": {},
   "outputs": [
    {
     "name": "stdout",
     "output_type": "stream",
     "text": [
      "ID: 1\n",
      "Name: lisa\n"
     ]
    }
   ],
   "source": [
    "emp1=Employee(1,'lisa')\n",
    "emp1.display()"
   ]
  },
  {
   "cell_type": "code",
   "execution_count": 18,
   "id": "256ecf2f",
   "metadata": {},
   "outputs": [
    {
     "name": "stdout",
     "output_type": "stream",
     "text": [
      "ID: 2\n",
      "Name: jio\n"
     ]
    }
   ],
   "source": [
    "emp2=Employee(2,'jio')\n",
    "emp2.display()"
   ]
  },
  {
   "cell_type": "code",
   "execution_count": 19,
   "id": "c6d4f1c2",
   "metadata": {},
   "outputs": [
    {
     "name": "stdout",
     "output_type": "stream",
     "text": [
      "ID: 3\n",
      "Name: ashokan\n"
     ]
    }
   ],
   "source": [
    "emp3=Employee(3,'ashokan')\n",
    "emp3.display()"
   ]
  },
  {
   "cell_type": "code",
   "execution_count": 20,
   "id": "5a3fbd3f",
   "metadata": {},
   "outputs": [],
   "source": [
    "class Teacher:\n",
    "    def __init__(self,name,regno):\n",
    "        self.name=name\n",
    "        self.regno=regno\n",
    "    def display(self):\n",
    "        print(\"Teacher Name:\",self.name)\n",
    "        print(\"Reg No:\",self.regno)\n",
    "        "
   ]
  },
  {
   "cell_type": "code",
   "execution_count": 21,
   "id": "ae2e34ea",
   "metadata": {},
   "outputs": [
    {
     "name": "stdout",
     "output_type": "stream",
     "text": [
      "Teacher Name: sana\n",
      "Reg No: 234\n",
      "Teacher Name: abi\n",
      "Reg No: 435\n"
     ]
    }
   ],
   "source": [
    "c1=Teacher('sana',234)\n",
    "c2=Teacher('abi',435)\n",
    "\n",
    "c1.display()\n",
    "c2.display()"
   ]
  },
  {
   "cell_type": "markdown",
   "id": "58dc3285",
   "metadata": {},
   "source": [
    "# Types of class variable"
   ]
  },
  {
   "cell_type": "code",
   "execution_count": 22,
   "id": "63b5f837",
   "metadata": {},
   "outputs": [],
   "source": [
    "# this is the example of constructor because you have mention the self. \n",
    "# inevery where in  the constructor i.e, instance variable.\n",
    "\n",
    "class Phone:\n",
    "    def __init__(self,price,brand,ctype): # this is called constructor\n",
    "        self.price=price\n",
    "        self.brand=brand\n",
    "        self.chargertype=ctype\n",
    "    def display(self):\n",
    "        print(\"Price:\",self.price)\n",
    "        print(\"Brand:\",self.brand)\n",
    "        print(\"Chargertype:\",self.chargertype)\n",
    "        "
   ]
  },
  {
   "cell_type": "code",
   "execution_count": 23,
   "id": "0d3f92d3",
   "metadata": {},
   "outputs": [
    {
     "name": "stdout",
     "output_type": "stream",
     "text": [
      "Price: 2000\n",
      "Brand: jio\n",
      "Chargertype: ctype\n"
     ]
    }
   ],
   "source": [
    "jio=Phone(2000,'jio','ctype')\n",
    "jio.display()"
   ]
  },
  {
   "cell_type": "code",
   "execution_count": 26,
   "id": "a04e406f",
   "metadata": {},
   "outputs": [],
   "source": [
    "# here you have the charger type for all the phone is c-type only.  \n",
    "# only one type charger you  have means, you just mention those variable as a 'class variable'\n",
    "# so than no need to call multiple type. and no need to mention in an inside instance variable.\n",
    "## Class variable you have to mention in the class object\n",
    "\n",
    "class Phone:\n",
    "    chargertype='C-TYPE'\n",
    "    def __init__(self,price,brand): # this is called constructor\n",
    "        self.price=price\n",
    "        self.brand=brand\n",
    "    def display(self):\n",
    "        print(\"Price:\",self.price)\n",
    "        print(\"Brand:\",self.brand)\n",
    "        print(\"Chargertype:\",self.chargertype)"
   ]
  },
  {
   "cell_type": "code",
   "execution_count": 27,
   "id": "e2c9539c",
   "metadata": {},
   "outputs": [
    {
     "name": "stdout",
     "output_type": "stream",
     "text": [
      "Price: 2000\n",
      "Brand: jio\n",
      "Chargertype: C-TYPE\n"
     ]
    }
   ],
   "source": [
    "jio=Phone(2000,'jio')\n",
    "jio.display()"
   ]
  },
  {
   "cell_type": "markdown",
   "id": "4bf5a935",
   "metadata": {},
   "source": [
    "# Different types of class methods(functions)"
   ]
  },
  {
   "cell_type": "code",
   "execution_count": 43,
   "id": "c3f47dff",
   "metadata": {},
   "outputs": [],
   "source": [
    "class Laptop:\n",
    "    # class variable\n",
    "    chargertype='C-TYPE'\n",
    "    # instance method\n",
    "    def __init__(self,price,brand): # this is called constructor\n",
    "        self.price=price\n",
    "        self.brand=brand\n",
    "    # class method \n",
    "    @classmethod\n",
    "    def chargertype(cls):\n",
    "        cls.chargertype=\"B-TYPE\"\n",
    "        print(\"Charger type as changed to B-TYPE\")\n",
    "    # static method\n",
    "    @staticmethod\n",
    "    def info():\n",
    "        print(\"This is laptop class\")    \n",
    "#     def display(self):\n",
    "#         print(\"Price:\",self.price)\n",
    "#         print(\"Brand:\",self.brand)\n",
    "#         print(\"Chargertype:\",self.chargertype)"
   ]
  },
  {
   "cell_type": "code",
   "execution_count": 44,
   "id": "48cba818",
   "metadata": {},
   "outputs": [],
   "source": [
    "l1=Laptop(2000,'lenova')"
   ]
  },
  {
   "cell_type": "code",
   "execution_count": 45,
   "id": "17274733",
   "metadata": {},
   "outputs": [
    {
     "name": "stdout",
     "output_type": "stream",
     "text": [
      "Charger type as changed to B-TYPE\n"
     ]
    }
   ],
   "source": [
    "Laptop.chargertype()"
   ]
  },
  {
   "cell_type": "code",
   "execution_count": null,
   "id": "4d73238a",
   "metadata": {},
   "outputs": [],
   "source": []
  }
 ],
 "metadata": {
  "kernelspec": {
   "display_name": "Python 3 (ipykernel)",
   "language": "python",
   "name": "python3"
  },
  "language_info": {
   "codemirror_mode": {
    "name": "ipython",
    "version": 3
   },
   "file_extension": ".py",
   "mimetype": "text/x-python",
   "name": "python",
   "nbconvert_exporter": "python",
   "pygments_lexer": "ipython3",
   "version": "3.9.13"
  }
 },
 "nbformat": 4,
 "nbformat_minor": 5
}
