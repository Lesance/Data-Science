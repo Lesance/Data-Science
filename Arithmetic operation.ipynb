{
 "cells": [
  {
   "cell_type": "markdown",
   "id": "d4f375d2",
   "metadata": {},
   "source": [
    "# addition"
   ]
  },
  {
   "cell_type": "code",
   "execution_count": 7,
   "id": "b994621f",
   "metadata": {},
   "outputs": [
    {
     "data": {
      "text/plain": [
       "12"
      ]
     },
     "execution_count": 7,
     "metadata": {},
     "output_type": "execute_result"
    }
   ],
   "source": [
    "10+2"
   ]
  },
  {
   "cell_type": "code",
   "execution_count": 8,
   "id": "e03a229f",
   "metadata": {},
   "outputs": [
    {
     "data": {
      "text/plain": [
       "50"
      ]
     },
     "execution_count": 8,
     "metadata": {},
     "output_type": "execute_result"
    }
   ],
   "source": [
    "20+30"
   ]
  },
  {
   "cell_type": "markdown",
   "id": "5abec626",
   "metadata": {},
   "source": [
    "## subtraction"
   ]
  },
  {
   "cell_type": "code",
   "execution_count": 11,
   "id": "2f428ea0",
   "metadata": {},
   "outputs": [
    {
     "data": {
      "text/plain": [
       "8"
      ]
     },
     "execution_count": 11,
     "metadata": {},
     "output_type": "execute_result"
    }
   ],
   "source": [
    "10-2"
   ]
  },
  {
   "cell_type": "code",
   "execution_count": 12,
   "id": "fd3a5171",
   "metadata": {},
   "outputs": [
    {
     "data": {
      "text/plain": [
       "17"
      ]
     },
     "execution_count": 12,
     "metadata": {},
     "output_type": "execute_result"
    }
   ],
   "source": [
    "20-3"
   ]
  },
  {
   "cell_type": "markdown",
   "id": "38fb9128",
   "metadata": {},
   "source": [
    "# multiplication"
   ]
  },
  {
   "cell_type": "code",
   "execution_count": 13,
   "id": "7941eba8",
   "metadata": {},
   "outputs": [
    {
     "data": {
      "text/plain": [
       "40"
      ]
     },
     "execution_count": 13,
     "metadata": {},
     "output_type": "execute_result"
    }
   ],
   "source": [
    "20*2"
   ]
  },
  {
   "cell_type": "code",
   "execution_count": 14,
   "id": "9ea72d7d",
   "metadata": {},
   "outputs": [
    {
     "data": {
      "text/plain": [
       "210"
      ]
     },
     "execution_count": 14,
     "metadata": {},
     "output_type": "execute_result"
    }
   ],
   "source": [
    "30*7"
   ]
  },
  {
   "cell_type": "markdown",
   "id": "78ff6788",
   "metadata": {},
   "source": [
    "# Division"
   ]
  },
  {
   "cell_type": "code",
   "execution_count": 15,
   "id": "731185e1",
   "metadata": {},
   "outputs": [
    {
     "data": {
      "text/plain": [
       "2.0"
      ]
     },
     "execution_count": 15,
     "metadata": {},
     "output_type": "execute_result"
    }
   ],
   "source": [
    "10/5"
   ]
  },
  {
   "cell_type": "code",
   "execution_count": 16,
   "id": "e69322c4",
   "metadata": {},
   "outputs": [
    {
     "data": {
      "text/plain": [
       "5.0"
      ]
     },
     "execution_count": 16,
     "metadata": {},
     "output_type": "execute_result"
    }
   ],
   "source": [
    "20/4"
   ]
  },
  {
   "cell_type": "code",
   "execution_count": 17,
   "id": "0c5b6739",
   "metadata": {},
   "outputs": [
    {
     "data": {
      "text/plain": [
       "15.25"
      ]
     },
     "execution_count": 17,
     "metadata": {},
     "output_type": "execute_result"
    }
   ],
   "source": [
    "30.5/2"
   ]
  },
  {
   "cell_type": "markdown",
   "id": "91235132",
   "metadata": {},
   "source": [
    "# power or exponential"
   ]
  },
  {
   "cell_type": "code",
   "execution_count": 18,
   "id": "b234289e",
   "metadata": {},
   "outputs": [
    {
     "data": {
      "text/plain": [
       "8"
      ]
     },
     "execution_count": 18,
     "metadata": {},
     "output_type": "execute_result"
    }
   ],
   "source": [
    "2**3"
   ]
  },
  {
   "cell_type": "code",
   "execution_count": 19,
   "id": "71fe8713",
   "metadata": {},
   "outputs": [
    {
     "data": {
      "text/plain": [
       "81"
      ]
     },
     "execution_count": 19,
     "metadata": {},
     "output_type": "execute_result"
    }
   ],
   "source": [
    "3**4"
   ]
  },
  {
   "cell_type": "code",
   "execution_count": 21,
   "id": "00bdfc40",
   "metadata": {},
   "outputs": [
    {
     "data": {
      "text/plain": [
       "8"
      ]
     },
     "execution_count": 21,
     "metadata": {},
     "output_type": "execute_result"
    }
   ],
   "source": [
    "pow(2,3)"
   ]
  },
  {
   "cell_type": "markdown",
   "id": "dfe4550d",
   "metadata": {},
   "source": [
    "# Quotient"
   ]
  },
  {
   "cell_type": "code",
   "execution_count": 23,
   "id": "508925c7",
   "metadata": {},
   "outputs": [
    {
     "data": {
      "text/plain": [
       "5"
      ]
     },
     "execution_count": 23,
     "metadata": {},
     "output_type": "execute_result"
    }
   ],
   "source": [
    "10//2"
   ]
  },
  {
   "cell_type": "code",
   "execution_count": 27,
   "id": "52b2fc53",
   "metadata": {},
   "outputs": [
    {
     "data": {
      "text/plain": [
       "6"
      ]
     },
     "execution_count": 27,
     "metadata": {},
     "output_type": "execute_result"
    }
   ],
   "source": [
    "20//3"
   ]
  },
  {
   "cell_type": "code",
   "execution_count": 28,
   "id": "36f19a5a",
   "metadata": {},
   "outputs": [
    {
     "data": {
      "text/plain": [
       "7"
      ]
     },
     "execution_count": 28,
     "metadata": {},
     "output_type": "execute_result"
    }
   ],
   "source": [
    "30//4"
   ]
  },
  {
   "cell_type": "code",
   "execution_count": 29,
   "id": "6df71a5c",
   "metadata": {},
   "outputs": [
    {
     "data": {
      "text/plain": [
       "10.0"
      ]
     },
     "execution_count": 29,
     "metadata": {},
     "output_type": "execute_result"
    }
   ],
   "source": [
    "20.5//2"
   ]
  },
  {
   "cell_type": "markdown",
   "id": "0fa984a3",
   "metadata": {},
   "source": [
    "\n",
    "# modulus"
   ]
  },
  {
   "cell_type": "code",
   "execution_count": 30,
   "id": "7d17e9a6",
   "metadata": {},
   "outputs": [
    {
     "data": {
      "text/plain": [
       "0"
      ]
     },
     "execution_count": 30,
     "metadata": {},
     "output_type": "execute_result"
    }
   ],
   "source": [
    "10%2"
   ]
  },
  {
   "cell_type": "code",
   "execution_count": 32,
   "id": "b3aee71f",
   "metadata": {},
   "outputs": [
    {
     "data": {
      "text/plain": [
       "1"
      ]
     },
     "execution_count": 32,
     "metadata": {},
     "output_type": "execute_result"
    }
   ],
   "source": [
    "10%3"
   ]
  },
  {
   "cell_type": "code",
   "execution_count": 33,
   "id": "fe0a6606",
   "metadata": {},
   "outputs": [
    {
     "data": {
      "text/plain": [
       "2"
      ]
     },
     "execution_count": 33,
     "metadata": {},
     "output_type": "execute_result"
    }
   ],
   "source": [
    "10%4"
   ]
  },
  {
   "cell_type": "code",
   "execution_count": 34,
   "id": "71e75894",
   "metadata": {},
   "outputs": [
    {
     "data": {
      "text/plain": [
       "0"
      ]
     },
     "execution_count": 34,
     "metadata": {},
     "output_type": "execute_result"
    }
   ],
   "source": [
    "10%5"
   ]
  },
  {
   "cell_type": "code",
   "execution_count": null,
   "id": "4dc0328b",
   "metadata": {},
   "outputs": [],
   "source": []
  },
  {
   "cell_type": "markdown",
   "id": "4192dd72",
   "metadata": {},
   "source": [
    "# Variables"
   ]
  },
  {
   "cell_type": "code",
   "execution_count": 1,
   "id": "d866af33",
   "metadata": {},
   "outputs": [],
   "source": [
    "# in python variable is case sensitive upper and lower case will consider as a different variable name in python.\n",
    "# variable can start with only letters or '_' (it can be both upper and lower case)\n",
    "var=20\n"
   ]
  },
  {
   "cell_type": "code",
   "execution_count": 2,
   "id": "ca7bca3e",
   "metadata": {},
   "outputs": [
    {
     "data": {
      "text/plain": [
       "20"
      ]
     },
     "execution_count": 2,
     "metadata": {},
     "output_type": "execute_result"
    }
   ],
   "source": [
    "var"
   ]
  },
  {
   "cell_type": "code",
   "execution_count": 4,
   "id": "b064e397",
   "metadata": {},
   "outputs": [],
   "source": [
    "var_=10"
   ]
  },
  {
   "cell_type": "code",
   "execution_count": 5,
   "id": "15e2de79",
   "metadata": {},
   "outputs": [
    {
     "data": {
      "text/plain": [
       "10"
      ]
     },
     "execution_count": 5,
     "metadata": {},
     "output_type": "execute_result"
    }
   ],
   "source": [
    "var_"
   ]
  },
  {
   "cell_type": "code",
   "execution_count": 6,
   "id": "9ce13e6f",
   "metadata": {},
   "outputs": [],
   "source": [
    "_var1=223"
   ]
  },
  {
   "cell_type": "code",
   "execution_count": 7,
   "id": "9f3d97b4",
   "metadata": {},
   "outputs": [
    {
     "data": {
      "text/plain": [
       "223"
      ]
     },
     "execution_count": 7,
     "metadata": {},
     "output_type": "execute_result"
    }
   ],
   "source": [
    "_var1"
   ]
  },
  {
   "cell_type": "code",
   "execution_count": 8,
   "id": "57832f1c",
   "metadata": {},
   "outputs": [],
   "source": [
    "\n",
    "# let try for arithmentic opertion using variable name\n"
   ]
  },
  {
   "cell_type": "code",
   "execution_count": 9,
   "id": "766b2900",
   "metadata": {},
   "outputs": [],
   "source": [
    "x=100\n",
    "y=20"
   ]
  },
  {
   "cell_type": "markdown",
   "id": "65d5e6d3",
   "metadata": {},
   "source": [
    "# Addition"
   ]
  },
  {
   "cell_type": "code",
   "execution_count": 10,
   "id": "6b94cfdc",
   "metadata": {},
   "outputs": [
    {
     "data": {
      "text/plain": [
       "120"
      ]
     },
     "execution_count": 10,
     "metadata": {},
     "output_type": "execute_result"
    }
   ],
   "source": [
    "x+y"
   ]
  },
  {
   "cell_type": "markdown",
   "id": "02ba5606",
   "metadata": {},
   "source": [
    "# Subtraction"
   ]
  },
  {
   "cell_type": "code",
   "execution_count": 11,
   "id": "c8f494e6",
   "metadata": {},
   "outputs": [
    {
     "data": {
      "text/plain": [
       "80"
      ]
     },
     "execution_count": 11,
     "metadata": {},
     "output_type": "execute_result"
    }
   ],
   "source": [
    "x-y"
   ]
  },
  {
   "cell_type": "markdown",
   "id": "fa6fb042",
   "metadata": {},
   "source": [
    "# Multiplication"
   ]
  },
  {
   "cell_type": "code",
   "execution_count": 12,
   "id": "71b83334",
   "metadata": {},
   "outputs": [
    {
     "data": {
      "text/plain": [
       "2000"
      ]
     },
     "execution_count": 12,
     "metadata": {},
     "output_type": "execute_result"
    }
   ],
   "source": [
    "x*y"
   ]
  },
  {
   "cell_type": "markdown",
   "id": "8f09c2cc",
   "metadata": {},
   "source": [
    "# Division"
   ]
  },
  {
   "cell_type": "code",
   "execution_count": 13,
   "id": "b4ca54d4",
   "metadata": {},
   "outputs": [
    {
     "data": {
      "text/plain": [
       "5.0"
      ]
     },
     "execution_count": 13,
     "metadata": {},
     "output_type": "execute_result"
    }
   ],
   "source": [
    "x/y"
   ]
  },
  {
   "cell_type": "markdown",
   "id": "e96aef27",
   "metadata": {},
   "source": [
    "# quotient"
   ]
  },
  {
   "cell_type": "code",
   "execution_count": 14,
   "id": "2db2015a",
   "metadata": {},
   "outputs": [
    {
     "data": {
      "text/plain": [
       "5"
      ]
     },
     "execution_count": 14,
     "metadata": {},
     "output_type": "execute_result"
    }
   ],
   "source": [
    "x//y"
   ]
  },
  {
   "cell_type": "markdown",
   "id": "8ee9bff5",
   "metadata": {},
   "source": [
    "# modulus"
   ]
  },
  {
   "cell_type": "code",
   "execution_count": 15,
   "id": "d84f67b0",
   "metadata": {},
   "outputs": [
    {
     "data": {
      "text/plain": [
       "0"
      ]
     },
     "execution_count": 15,
     "metadata": {},
     "output_type": "execute_result"
    }
   ],
   "source": [
    "x%y"
   ]
  },
  {
   "cell_type": "markdown",
   "id": "f15363d1",
   "metadata": {},
   "source": [
    "## Exp"
   ]
  },
  {
   "cell_type": "code",
   "execution_count": 16,
   "id": "07a7ebce",
   "metadata": {},
   "outputs": [
    {
     "data": {
      "text/plain": [
       "10000000000000000000000000000000000000000"
      ]
     },
     "execution_count": 16,
     "metadata": {},
     "output_type": "execute_result"
    }
   ],
   "source": [
    "x**y"
   ]
  },
  {
   "cell_type": "code",
   "execution_count": 17,
   "id": "00ff30ce",
   "metadata": {},
   "outputs": [
    {
     "data": {
      "text/plain": [
       "10000000000000000000000000000000000000000"
      ]
     },
     "execution_count": 17,
     "metadata": {},
     "output_type": "execute_result"
    }
   ],
   "source": [
    "pow(x,y)"
   ]
  },
  {
   "cell_type": "markdown",
   "id": "443ea36c",
   "metadata": {},
   "source": [
    "# Data types"
   ]
  },
  {
   "cell_type": "code",
   "execution_count": 18,
   "id": "f3f73154",
   "metadata": {},
   "outputs": [],
   "source": [
    "# type function is used to show the data types in python"
   ]
  },
  {
   "cell_type": "code",
   "execution_count": 19,
   "id": "8b901d2a",
   "metadata": {},
   "outputs": [],
   "source": [
    "x=10"
   ]
  },
  {
   "cell_type": "code",
   "execution_count": 20,
   "id": "fe190bee",
   "metadata": {},
   "outputs": [
    {
     "data": {
      "text/plain": [
       "int"
      ]
     },
     "execution_count": 20,
     "metadata": {},
     "output_type": "execute_result"
    }
   ],
   "source": [
    "type(x)"
   ]
  },
  {
   "cell_type": "code",
   "execution_count": 21,
   "id": "c889d060",
   "metadata": {},
   "outputs": [],
   "source": [
    "x=1.34"
   ]
  },
  {
   "cell_type": "code",
   "execution_count": 23,
   "id": "a13e9b11",
   "metadata": {},
   "outputs": [
    {
     "data": {
      "text/plain": [
       "float"
      ]
     },
     "execution_count": 23,
     "metadata": {},
     "output_type": "execute_result"
    }
   ],
   "source": [
    "type(x)"
   ]
  },
  {
   "cell_type": "code",
   "execution_count": 24,
   "id": "455283f1",
   "metadata": {},
   "outputs": [],
   "source": [
    "x='345'"
   ]
  },
  {
   "cell_type": "code",
   "execution_count": 25,
   "id": "9f0ea597",
   "metadata": {},
   "outputs": [
    {
     "data": {
      "text/plain": [
       "str"
      ]
     },
     "execution_count": 25,
     "metadata": {},
     "output_type": "execute_result"
    }
   ],
   "source": [
    "type(x)"
   ]
  },
  {
   "cell_type": "code",
   "execution_count": 26,
   "id": "eef597b3",
   "metadata": {},
   "outputs": [],
   "source": [
    "x=[1,2,3,'Helllo']"
   ]
  },
  {
   "cell_type": "code",
   "execution_count": 27,
   "id": "36ea1e24",
   "metadata": {},
   "outputs": [
    {
     "data": {
      "text/plain": [
       "list"
      ]
     },
     "execution_count": 27,
     "metadata": {},
     "output_type": "execute_result"
    }
   ],
   "source": [
    "type(x)"
   ]
  },
  {
   "cell_type": "code",
   "execution_count": 28,
   "id": "4d1ad7e8",
   "metadata": {},
   "outputs": [],
   "source": [
    "x=(1,2,3,'hello')"
   ]
  },
  {
   "cell_type": "code",
   "execution_count": 29,
   "id": "3c4a7ea1",
   "metadata": {},
   "outputs": [
    {
     "data": {
      "text/plain": [
       "tuple"
      ]
     },
     "execution_count": 29,
     "metadata": {},
     "output_type": "execute_result"
    }
   ],
   "source": [
    "type(x)"
   ]
  },
  {
   "cell_type": "code",
   "execution_count": 48,
   "id": "0c655f79",
   "metadata": {},
   "outputs": [],
   "source": [
    "x={1,2,3,'hello',True}"
   ]
  },
  {
   "cell_type": "code",
   "execution_count": 49,
   "id": "8bffa176",
   "metadata": {},
   "outputs": [
    {
     "data": {
      "text/plain": [
       "set"
      ]
     },
     "execution_count": 49,
     "metadata": {},
     "output_type": "execute_result"
    }
   ],
   "source": [
    "type(x)"
   ]
  },
  {
   "cell_type": "code",
   "execution_count": 32,
   "id": "a34b0b46",
   "metadata": {},
   "outputs": [],
   "source": [
    "x={1:'lesa',2:'vky','dad':'shan','mom':'deepa'}"
   ]
  },
  {
   "cell_type": "code",
   "execution_count": 33,
   "id": "e2766a71",
   "metadata": {},
   "outputs": [
    {
     "data": {
      "text/plain": [
       "dict"
      ]
     },
     "execution_count": 33,
     "metadata": {},
     "output_type": "execute_result"
    }
   ],
   "source": [
    "type(x)"
   ]
  },
  {
   "cell_type": "code",
   "execution_count": 35,
   "id": "3bd6775d",
   "metadata": {},
   "outputs": [
    {
     "data": {
      "text/plain": [
       "{1: 'lesa', 2: 'vky', 'dad': 'shan', 'mom': 'deepa'}"
      ]
     },
     "execution_count": 35,
     "metadata": {},
     "output_type": "execute_result"
    }
   ],
   "source": [
    "x"
   ]
  },
  {
   "cell_type": "code",
   "execution_count": 38,
   "id": "05b75a6e",
   "metadata": {},
   "outputs": [],
   "source": [
    "x=3+4j"
   ]
  },
  {
   "cell_type": "code",
   "execution_count": 39,
   "id": "a4b43f78",
   "metadata": {},
   "outputs": [
    {
     "data": {
      "text/plain": [
       "complex"
      ]
     },
     "execution_count": 39,
     "metadata": {},
     "output_type": "execute_result"
    }
   ],
   "source": [
    "type(x)"
   ]
  },
  {
   "cell_type": "markdown",
   "id": "b7ce25f0",
   "metadata": {},
   "source": [
    "# type casting"
   ]
  },
  {
   "cell_type": "code",
   "execution_count": 42,
   "id": "90d02bd5",
   "metadata": {},
   "outputs": [],
   "source": [
    "# type casting means we can convert data type as we want.  like int to float, float to int, int to string etc. usinf keyword"
   ]
  },
  {
   "cell_type": "code",
   "execution_count": 51,
   "id": "05d05ed5",
   "metadata": {},
   "outputs": [
    {
     "data": {
      "text/plain": [
       "24"
      ]
     },
     "execution_count": 51,
     "metadata": {},
     "output_type": "execute_result"
    }
   ],
   "source": [
    "x=24\n",
    "int(x)"
   ]
  },
  {
   "cell_type": "code",
   "execution_count": 46,
   "id": "222d60ff",
   "metadata": {},
   "outputs": [
    {
     "data": {
      "text/plain": [
       "24.0"
      ]
     },
     "execution_count": 46,
     "metadata": {},
     "output_type": "execute_result"
    }
   ],
   "source": [
    "float(x)"
   ]
  },
  {
   "cell_type": "code",
   "execution_count": 52,
   "id": "28652860",
   "metadata": {},
   "outputs": [
    {
     "data": {
      "text/plain": [
       "'24'"
      ]
     },
     "execution_count": 52,
     "metadata": {},
     "output_type": "execute_result"
    }
   ],
   "source": [
    "str(x)"
   ]
  },
  {
   "cell_type": "markdown",
   "id": "c61f0c27",
   "metadata": {},
   "source": [
    "# User input and formating print statement"
   ]
  },
  {
   "cell_type": "code",
   "execution_count": 54,
   "id": "a9920bd7",
   "metadata": {},
   "outputs": [
    {
     "name": "stdout",
     "output_type": "stream",
     "text": [
      "enter you age25\n"
     ]
    }
   ],
   "source": [
    "x=input('enter you age ')"
   ]
  },
  {
   "cell_type": "code",
   "execution_count": 56,
   "id": "048d99b7",
   "metadata": {},
   "outputs": [
    {
     "data": {
      "text/plain": [
       "str"
      ]
     },
     "execution_count": 56,
     "metadata": {},
     "output_type": "execute_result"
    }
   ],
   "source": [
    "type(x)"
   ]
  },
  {
   "cell_type": "code",
   "execution_count": 58,
   "id": "1d923929",
   "metadata": {},
   "outputs": [
    {
     "name": "stdout",
     "output_type": "stream",
     "text": [
      "enter you age 25\n"
     ]
    }
   ],
   "source": [
    "x=int(input('enter you age '))"
   ]
  },
  {
   "cell_type": "code",
   "execution_count": 59,
   "id": "28279973",
   "metadata": {},
   "outputs": [
    {
     "data": {
      "text/plain": [
       "int"
      ]
     },
     "execution_count": 59,
     "metadata": {},
     "output_type": "execute_result"
    }
   ],
   "source": [
    "type(x)"
   ]
  },
  {
   "cell_type": "markdown",
   "id": "1180011b",
   "metadata": {},
   "source": [
    "# Formating print statement in different ways"
   ]
  },
  {
   "cell_type": "code",
   "execution_count": 60,
   "id": "74306420",
   "metadata": {},
   "outputs": [
    {
     "name": "stdout",
     "output_type": "stream",
     "text": [
      "25\n"
     ]
    }
   ],
   "source": [
    "print(x)"
   ]
  },
  {
   "cell_type": "code",
   "execution_count": 61,
   "id": "e010c433",
   "metadata": {},
   "outputs": [
    {
     "name": "stdout",
     "output_type": "stream",
     "text": [
      "20\n"
     ]
    }
   ],
   "source": [
    "print(y)"
   ]
  },
  {
   "cell_type": "code",
   "execution_count": 62,
   "id": "c5d8fd2b",
   "metadata": {},
   "outputs": [
    {
     "name": "stdout",
     "output_type": "stream",
     "text": [
      "x\n"
     ]
    }
   ],
   "source": [
    "print('x')"
   ]
  },
  {
   "cell_type": "code",
   "execution_count": 63,
   "id": "ef8074b3",
   "metadata": {},
   "outputs": [
    {
     "name": "stdout",
     "output_type": "stream",
     "text": [
      "y\n"
     ]
    }
   ],
   "source": [
    "print('y')"
   ]
  },
  {
   "cell_type": "code",
   "execution_count": 64,
   "id": "14cb58b8",
   "metadata": {},
   "outputs": [
    {
     "name": "stdout",
     "output_type": "stream",
     "text": [
      "hi im good\n"
     ]
    }
   ],
   "source": [
    "print('hi im good')"
   ]
  },
  {
   "cell_type": "code",
   "execution_count": 65,
   "id": "06e3a9ab",
   "metadata": {},
   "outputs": [
    {
     "name": "stdout",
     "output_type": "stream",
     "text": [
      "hi im good 25\n"
     ]
    }
   ],
   "source": [
    "print('hi im good {}'.format(x))"
   ]
  },
  {
   "cell_type": "code",
   "execution_count": 68,
   "id": "16969b40",
   "metadata": {},
   "outputs": [
    {
     "name": "stdout",
     "output_type": "stream",
     "text": [
      "hi im fine, how are you\n"
     ]
    }
   ],
   "source": [
    "x='how are you'\n",
    "print('hi im fine, {a}'.format(a=x))"
   ]
  },
  {
   "cell_type": "code",
   "execution_count": 70,
   "id": "9e3ac92a",
   "metadata": {},
   "outputs": [
    {
     "name": "stdout",
     "output_type": "stream",
     "text": [
      "index 2 and index3\n"
     ]
    }
   ],
   "source": [
    "# index start with  0th first\n",
    "x=1\n",
    "y=2\n",
    "z=3\n",
    "print('index {1} and index{2}'.format(x,y,z))"
   ]
  },
  {
   "cell_type": "code",
   "execution_count": 71,
   "id": "8c7a8637",
   "metadata": {},
   "outputs": [
    {
     "name": "stdout",
     "output_type": "stream",
     "text": [
      "index 1 and index2\n"
     ]
    }
   ],
   "source": [
    "print('index {} and index{}'.format(x,y,z))"
   ]
  },
  {
   "cell_type": "markdown",
   "id": "8b12bf42",
   "metadata": {},
   "source": [
    "# Indentation"
   ]
  },
  {
   "cell_type": "code",
   "execution_count": 72,
   "id": "23983b3c",
   "metadata": {},
   "outputs": [],
   "source": [
    "# indentation is the very important one in python programing to write function you can correctly handel indentation"
   ]
  },
  {
   "cell_type": "code",
   "execution_count": 73,
   "id": "b89c270b",
   "metadata": {},
   "outputs": [
    {
     "name": "stdout",
     "output_type": "stream",
     "text": [
      "0\n",
      "1\n",
      "2\n",
      "3\n"
     ]
    }
   ],
   "source": [
    "\n",
    "for i in range(0,4):\n",
    "    print(i)"
   ]
  },
  {
   "cell_type": "code",
   "execution_count": 76,
   "id": "66056538",
   "metadata": {},
   "outputs": [
    {
     "name": "stdout",
     "output_type": "stream",
     "text": [
      "20\n"
     ]
    }
   ],
   "source": [
    "a=10\n",
    "b=20\n",
    "if(a>b):\n",
    "    print(a)\n",
    "else:\n",
    "    print(b)"
   ]
  },
  {
   "cell_type": "code",
   "execution_count": 78,
   "id": "2b0e799a",
   "metadata": {},
   "outputs": [
    {
     "name": "stdout",
     "output_type": "stream",
     "text": [
      "23\n"
     ]
    }
   ],
   "source": [
    "a=10\n",
    "b=20\n",
    "c=23\n",
    "if(a>b):\n",
    "    print(a)\n",
    "else:\n",
    "    print(c)"
   ]
  },
  {
   "cell_type": "markdown",
   "id": "d2e0c3a0",
   "metadata": {},
   "source": [
    "# if statement"
   ]
  },
  {
   "cell_type": "code",
   "execution_count": 92,
   "id": "cc24c20e",
   "metadata": {},
   "outputs": [
    {
     "name": "stdout",
     "output_type": "stream",
     "text": [
      "given numer is not divided by 5 or 7\n"
     ]
    }
   ],
   "source": [
    "if(x%2==0):\n",
    "    print('given number is even')\n",
    "elif((x%5==0) or (x%7==0)):\n",
    "    print('give number is divided by 5 or 7')\n",
    "else:\n",
    "    print('given number is not divided by 5 or 7')"
   ]
  },
  {
   "cell_type": "code",
   "execution_count": 91,
   "id": "fc36e580",
   "metadata": {},
   "outputs": [],
   "source": [
    "x=13"
   ]
  },
  {
   "cell_type": "markdown",
   "id": "477e33d6",
   "metadata": {},
   "source": [
    "# list and indexing"
   ]
  },
  {
   "cell_type": "code",
   "execution_count": 93,
   "id": "f82c18a3",
   "metadata": {},
   "outputs": [],
   "source": [
    "lt=[1,2,3,4,5,6,7,8,9,10]"
   ]
  },
  {
   "cell_type": "code",
   "execution_count": 94,
   "id": "70960ae2",
   "metadata": {},
   "outputs": [
    {
     "data": {
      "text/plain": [
       "[1, 2, 3, 4, 5, 6, 7, 8, 9, 10]"
      ]
     },
     "execution_count": 94,
     "metadata": {},
     "output_type": "execute_result"
    }
   ],
   "source": [
    "lt"
   ]
  },
  {
   "cell_type": "code",
   "execution_count": 95,
   "id": "5e4024d1",
   "metadata": {},
   "outputs": [
    {
     "data": {
      "text/plain": [
       "[2, 3, 4, 5]"
      ]
     },
     "execution_count": 95,
     "metadata": {},
     "output_type": "execute_result"
    }
   ],
   "source": [
    "lt[1:5]"
   ]
  },
  {
   "cell_type": "code",
   "execution_count": 96,
   "id": "2da79170",
   "metadata": {},
   "outputs": [
    {
     "data": {
      "text/plain": [
       "[1, 2, 3, 4, 5, 6, 7, 8, 9, 10]"
      ]
     },
     "execution_count": 96,
     "metadata": {},
     "output_type": "execute_result"
    }
   ],
   "source": [
    "lt[::]"
   ]
  },
  {
   "cell_type": "code",
   "execution_count": 97,
   "id": "f162f9ce",
   "metadata": {},
   "outputs": [
    {
     "data": {
      "text/plain": [
       "[2, 3, 4, 5, 6, 7, 8, 9, 10]"
      ]
     },
     "execution_count": 97,
     "metadata": {},
     "output_type": "execute_result"
    }
   ],
   "source": [
    "lt[1:]"
   ]
  },
  {
   "cell_type": "code",
   "execution_count": 98,
   "id": "61cc53d4",
   "metadata": {},
   "outputs": [
    {
     "data": {
      "text/plain": [
       "[1, 2, 3, 4, 5, 6]"
      ]
     },
     "execution_count": 98,
     "metadata": {},
     "output_type": "execute_result"
    }
   ],
   "source": [
    "lt[:6]"
   ]
  },
  {
   "cell_type": "code",
   "execution_count": 99,
   "id": "0a8048dc",
   "metadata": {},
   "outputs": [
    {
     "data": {
      "text/plain": [
       "[10, 9, 8, 7, 6, 5, 4, 3, 2, 1]"
      ]
     },
     "execution_count": 99,
     "metadata": {},
     "output_type": "execute_result"
    }
   ],
   "source": [
    "lt[::-1]"
   ]
  },
  {
   "cell_type": "code",
   "execution_count": 101,
   "id": "6cf8856a",
   "metadata": {},
   "outputs": [
    {
     "data": {
      "text/plain": [
       "[6, 7, 8, 9]"
      ]
     },
     "execution_count": 101,
     "metadata": {},
     "output_type": "execute_result"
    }
   ],
   "source": [
    "lt[-5:-1]"
   ]
  },
  {
   "cell_type": "code",
   "execution_count": 102,
   "id": "0e5747d9",
   "metadata": {},
   "outputs": [
    {
     "data": {
      "text/plain": [
       "[2, 4, 6, 8]"
      ]
     },
     "execution_count": 102,
     "metadata": {},
     "output_type": "execute_result"
    }
   ],
   "source": [
    "lt[1:9:2]"
   ]
  },
  {
   "cell_type": "code",
   "execution_count": 103,
   "id": "67507842",
   "metadata": {},
   "outputs": [
    {
     "data": {
      "text/plain": [
       "[2, 3, 4, 5, 6, 7, 8, 9]"
      ]
     },
     "execution_count": 103,
     "metadata": {},
     "output_type": "execute_result"
    }
   ],
   "source": [
    "lt[1:9:1]"
   ]
  },
  {
   "cell_type": "code",
   "execution_count": 104,
   "id": "e431470d",
   "metadata": {},
   "outputs": [
    {
     "data": {
      "text/plain": [
       "[2, 5, 8]"
      ]
     },
     "execution_count": 104,
     "metadata": {},
     "output_type": "execute_result"
    }
   ],
   "source": [
    "lt[1:9:3]"
   ]
  },
  {
   "cell_type": "code",
   "execution_count": 105,
   "id": "a9be2973",
   "metadata": {},
   "outputs": [
    {
     "data": {
      "text/plain": [
       "[6, 7, 8, 9, 10]"
      ]
     },
     "execution_count": 105,
     "metadata": {},
     "output_type": "execute_result"
    }
   ],
   "source": [
    "lt[-5:]"
   ]
  },
  {
   "cell_type": "code",
   "execution_count": 106,
   "id": "f4caef10",
   "metadata": {},
   "outputs": [
    {
     "data": {
      "text/plain": [
       "[1, 2, 3, 4, 5, 6, 7, 8]"
      ]
     },
     "execution_count": 106,
     "metadata": {},
     "output_type": "execute_result"
    }
   ],
   "source": [
    "lt[:-2]"
   ]
  },
  {
   "cell_type": "markdown",
   "id": "516f18f2",
   "metadata": {},
   "source": [
    "# List Methods"
   ]
  },
  {
   "cell_type": "code",
   "execution_count": 127,
   "id": "ce35f724",
   "metadata": {},
   "outputs": [],
   "source": [
    "a=[10,20,303,45,67,87,45,32,33,47,98,88,76,100,27]"
   ]
  },
  {
   "cell_type": "markdown",
   "id": "0ae1de54",
   "metadata": {},
   "source": [
    "## append"
   ]
  },
  {
   "cell_type": "code",
   "execution_count": 108,
   "id": "99b20792",
   "metadata": {},
   "outputs": [],
   "source": [
    "a.append(20)"
   ]
  },
  {
   "cell_type": "code",
   "execution_count": 109,
   "id": "03ef5ef0",
   "metadata": {},
   "outputs": [
    {
     "data": {
      "text/plain": [
       "[10, 20, 303, 45, 67, 87, 45, 32, 33, 47, 98, 88, 76, 100, 27, 20]"
      ]
     },
     "execution_count": 109,
     "metadata": {},
     "output_type": "execute_result"
    }
   ],
   "source": [
    "a"
   ]
  },
  {
   "cell_type": "code",
   "execution_count": 111,
   "id": "7717dc35",
   "metadata": {},
   "outputs": [],
   "source": [
    "a.append([23,34,45,67])"
   ]
  },
  {
   "cell_type": "code",
   "execution_count": 112,
   "id": "2e9d66a3",
   "metadata": {},
   "outputs": [
    {
     "data": {
      "text/plain": [
       "[10,\n",
       " 20,\n",
       " 303,\n",
       " 45,\n",
       " 67,\n",
       " 87,\n",
       " 45,\n",
       " 32,\n",
       " 33,\n",
       " 47,\n",
       " 98,\n",
       " 88,\n",
       " 76,\n",
       " 100,\n",
       " 27,\n",
       " 20,\n",
       " [23, 34, 45, 67]]"
      ]
     },
     "execution_count": 112,
     "metadata": {},
     "output_type": "execute_result"
    }
   ],
   "source": [
    "a"
   ]
  },
  {
   "cell_type": "markdown",
   "id": "0e5d610f",
   "metadata": {},
   "source": [
    "## extend"
   ]
  },
  {
   "cell_type": "code",
   "execution_count": 116,
   "id": "ac8dcf45",
   "metadata": {},
   "outputs": [],
   "source": [
    "a.extend([23,34,45,67])"
   ]
  },
  {
   "cell_type": "code",
   "execution_count": 117,
   "id": "ac23c625",
   "metadata": {},
   "outputs": [
    {
     "data": {
      "text/plain": [
       "[10, 20, 303, 45, 67, 87, 45, 32, 33, 47, 98, 88, 76, 100, 27, 23, 34, 45, 67]"
      ]
     },
     "execution_count": 117,
     "metadata": {},
     "output_type": "execute_result"
    }
   ],
   "source": [
    "a"
   ]
  },
  {
   "cell_type": "markdown",
   "id": "b789e2f5",
   "metadata": {},
   "source": [
    "## remove"
   ]
  },
  {
   "cell_type": "code",
   "execution_count": 130,
   "id": "429190ab",
   "metadata": {},
   "outputs": [],
   "source": [
    "a.remove(45)"
   ]
  },
  {
   "cell_type": "code",
   "execution_count": 119,
   "id": "fdd886ee",
   "metadata": {},
   "outputs": [
    {
     "data": {
      "text/plain": [
       "[10, 20, 303, 67, 87, 45, 32, 33, 47, 98, 88, 76, 100, 27, 23, 34, 45, 67]"
      ]
     },
     "execution_count": 119,
     "metadata": {},
     "output_type": "execute_result"
    }
   ],
   "source": [
    "a"
   ]
  },
  {
   "cell_type": "code",
   "execution_count": 121,
   "id": "52af2336",
   "metadata": {},
   "outputs": [
    {
     "data": {
      "text/plain": [
       "[10, 20, 303, 67, 87, 32, 33, 47, 98, 88, 76, 100, 27, 23, 34, 45, 67]"
      ]
     },
     "execution_count": 121,
     "metadata": {},
     "output_type": "execute_result"
    }
   ],
   "source": [
    "a"
   ]
  },
  {
   "cell_type": "markdown",
   "id": "fca6c856",
   "metadata": {},
   "source": [
    "## Sort"
   ]
  },
  {
   "cell_type": "code",
   "execution_count": 122,
   "id": "617a8b7d",
   "metadata": {},
   "outputs": [],
   "source": [
    "a.sort()"
   ]
  },
  {
   "cell_type": "code",
   "execution_count": 123,
   "id": "3f793cab",
   "metadata": {},
   "outputs": [
    {
     "data": {
      "text/plain": [
       "[10, 20, 23, 27, 32, 33, 34, 45, 47, 67, 67, 76, 87, 88, 98, 100, 303]"
      ]
     },
     "execution_count": 123,
     "metadata": {},
     "output_type": "execute_result"
    }
   ],
   "source": [
    "a"
   ]
  },
  {
   "cell_type": "code",
   "execution_count": 124,
   "id": "58ef09ed",
   "metadata": {},
   "outputs": [],
   "source": [
    "a.sort(reverse=True)"
   ]
  },
  {
   "cell_type": "code",
   "execution_count": 125,
   "id": "aeaf2043",
   "metadata": {},
   "outputs": [
    {
     "data": {
      "text/plain": [
       "[303, 100, 98, 88, 87, 76, 67, 67, 47, 45, 34, 33, 32, 27, 23, 20, 10]"
      ]
     },
     "execution_count": 125,
     "metadata": {},
     "output_type": "execute_result"
    }
   ],
   "source": [
    "a"
   ]
  },
  {
   "cell_type": "markdown",
   "id": "c01ad359",
   "metadata": {},
   "source": [
    "## count"
   ]
  },
  {
   "cell_type": "code",
   "execution_count": 128,
   "id": "04e700ba",
   "metadata": {},
   "outputs": [
    {
     "data": {
      "text/plain": [
       "2"
      ]
     },
     "execution_count": 128,
     "metadata": {},
     "output_type": "execute_result"
    }
   ],
   "source": [
    "a.count(45)"
   ]
  },
  {
   "cell_type": "markdown",
   "id": "7eb543dd",
   "metadata": {},
   "source": [
    "## Len"
   ]
  },
  {
   "cell_type": "code",
   "execution_count": 131,
   "id": "12e26977",
   "metadata": {},
   "outputs": [
    {
     "data": {
      "text/plain": [
       "14"
      ]
     },
     "execution_count": 131,
     "metadata": {},
     "output_type": "execute_result"
    }
   ],
   "source": [
    "len(a)"
   ]
  },
  {
   "cell_type": "markdown",
   "id": "aecc4565",
   "metadata": {},
   "source": [
    "## insert"
   ]
  },
  {
   "cell_type": "code",
   "execution_count": 132,
   "id": "fe03f788",
   "metadata": {},
   "outputs": [
    {
     "data": {
      "text/plain": [
       "[10, 20, 303, 67, 87, 45, 32, 33, 47, 98, 88, 76, 100, 27]"
      ]
     },
     "execution_count": 132,
     "metadata": {},
     "output_type": "execute_result"
    }
   ],
   "source": [
    "a"
   ]
  },
  {
   "cell_type": "code",
   "execution_count": 133,
   "id": "ca64d656",
   "metadata": {},
   "outputs": [],
   "source": [
    "a.insert(2,24)"
   ]
  },
  {
   "cell_type": "code",
   "execution_count": 134,
   "id": "8a1beeff",
   "metadata": {},
   "outputs": [
    {
     "data": {
      "text/plain": [
       "[10, 20, 24, 303, 67, 87, 45, 32, 33, 47, 98, 88, 76, 100, 27]"
      ]
     },
     "execution_count": 134,
     "metadata": {},
     "output_type": "execute_result"
    }
   ],
   "source": [
    "a"
   ]
  },
  {
   "cell_type": "code",
   "execution_count": 135,
   "id": "5fedec3c",
   "metadata": {},
   "outputs": [],
   "source": [
    "a.insert(7,3333333)"
   ]
  },
  {
   "cell_type": "code",
   "execution_count": 136,
   "id": "6bd2db6f",
   "metadata": {},
   "outputs": [
    {
     "data": {
      "text/plain": [
       "[10, 20, 24, 303, 67, 87, 45, 3333333, 32, 33, 47, 98, 88, 76, 100, 27]"
      ]
     },
     "execution_count": 136,
     "metadata": {},
     "output_type": "execute_result"
    }
   ],
   "source": [
    "a"
   ]
  },
  {
   "cell_type": "markdown",
   "id": "e71a258a",
   "metadata": {},
   "source": [
    "## index"
   ]
  },
  {
   "cell_type": "code",
   "execution_count": 137,
   "id": "ba9d12da",
   "metadata": {},
   "outputs": [
    {
     "data": {
      "text/plain": [
       "[10, 20, 24, 303, 67, 87, 45, 3333333, 32, 33, 47, 98, 88, 76, 100, 27]"
      ]
     },
     "execution_count": 137,
     "metadata": {},
     "output_type": "execute_result"
    }
   ],
   "source": [
    "a"
   ]
  },
  {
   "cell_type": "code",
   "execution_count": 139,
   "id": "2dd0a28b",
   "metadata": {},
   "outputs": [
    {
     "data": {
      "text/plain": [
       "8"
      ]
     },
     "execution_count": 139,
     "metadata": {},
     "output_type": "execute_result"
    }
   ],
   "source": [
    "a.index(32)"
   ]
  },
  {
   "cell_type": "code",
   "execution_count": 140,
   "id": "f33f7015",
   "metadata": {},
   "outputs": [
    {
     "data": {
      "text/plain": [
       "7"
      ]
     },
     "execution_count": 140,
     "metadata": {},
     "output_type": "execute_result"
    }
   ],
   "source": [
    "a.index(3333333)"
   ]
  },
  {
   "cell_type": "markdown",
   "id": "e377cd04",
   "metadata": {},
   "source": [
    "## Remove"
   ]
  },
  {
   "cell_type": "code",
   "execution_count": 141,
   "id": "2168b740",
   "metadata": {},
   "outputs": [
    {
     "data": {
      "text/plain": [
       "[10, 20, 24, 303, 67, 87, 45, 3333333, 32, 33, 47, 98, 88, 76, 100, 27]"
      ]
     },
     "execution_count": 141,
     "metadata": {},
     "output_type": "execute_result"
    }
   ],
   "source": [
    "a"
   ]
  },
  {
   "cell_type": "code",
   "execution_count": 142,
   "id": "257950c5",
   "metadata": {},
   "outputs": [],
   "source": [
    "a.remove(3333333)"
   ]
  },
  {
   "cell_type": "code",
   "execution_count": 143,
   "id": "3f27ae5a",
   "metadata": {},
   "outputs": [
    {
     "data": {
      "text/plain": [
       "[10, 20, 24, 303, 67, 87, 45, 32, 33, 47, 98, 88, 76, 100, 27]"
      ]
     },
     "execution_count": 143,
     "metadata": {},
     "output_type": "execute_result"
    }
   ],
   "source": [
    "a"
   ]
  },
  {
   "cell_type": "code",
   "execution_count": 144,
   "id": "29b60379",
   "metadata": {},
   "outputs": [],
   "source": [
    "a.remove(20)"
   ]
  },
  {
   "cell_type": "code",
   "execution_count": 145,
   "id": "98d5112b",
   "metadata": {},
   "outputs": [
    {
     "data": {
      "text/plain": [
       "[10, 24, 303, 67, 87, 45, 32, 33, 47, 98, 88, 76, 100, 27]"
      ]
     },
     "execution_count": 145,
     "metadata": {},
     "output_type": "execute_result"
    }
   ],
   "source": [
    "a"
   ]
  },
  {
   "cell_type": "code",
   "execution_count": 147,
   "id": "2d2cf840",
   "metadata": {},
   "outputs": [],
   "source": [
    "a.remove(67)"
   ]
  },
  {
   "cell_type": "code",
   "execution_count": 148,
   "id": "d50947ef",
   "metadata": {},
   "outputs": [
    {
     "data": {
      "text/plain": [
       "[10, 24, 303, 87, 45, 32, 33, 47, 98, 88, 76, 100, 27]"
      ]
     },
     "execution_count": 148,
     "metadata": {},
     "output_type": "execute_result"
    }
   ],
   "source": [
    "a"
   ]
  },
  {
   "cell_type": "markdown",
   "id": "e7093649",
   "metadata": {},
   "source": [
    "# String"
   ]
  },
  {
   "cell_type": "code",
   "execution_count": 1,
   "id": "dfb470d6",
   "metadata": {},
   "outputs": [],
   "source": [
    "st=\"hello\""
   ]
  },
  {
   "cell_type": "code",
   "execution_count": 2,
   "id": "32c8b2ea",
   "metadata": {},
   "outputs": [
    {
     "data": {
      "text/plain": [
       "'hello'"
      ]
     },
     "execution_count": 2,
     "metadata": {},
     "output_type": "execute_result"
    }
   ],
   "source": [
    "st"
   ]
  },
  {
   "cell_type": "code",
   "execution_count": 3,
   "id": "6ab412cf",
   "metadata": {},
   "outputs": [],
   "source": [
    "s='hello world'"
   ]
  },
  {
   "cell_type": "code",
   "execution_count": 4,
   "id": "8a4728fa",
   "metadata": {},
   "outputs": [
    {
     "data": {
      "text/plain": [
       "'hello world'"
      ]
     },
     "execution_count": 4,
     "metadata": {},
     "output_type": "execute_result"
    }
   ],
   "source": [
    "s"
   ]
  },
  {
   "cell_type": "code",
   "execution_count": 5,
   "id": "5647e898",
   "metadata": {},
   "outputs": [],
   "source": [
    "ss=\"\"\"helloworld im lesa\"\"\""
   ]
  },
  {
   "cell_type": "code",
   "execution_count": 6,
   "id": "5ff7a45b",
   "metadata": {},
   "outputs": [
    {
     "data": {
      "text/plain": [
       "'helloworld im lesa'"
      ]
     },
     "execution_count": 6,
     "metadata": {},
     "output_type": "execute_result"
    }
   ],
   "source": [
    "ss"
   ]
  },
  {
   "cell_type": "code",
   "execution_count": 7,
   "id": "3eb9e3cb",
   "metadata": {},
   "outputs": [
    {
     "data": {
      "text/plain": [
       "'h'"
      ]
     },
     "execution_count": 7,
     "metadata": {},
     "output_type": "execute_result"
    }
   ],
   "source": [
    "ss[0]"
   ]
  },
  {
   "cell_type": "code",
   "execution_count": 8,
   "id": "dc5acbf3",
   "metadata": {},
   "outputs": [
    {
     "data": {
      "text/plain": [
       "'l'"
      ]
     },
     "execution_count": 8,
     "metadata": {},
     "output_type": "execute_result"
    }
   ],
   "source": [
    "ss[3]"
   ]
  },
  {
   "cell_type": "code",
   "execution_count": 9,
   "id": "464c78f2",
   "metadata": {},
   "outputs": [
    {
     "data": {
      "text/plain": [
       "'d'"
      ]
     },
     "execution_count": 9,
     "metadata": {},
     "output_type": "execute_result"
    }
   ],
   "source": [
    "ss[9]"
   ]
  },
  {
   "cell_type": "code",
   "execution_count": 10,
   "id": "f29e6ebe",
   "metadata": {},
   "outputs": [
    {
     "data": {
      "text/plain": [
       "'i'"
      ]
     },
     "execution_count": 10,
     "metadata": {},
     "output_type": "execute_result"
    }
   ],
   "source": [
    "ss[11]"
   ]
  },
  {
   "cell_type": "code",
   "execution_count": 11,
   "id": "f2f40bda",
   "metadata": {},
   "outputs": [
    {
     "data": {
      "text/plain": [
       "'l'"
      ]
     },
     "execution_count": 11,
     "metadata": {},
     "output_type": "execute_result"
    }
   ],
   "source": [
    "ss[-4]"
   ]
  },
  {
   "cell_type": "code",
   "execution_count": 12,
   "id": "405b8299",
   "metadata": {},
   "outputs": [
    {
     "data": {
      "text/plain": [
       "'s'"
      ]
     },
     "execution_count": 12,
     "metadata": {},
     "output_type": "execute_result"
    }
   ],
   "source": [
    "ss[-2]"
   ]
  },
  {
   "cell_type": "markdown",
   "id": "67b61c32",
   "metadata": {},
   "source": [
    "# String slicing"
   ]
  },
  {
   "cell_type": "code",
   "execution_count": 13,
   "id": "941f6cf0",
   "metadata": {},
   "outputs": [
    {
     "data": {
      "text/plain": [
       "'helloworld im lesa'"
      ]
     },
     "execution_count": 13,
     "metadata": {},
     "output_type": "execute_result"
    }
   ],
   "source": [
    "ss"
   ]
  },
  {
   "cell_type": "code",
   "execution_count": 14,
   "id": "ab4567ea",
   "metadata": {},
   "outputs": [
    {
     "data": {
      "text/plain": [
       "'helloworld im lesa'"
      ]
     },
     "execution_count": 14,
     "metadata": {},
     "output_type": "execute_result"
    }
   ],
   "source": [
    "ss[:]"
   ]
  },
  {
   "cell_type": "code",
   "execution_count": 15,
   "id": "efe17ee3",
   "metadata": {},
   "outputs": [
    {
     "data": {
      "text/plain": [
       "'helloworld im lesa'"
      ]
     },
     "execution_count": 15,
     "metadata": {},
     "output_type": "execute_result"
    }
   ],
   "source": [
    "ss[0:]"
   ]
  },
  {
   "cell_type": "code",
   "execution_count": 16,
   "id": "05a324f3",
   "metadata": {},
   "outputs": [
    {
     "data": {
      "text/plain": [
       "'elloworld im lesa'"
      ]
     },
     "execution_count": 16,
     "metadata": {},
     "output_type": "execute_result"
    }
   ],
   "source": [
    "ss[1:]"
   ]
  },
  {
   "cell_type": "code",
   "execution_count": 17,
   "id": "1be5e7d9",
   "metadata": {},
   "outputs": [
    {
     "data": {
      "text/plain": [
       "'lloworld im lesa'"
      ]
     },
     "execution_count": 17,
     "metadata": {},
     "output_type": "execute_result"
    }
   ],
   "source": [
    "ss[2:]"
   ]
  },
  {
   "cell_type": "code",
   "execution_count": 18,
   "id": "d7d27bd1",
   "metadata": {},
   "outputs": [
    {
     "data": {
      "text/plain": [
       "'helloworld im les'"
      ]
     },
     "execution_count": 18,
     "metadata": {},
     "output_type": "execute_result"
    }
   ],
   "source": [
    "ss[:-1]"
   ]
  },
  {
   "cell_type": "code",
   "execution_count": 19,
   "id": "f7cf7ca7",
   "metadata": {},
   "outputs": [
    {
     "data": {
      "text/plain": [
       "'helloworld im le'"
      ]
     },
     "execution_count": 19,
     "metadata": {},
     "output_type": "execute_result"
    }
   ],
   "source": [
    "ss[:-2]"
   ]
  },
  {
   "cell_type": "code",
   "execution_count": 20,
   "id": "38469494",
   "metadata": {},
   "outputs": [
    {
     "data": {
      "text/plain": [
       "'hellowor'"
      ]
     },
     "execution_count": 20,
     "metadata": {},
     "output_type": "execute_result"
    }
   ],
   "source": [
    "ss[0:8]"
   ]
  },
  {
   "cell_type": "code",
   "execution_count": 21,
   "id": "df37119e",
   "metadata": {},
   "outputs": [
    {
     "data": {
      "text/plain": [
       "'helloworld'"
      ]
     },
     "execution_count": 21,
     "metadata": {},
     "output_type": "execute_result"
    }
   ],
   "source": [
    "ss[0:10]"
   ]
  },
  {
   "cell_type": "code",
   "execution_count": 22,
   "id": "1562b986",
   "metadata": {},
   "outputs": [
    {
     "data": {
      "text/plain": [
       "'helloworld'"
      ]
     },
     "execution_count": 22,
     "metadata": {},
     "output_type": "execute_result"
    }
   ],
   "source": [
    "ss[0:10:1]"
   ]
  },
  {
   "cell_type": "code",
   "execution_count": 23,
   "id": "687286d7",
   "metadata": {},
   "outputs": [
    {
     "data": {
      "text/plain": [
       "'hlool'"
      ]
     },
     "execution_count": 23,
     "metadata": {},
     "output_type": "execute_result"
    }
   ],
   "source": [
    "ss[0:10:2]"
   ]
  },
  {
   "cell_type": "code",
   "execution_count": 25,
   "id": "c57e0297",
   "metadata": {},
   "outputs": [
    {
     "data": {
      "text/plain": [
       "'asel mi dlrowolleh'"
      ]
     },
     "execution_count": 25,
     "metadata": {},
     "output_type": "execute_result"
    }
   ],
   "source": [
    "ss[::-1]  #reverse string"
   ]
  },
  {
   "cell_type": "code",
   "execution_count": 26,
   "id": "012def5e",
   "metadata": {},
   "outputs": [
    {
     "data": {
      "text/plain": [
       "'asel mi dlrowolleh'"
      ]
     },
     "execution_count": 26,
     "metadata": {},
     "output_type": "execute_result"
    }
   ],
   "source": [
    "ss[-1::-1]"
   ]
  },
  {
   "cell_type": "markdown",
   "id": "8c05f60a",
   "metadata": {},
   "source": [
    "# String handling"
   ]
  },
  {
   "cell_type": "code",
   "execution_count": 27,
   "id": "d0bb44bf",
   "metadata": {},
   "outputs": [],
   "source": [
    "# strip() is used to remove whitespace from beginning and end only (not in between white spaces)\n",
    "# lower() is used to convert lower case \n",
    "# upper() is used to convert upper case\n",
    "# replace() is used to replace the string \n",
    "# split() is used to split the string\n"
   ]
  },
  {
   "cell_type": "markdown",
   "id": "8838bb9a",
   "metadata": {},
   "source": [
    "# Strip"
   ]
  },
  {
   "cell_type": "code",
   "execution_count": 33,
   "id": "56f9a3f0",
   "metadata": {},
   "outputs": [],
   "source": [
    "a='  This is My First   Program  after   few years!!!  '"
   ]
  },
  {
   "cell_type": "code",
   "execution_count": 34,
   "id": "377a1166",
   "metadata": {},
   "outputs": [
    {
     "data": {
      "text/plain": [
       "'  This is My First   Program  after   few years!!!  '"
      ]
     },
     "execution_count": 34,
     "metadata": {},
     "output_type": "execute_result"
    }
   ],
   "source": [
    "a"
   ]
  },
  {
   "cell_type": "code",
   "execution_count": 35,
   "id": "30b7d12f",
   "metadata": {},
   "outputs": [
    {
     "data": {
      "text/plain": [
       "'This is My First   Program  after   few years!!!'"
      ]
     },
     "execution_count": 35,
     "metadata": {},
     "output_type": "execute_result"
    }
   ],
   "source": [
    "a.strip()"
   ]
  },
  {
   "cell_type": "markdown",
   "id": "9abf6491",
   "metadata": {},
   "source": [
    "# lower"
   ]
  },
  {
   "cell_type": "code",
   "execution_count": 36,
   "id": "20b4d79e",
   "metadata": {},
   "outputs": [
    {
     "data": {
      "text/plain": [
       "'  this is my first   program  after   few years!!!  '"
      ]
     },
     "execution_count": 36,
     "metadata": {},
     "output_type": "execute_result"
    }
   ],
   "source": [
    "a.lower()"
   ]
  },
  {
   "cell_type": "code",
   "execution_count": 37,
   "id": "febd650e",
   "metadata": {},
   "outputs": [
    {
     "data": {
      "text/plain": [
       "'  This is My First   Program  after   few years!!!  '"
      ]
     },
     "execution_count": 37,
     "metadata": {},
     "output_type": "execute_result"
    }
   ],
   "source": [
    "a"
   ]
  },
  {
   "cell_type": "markdown",
   "id": "64257f53",
   "metadata": {},
   "source": [
    "# upper"
   ]
  },
  {
   "cell_type": "code",
   "execution_count": 38,
   "id": "bf9dbb41",
   "metadata": {},
   "outputs": [
    {
     "data": {
      "text/plain": [
       "'  THIS IS MY FIRST   PROGRAM  AFTER   FEW YEARS!!!  '"
      ]
     },
     "execution_count": 38,
     "metadata": {},
     "output_type": "execute_result"
    }
   ],
   "source": [
    "a.upper()"
   ]
  },
  {
   "cell_type": "markdown",
   "id": "173e0dff",
   "metadata": {},
   "source": [
    "# replace"
   ]
  },
  {
   "cell_type": "code",
   "execution_count": 39,
   "id": "47d06c92",
   "metadata": {},
   "outputs": [
    {
     "data": {
      "text/plain": [
       "'  This is My First   project  after   few years!!!  '"
      ]
     },
     "execution_count": 39,
     "metadata": {},
     "output_type": "execute_result"
    }
   ],
   "source": [
    "a.replace('Program','project')\n"
   ]
  },
  {
   "cell_type": "markdown",
   "id": "eb5d41e4",
   "metadata": {},
   "source": [
    "# split"
   ]
  },
  {
   "cell_type": "code",
   "execution_count": 40,
   "id": "ac99a986",
   "metadata": {},
   "outputs": [
    {
     "data": {
      "text/plain": [
       "['This', 'is', 'My', 'First', 'Program', 'after', 'few', 'years!!!']"
      ]
     },
     "execution_count": 40,
     "metadata": {},
     "output_type": "execute_result"
    }
   ],
   "source": [
    "a.split()"
   ]
  },
  {
   "cell_type": "code",
   "execution_count": null,
   "id": "e10d89f4",
   "metadata": {},
   "outputs": [],
   "source": []
  },
  {
   "cell_type": "code",
   "execution_count": null,
   "id": "8300b561",
   "metadata": {},
   "outputs": [],
   "source": []
  },
  {
   "cell_type": "markdown",
   "id": "ff4c7d82",
   "metadata": {},
   "source": [
    "# In and not In operator function"
   ]
  },
  {
   "cell_type": "code",
   "execution_count": 41,
   "id": "aabbdee8",
   "metadata": {},
   "outputs": [
    {
     "data": {
      "text/plain": [
       "'  This is My First   Program  after   few years!!!  '"
      ]
     },
     "execution_count": 41,
     "metadata": {},
     "output_type": "execute_result"
    }
   ],
   "source": [
    "a"
   ]
  },
  {
   "cell_type": "code",
   "execution_count": 43,
   "id": "873b2019",
   "metadata": {},
   "outputs": [
    {
     "data": {
      "text/plain": [
       "True"
      ]
     },
     "execution_count": 43,
     "metadata": {},
     "output_type": "execute_result"
    }
   ],
   "source": [
    "'My' in a"
   ]
  },
  {
   "cell_type": "code",
   "execution_count": 44,
   "id": "cbd14157",
   "metadata": {},
   "outputs": [
    {
     "data": {
      "text/plain": [
       "True"
      ]
     },
     "execution_count": 44,
     "metadata": {},
     "output_type": "execute_result"
    }
   ],
   "source": [
    "'Program' in a"
   ]
  },
  {
   "cell_type": "code",
   "execution_count": 45,
   "id": "fe1d475e",
   "metadata": {},
   "outputs": [
    {
     "data": {
      "text/plain": [
       "False"
      ]
     },
     "execution_count": 45,
     "metadata": {},
     "output_type": "execute_result"
    }
   ],
   "source": [
    "'Project' in a "
   ]
  },
  {
   "cell_type": "code",
   "execution_count": 46,
   "id": "71bbba43",
   "metadata": {},
   "outputs": [
    {
     "data": {
      "text/plain": [
       "True"
      ]
     },
     "execution_count": 46,
     "metadata": {},
     "output_type": "execute_result"
    }
   ],
   "source": [
    "'Project' not in a "
   ]
  },
  {
   "cell_type": "code",
   "execution_count": 47,
   "id": "3ac88ae6",
   "metadata": {},
   "outputs": [
    {
     "data": {
      "text/plain": [
       "True"
      ]
     },
     "execution_count": 47,
     "metadata": {},
     "output_type": "execute_result"
    }
   ],
   "source": [
    "'!' in a "
   ]
  },
  {
   "cell_type": "markdown",
   "id": "3d6ca177",
   "metadata": {},
   "source": [
    "# \\t \\n \\\"\\\""
   ]
  },
  {
   "cell_type": "code",
   "execution_count": 48,
   "id": "141004d3",
   "metadata": {},
   "outputs": [],
   "source": [
    "# how to bring quoted string the same sentence? \n",
    "# \\\"hello\\\" is used to bring quoted words in the sentence\n",
    "# \\t is used tab space in our output only using in print statement\n",
    "# \\n is used for new line of our output only used in print statement.\n",
    "\n"
   ]
  },
  {
   "cell_type": "code",
   "execution_count": 57,
   "id": "be05acd9",
   "metadata": {},
   "outputs": [],
   "source": [
    "a='This is My First Program after few years!!! '"
   ]
  },
  {
   "cell_type": "code",
   "execution_count": 61,
   "id": "eddf6b7e",
   "metadata": {},
   "outputs": [
    {
     "data": {
      "text/plain": [
       "'This is My First Program after few years!!! '"
      ]
     },
     "execution_count": 61,
     "metadata": {},
     "output_type": "execute_result"
    }
   ],
   "source": [
    "a"
   ]
  },
  {
   "cell_type": "code",
   "execution_count": 58,
   "id": "5d2fa252",
   "metadata": {},
   "outputs": [],
   "source": [
    "b='This is \\'My First Program\\' after few years!!! '"
   ]
  },
  {
   "cell_type": "code",
   "execution_count": 59,
   "id": "5a8805f6",
   "metadata": {},
   "outputs": [
    {
     "data": {
      "text/plain": [
       "\"This is 'My First Program' after few years!!! \""
      ]
     },
     "execution_count": 59,
     "metadata": {},
     "output_type": "execute_result"
    }
   ],
   "source": [
    "b"
   ]
  },
  {
   "cell_type": "code",
   "execution_count": 62,
   "id": "261d80a4",
   "metadata": {},
   "outputs": [],
   "source": [
    "c='This is \\tMy First Program \\tafter few \\tyears!!! '"
   ]
  },
  {
   "cell_type": "code",
   "execution_count": 63,
   "id": "57a4522c",
   "metadata": {},
   "outputs": [
    {
     "data": {
      "text/plain": [
       "'This is \\tMy First Program \\tafter few \\tyears!!! '"
      ]
     },
     "execution_count": 63,
     "metadata": {},
     "output_type": "execute_result"
    }
   ],
   "source": [
    "c"
   ]
  },
  {
   "cell_type": "code",
   "execution_count": 64,
   "id": "25ac6ff9",
   "metadata": {},
   "outputs": [
    {
     "name": "stdout",
     "output_type": "stream",
     "text": [
      "This is \tMy First Program \tafter few \tyears!!! \n"
     ]
    }
   ],
   "source": [
    "print(c)"
   ]
  },
  {
   "cell_type": "code",
   "execution_count": 65,
   "id": "07c9b3dc",
   "metadata": {},
   "outputs": [],
   "source": [
    "d='This is \\nMy First Program \\nafter few \\nyears!!! '"
   ]
  },
  {
   "cell_type": "code",
   "execution_count": 66,
   "id": "5a86605a",
   "metadata": {},
   "outputs": [
    {
     "data": {
      "text/plain": [
       "'This is \\nMy First Program \\nafter few \\nyears!!! '"
      ]
     },
     "execution_count": 66,
     "metadata": {},
     "output_type": "execute_result"
    }
   ],
   "source": [
    "d"
   ]
  },
  {
   "cell_type": "code",
   "execution_count": 67,
   "id": "2ef21142",
   "metadata": {},
   "outputs": [
    {
     "name": "stdout",
     "output_type": "stream",
     "text": [
      "This is \n",
      "My First Program \n",
      "after few \n",
      "years!!! \n"
     ]
    }
   ],
   "source": [
    "print(d)"
   ]
  },
  {
   "cell_type": "code",
   "execution_count": null,
   "id": "f9c3b7c9",
   "metadata": {},
   "outputs": [],
   "source": []
  }
 ],
 "metadata": {
  "kernelspec": {
   "display_name": "Python 3 (ipykernel)",
   "language": "python",
   "name": "python3"
  },
  "language_info": {
   "codemirror_mode": {
    "name": "ipython",
    "version": 3
   },
   "file_extension": ".py",
   "mimetype": "text/x-python",
   "name": "python",
   "nbconvert_exporter": "python",
   "pygments_lexer": "ipython3",
   "version": "3.9.13"
  }
 },
 "nbformat": 4,
 "nbformat_minor": 5
}
