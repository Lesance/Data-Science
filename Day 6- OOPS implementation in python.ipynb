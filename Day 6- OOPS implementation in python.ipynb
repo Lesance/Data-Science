{
 "cells": [
  {
   "cell_type": "markdown",
   "id": "94480181",
   "metadata": {},
   "source": [
    "# Inheritance in python"
   ]
  },
  {
   "cell_type": "code",
   "execution_count": 1,
   "id": "8ce2523d",
   "metadata": {},
   "outputs": [],
   "source": [
    "# inheritance is nothing you can 'use'  or 'call' one class object to the other class object is called inheritance "
   ]
  },
  {
   "cell_type": "code",
   "execution_count": 4,
   "id": "84036888",
   "metadata": {},
   "outputs": [],
   "source": [
    "class dad:\n",
    "    def phone(self):\n",
    "        print('Dad phone')\n",
    "\n",
    "class son:\n",
    "    def laptop(self):\n",
    "        print('my laptop')"
   ]
  },
  {
   "cell_type": "code",
   "execution_count": 5,
   "id": "99276b3f",
   "metadata": {},
   "outputs": [
    {
     "name": "stdout",
     "output_type": "stream",
     "text": [
      "my laptop\n"
     ]
    }
   ],
   "source": [
    "ram=son()\n",
    "ram.laptop()"
   ]
  },
  {
   "cell_type": "markdown",
   "id": "284d8d7f",
   "metadata": {},
   "source": [
    "## Single inheritance"
   ]
  },
  {
   "cell_type": "code",
   "execution_count": 12,
   "id": "ba307802",
   "metadata": {},
   "outputs": [],
   "source": [
    "# son can access our dad's phone, so that,we can say this is called inheritance.\n",
    "\n",
    "class dad():\n",
    "    def phone(self):\n",
    "        print('dad phone')\n",
    "\n",
    "class son(dad):\n",
    "    def laptop(self):\n",
    "        print('my laptop')\n",
    "    "
   ]
  },
  {
   "cell_type": "code",
   "execution_count": 17,
   "id": "3e71ca93",
   "metadata": {},
   "outputs": [
    {
     "name": "stdout",
     "output_type": "stream",
     "text": [
      "my laptop\n",
      "dad phone\n"
     ]
    }
   ],
   "source": [
    "ram=son()\n",
    "ram.laptop()\n",
    "ram.phone()"
   ]
  },
  {
   "cell_type": "markdown",
   "id": "9fdbfe99",
   "metadata": {},
   "source": [
    "## multiple inheritance"
   ]
  },
  {
   "cell_type": "code",
   "execution_count": 18,
   "id": "e3858870",
   "metadata": {},
   "outputs": [],
   "source": [
    "class dad():\n",
    "    def phone(self):\n",
    "        print('dad phone')\n",
    "class mom():\n",
    "    def sweet(self):\n",
    "        print('mom sweet')\n",
    "class son(dad,mom):\n",
    "    def laptop(self):\n",
    "        print('my laptop')"
   ]
  },
  {
   "cell_type": "code",
   "execution_count": 19,
   "id": "a3c18fb5",
   "metadata": {},
   "outputs": [
    {
     "name": "stdout",
     "output_type": "stream",
     "text": [
      "my laptop\n",
      "dad phone\n",
      "mom sweet\n"
     ]
    }
   ],
   "source": [
    "ram=son()\n",
    "ram.laptop()\n",
    "ram.phone()\n",
    "ram.sweet()"
   ]
  },
  {
   "cell_type": "markdown",
   "id": "9edd3b2b",
   "metadata": {},
   "source": [
    "## multilevel inheritance"
   ]
  },
  {
   "cell_type": "code",
   "execution_count": 22,
   "id": "fed1d5f3",
   "metadata": {},
   "outputs": [],
   "source": [
    "class dad():\n",
    "    def phone(self):\n",
    "        print('dad phone')\n",
    "class mom(son):\n",
    "    def sweet(self):\n",
    "        print('mom sweet')\n",
    "class son(dad,mom):\n",
    "    def laptop(self):\n",
    "        print('my laptop')"
   ]
  },
  {
   "cell_type": "code",
   "execution_count": 25,
   "id": "997085c3",
   "metadata": {},
   "outputs": [
    {
     "name": "stdout",
     "output_type": "stream",
     "text": [
      "my laptop\n",
      "dad phone\n",
      "mom sweet\n",
      "\n",
      "my laptop\n"
     ]
    }
   ],
   "source": [
    "ram=son()\n",
    "ram.laptop()\n",
    "ram.phone()\n",
    "ram.sweet()\n",
    "print()\n",
    "sita=mom()\n",
    "sita.laptop()"
   ]
  },
  {
   "cell_type": "markdown",
   "id": "2a4c6d48",
   "metadata": {},
   "source": [
    "## hierarchical inheritance"
   ]
  },
  {
   "cell_type": "code",
   "execution_count": 28,
   "id": "0f704a54",
   "metadata": {},
   "outputs": [],
   "source": [
    "class dad():\n",
    "    def money(self):\n",
    "        print('dad money')\n",
    "\n",
    "class son1(dad):\n",
    "    pass\n",
    "class son2(dad):\n",
    "    pass\n",
    "class son3(dad):\n",
    "    pass"
   ]
  },
  {
   "cell_type": "code",
   "execution_count": 29,
   "id": "2c6bb48a",
   "metadata": {},
   "outputs": [
    {
     "name": "stdout",
     "output_type": "stream",
     "text": [
      "dad money\n"
     ]
    }
   ],
   "source": [
    "s1=son1()\n",
    "s1.money()"
   ]
  },
  {
   "cell_type": "code",
   "execution_count": 30,
   "id": "496ed64a",
   "metadata": {},
   "outputs": [
    {
     "name": "stdout",
     "output_type": "stream",
     "text": [
      "dad money\n"
     ]
    }
   ],
   "source": [
    "s2=son2()\n",
    "s2.money()"
   ]
  },
  {
   "cell_type": "markdown",
   "id": "787477d3",
   "metadata": {},
   "source": [
    "## multilevel inheritance"
   ]
  },
  {
   "cell_type": "code",
   "execution_count": 31,
   "id": "7a800de4",
   "metadata": {},
   "outputs": [],
   "source": [
    "class dad():\n",
    "    def money(self):\n",
    "        print('dad money')\n",
    "class land():\n",
    "    def important():\n",
    "        print('important land')\n",
    "\n",
    "class son1(dad,land):\n",
    "    pass\n",
    "class son2(dad):\n",
    "    pass\n",
    "class son3(dad):\n",
    "    pass"
   ]
  },
  {
   "cell_type": "markdown",
   "id": "74b19bc6",
   "metadata": {},
   "source": [
    "## 1. Abstraction:"
   ]
  },
  {
   "cell_type": "code",
   "execution_count": 1,
   "id": "c82dda54",
   "metadata": {},
   "outputs": [],
   "source": [
    "from abc import ABC, abstractmethod\n"
   ]
  },
  {
   "cell_type": "code",
   "execution_count": 56,
   "id": "0619c808",
   "metadata": {},
   "outputs": [],
   "source": [
    "class shape(ABC):\n",
    "    def __init__(self):\n",
    "        pass\n",
    "    @abstractmethod\n",
    "    def sides(self):\n",
    "        pass\n",
    "    @abstractmethod\n",
    "    def area(self):\n",
    "        pass\n",
    "    @abstractmethod\n",
    "    def perimeter(self):\n",
    "        pass\n",
    "    "
   ]
  },
  {
   "cell_type": "code",
   "execution_count": 8,
   "id": "e0221c67",
   "metadata": {},
   "outputs": [],
   "source": [
    "class rectangle(shape):\n",
    "    def __init__(self,l:float,b:float):\n",
    "        super().__init__()\n",
    "        self.l=l\n",
    "        self.b=b\n",
    "    def sides(self):\n",
    "        super().sides()\n",
    "        print(\"Length:\",self.l,\"Breadth:\",self.b)\n",
    "    def area(self):\n",
    "        print(\"Area:\",self.l*self.b)\n",
    "    def perimeter(self):\n",
    "        print(\"Perimeter:\",2*(self.l+self.b))\n",
    "        "
   ]
  },
  {
   "cell_type": "code",
   "execution_count": 12,
   "id": "9d5d431a",
   "metadata": {},
   "outputs": [
    {
     "name": "stdout",
     "output_type": "stream",
     "text": [
      "Length: 2 Breadth: 3\n"
     ]
    }
   ],
   "source": [
    "res=rectangle(2,3)\n",
    "res.sides()"
   ]
  },
  {
   "cell_type": "code",
   "execution_count": 61,
   "id": "447f7b09",
   "metadata": {},
   "outputs": [],
   "source": [
    "class Square(shape):\n",
    "    def __init__(self,s: float):\n",
    "        super().__init__()\n",
    "        self.s=s\n",
    "    def sides(self):\n",
    "        super().sides()\n",
    "        print(\"side:\",self.s)\n",
    "    def area(self):\n",
    "        return self.s**2\n",
    "    def perimeter(self):\n",
    "        return 4*self.s"
   ]
  },
  {
   "cell_type": "code",
   "execution_count": 64,
   "id": "d66073f5",
   "metadata": {},
   "outputs": [
    {
     "name": "stdout",
     "output_type": "stream",
     "text": [
      "Side: 3\n"
     ]
    }
   ],
   "source": [
    "sq=Square(3)\n",
    "sq.sides()"
   ]
  },
  {
   "cell_type": "markdown",
   "id": "db117164",
   "metadata": {},
   "source": [
    "# Inheritance"
   ]
  },
  {
   "cell_type": "code",
   "execution_count": 65,
   "id": "6e6f8ca1",
   "metadata": {},
   "outputs": [],
   "source": [
    "class Person:\n",
    "    def __init__(self,id:int,name:str):\n",
    "        self.id=id\n",
    "        self.name=name\n",
    "        print(\"Person called\")\n",
    "    def display(self):\n",
    "        print(\"Person ID:\",self.id)\n",
    "        print(\"Person Name:\",self.name)\n",
    "    def state(self):\n",
    "        print(self.__getstate__())\n",
    "        \n",
    "        \n",
    "class teacher(Person):\n",
    "    def __init__(self,id:int,name:str,salary:int):\n",
    "        super().__init__(id,name)\n",
    "        self.salary=salary\n",
    "    def display(self):\n",
    "        print(\"Teacher ID:\",self.id)\n",
    "        print(\"Teacher Name:\",self.name)\n",
    "        print(\"Teacher salary:\",self.salary)\n",
    "    \n",
    "        \n",
    "class student(Person):\n",
    "    def __init__(self,id:int,name:str,mark:int):\n",
    "        super().__init__(id,name)\n",
    "        self.mark=mark\n",
    "    def display(self):\n",
    "        print(\"student ID:\",self.id)\n",
    "        print(\"student Name:\",self.name)\n",
    "        print(\"student mark:\",self.mark)"
   ]
  },
  {
   "cell_type": "code",
   "execution_count": 67,
   "id": "01290e43",
   "metadata": {},
   "outputs": [
    {
     "name": "stdout",
     "output_type": "stream",
     "text": [
      "Person called\n",
      "student ID: 1\n",
      "student Name: jo\n",
      "student mark: 87\n"
     ]
    }
   ],
   "source": [
    "s=student(1,'jo',87)\n",
    "s.display()"
   ]
  },
  {
   "cell_type": "code",
   "execution_count": 68,
   "id": "9827245c",
   "metadata": {},
   "outputs": [
    {
     "name": "stdout",
     "output_type": "stream",
     "text": [
      "Person called\n",
      "Teacher ID: 1\n",
      "Teacher Name: jo\n",
      "Teacher salary: 87\n"
     ]
    }
   ],
   "source": [
    "s=teacher(1,'jo',87)\n",
    "s.display()\n"
   ]
  },
  {
   "cell_type": "code",
   "execution_count": 70,
   "id": "10264483",
   "metadata": {},
   "outputs": [
    {
     "name": "stdout",
     "output_type": "stream",
     "text": [
      "Person called\n",
      "Person ID: 1\n",
      "Person Name: aa\n"
     ]
    }
   ],
   "source": [
    "p=Person(1,'aa')\n",
    "p.display()"
   ]
  },
  {
   "cell_type": "markdown",
   "id": "006b8228",
   "metadata": {},
   "source": [
    "# Hybrid Inheritance"
   ]
  },
  {
   "cell_type": "code",
   "execution_count": 71,
   "id": "abe74e80",
   "metadata": {},
   "outputs": [],
   "source": [
    "class Bank:\n",
    "    def __init__(self,bank_name: str,branch:str):\n",
    "        self.bank_name=bank_name\n",
    "        self.branch=branch\n",
    "        \n",
    "class Account(Bank):\n",
    "    def __init__(self,bank_name: str,branch:str,id:int):\n",
    "        super().__init__(bank_name,branch)\n",
    "        self.id=id\n",
    "        \n",
    "class Savings(Account):\n",
    "    def __init__(self,bank_name: str,branch:str,id:int, duration: int, money:int):\n",
    "        super().__init__(bank_name,branch,id)\n",
    "        self.duration=duration\n",
    "        self.money=money\n",
    "class Current(Account):\n",
    "    def __init__(self,bank_name: str,branch:str,id:int, balance: float):\n",
    "        super().__init__(bank_name,branch,id)\n",
    "        self.balance=balance\n",
    "    \n",
    "class Person:\n",
    "    def __init__(self,name: str, add:str):\n",
    "        self.name=name\n",
    "        self.add=add   \n",
    "\n",
    "class Savings_Holder(Person,Savings):\n",
    "    def __init__(self,name: str, add:str, bank_name: str, branch:str, id:int, duration: int, money:int):\n",
    "        Person.__init__(self,name,add)\n",
    "        Savings.__init__(self,bank_name,branch,id,duration,money)\n",
    "        \n",
    "class Current_Holder(Person,Current):\n",
    "    def __init__(self,name: str, add:str, bank_name: str, branch:str, id:int,  balance: float):\n",
    "        Person.__init__(self,name,add)\n",
    "        Current.__init__(self,bank_name,branch,id,balance)          "
   ]
  },
  {
   "cell_type": "code",
   "execution_count": null,
   "id": "4f473c94",
   "metadata": {},
   "outputs": [],
   "source": []
  }
 ],
 "metadata": {
  "kernelspec": {
   "display_name": "Python 3 (ipykernel)",
   "language": "python",
   "name": "python3"
  },
  "language_info": {
   "codemirror_mode": {
    "name": "ipython",
    "version": 3
   },
   "file_extension": ".py",
   "mimetype": "text/x-python",
   "name": "python",
   "nbconvert_exporter": "python",
   "pygments_lexer": "ipython3",
   "version": "3.9.13"
  }
 },
 "nbformat": 4,
 "nbformat_minor": 5
}
