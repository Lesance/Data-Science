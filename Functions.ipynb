{
 "cells": [
  {
   "cell_type": "markdown",
   "id": "a27310f6",
   "metadata": {},
   "source": [
    "# define function"
   ]
  },
  {
   "cell_type": "code",
   "execution_count": 9,
   "id": "0f857cb8",
   "metadata": {},
   "outputs": [],
   "source": [
    "x=4"
   ]
  },
  {
   "cell_type": "code",
   "execution_count": 2,
   "id": "79e645be",
   "metadata": {},
   "outputs": [
    {
     "data": {
      "text/plain": [
       "4"
      ]
     },
     "execution_count": 2,
     "metadata": {},
     "output_type": "execute_result"
    }
   ],
   "source": [
    "x"
   ]
  },
  {
   "cell_type": "code",
   "execution_count": 3,
   "id": "6fa13f22",
   "metadata": {},
   "outputs": [],
   "source": [
    "x=x**4"
   ]
  },
  {
   "cell_type": "code",
   "execution_count": 4,
   "id": "18aa2133",
   "metadata": {},
   "outputs": [
    {
     "data": {
      "text/plain": [
       "256"
      ]
     },
     "execution_count": 4,
     "metadata": {},
     "output_type": "execute_result"
    }
   ],
   "source": [
    "x"
   ]
  },
  {
   "cell_type": "code",
   "execution_count": 10,
   "id": "7e190030",
   "metadata": {},
   "outputs": [],
   "source": [
    "x=x**2"
   ]
  },
  {
   "cell_type": "code",
   "execution_count": 11,
   "id": "0e2bd709",
   "metadata": {},
   "outputs": [
    {
     "data": {
      "text/plain": [
       "16"
      ]
     },
     "execution_count": 11,
     "metadata": {},
     "output_type": "execute_result"
    }
   ],
   "source": [
    "x"
   ]
  },
  {
   "cell_type": "markdown",
   "id": "9924ea78",
   "metadata": {},
   "source": [
    "# square"
   ]
  },
  {
   "cell_type": "code",
   "execution_count": 12,
   "id": "244e48aa",
   "metadata": {},
   "outputs": [],
   "source": [
    "# x=x**2\n",
    "\n",
    "def square(x):\n",
    "    sq=x**2\n",
    "    return(sq)"
   ]
  },
  {
   "cell_type": "code",
   "execution_count": 13,
   "id": "6c74f353",
   "metadata": {},
   "outputs": [
    {
     "data": {
      "text/plain": [
       "9"
      ]
     },
     "execution_count": 13,
     "metadata": {},
     "output_type": "execute_result"
    }
   ],
   "source": [
    "square(3)"
   ]
  },
  {
   "cell_type": "code",
   "execution_count": 14,
   "id": "40e29194",
   "metadata": {},
   "outputs": [
    {
     "data": {
      "text/plain": [
       "36"
      ]
     },
     "execution_count": 14,
     "metadata": {},
     "output_type": "execute_result"
    }
   ],
   "source": [
    "square(6)"
   ]
  },
  {
   "cell_type": "code",
   "execution_count": 15,
   "id": "6e031375",
   "metadata": {},
   "outputs": [
    {
     "data": {
      "text/plain": [
       "1156"
      ]
     },
     "execution_count": 15,
     "metadata": {},
     "output_type": "execute_result"
    }
   ],
   "source": [
    "square(34)"
   ]
  },
  {
   "cell_type": "markdown",
   "id": "146a2942",
   "metadata": {},
   "source": [
    "# cube"
   ]
  },
  {
   "cell_type": "code",
   "execution_count": 16,
   "id": "b01c6956",
   "metadata": {},
   "outputs": [],
   "source": [
    "def cube(x):\n",
    "    cb=x**3\n",
    "    return(cb)"
   ]
  },
  {
   "cell_type": "code",
   "execution_count": 17,
   "id": "6c1b5c8f",
   "metadata": {},
   "outputs": [
    {
     "data": {
      "text/plain": [
       "64"
      ]
     },
     "execution_count": 17,
     "metadata": {},
     "output_type": "execute_result"
    }
   ],
   "source": [
    "cube(4)"
   ]
  },
  {
   "cell_type": "code",
   "execution_count": 18,
   "id": "2eecf0b5",
   "metadata": {},
   "outputs": [
    {
     "data": {
      "text/plain": [
       "8"
      ]
     },
     "execution_count": 18,
     "metadata": {},
     "output_type": "execute_result"
    }
   ],
   "source": [
    "cube(2)"
   ]
  },
  {
   "cell_type": "markdown",
   "id": "f2b0d3e5",
   "metadata": {},
   "source": [
    "# addition"
   ]
  },
  {
   "cell_type": "code",
   "execution_count": 19,
   "id": "cf84bfa2",
   "metadata": {},
   "outputs": [],
   "source": [
    "def addition(x,y):\n",
    "    add=x+y\n",
    "    print(add)"
   ]
  },
  {
   "cell_type": "code",
   "execution_count": 20,
   "id": "34f822d0",
   "metadata": {},
   "outputs": [
    {
     "name": "stdout",
     "output_type": "stream",
     "text": [
      "30\n"
     ]
    }
   ],
   "source": [
    "addition(10,20)"
   ]
  },
  {
   "cell_type": "code",
   "execution_count": 21,
   "id": "73dda02e",
   "metadata": {},
   "outputs": [
    {
     "name": "stdout",
     "output_type": "stream",
     "text": [
      "11\n"
     ]
    }
   ],
   "source": [
    "x=4\n",
    "y=7\n",
    "addition(x,y)"
   ]
  },
  {
   "cell_type": "code",
   "execution_count": 22,
   "id": "49630ca6",
   "metadata": {},
   "outputs": [
    {
     "name": "stdout",
     "output_type": "stream",
     "text": [
      "[1, 2, 3, 4, 5, 6, 7, 8, 9, 3]\n"
     ]
    }
   ],
   "source": [
    "l1=[1,2,3,4,5]\n",
    "l2=[6,7,8,9,3]\n",
    "addition(l1,l2)"
   ]
  },
  {
   "cell_type": "code",
   "execution_count": 23,
   "id": "6837ed36",
   "metadata": {},
   "outputs": [],
   "source": [
    "def addition(x,y):\n",
    "    add=x+y\n",
    "    return(add)"
   ]
  },
  {
   "cell_type": "code",
   "execution_count": 24,
   "id": "fdf8b20e",
   "metadata": {},
   "outputs": [
    {
     "data": {
      "text/plain": [
       "[1, 2, 3, 4, 5, 6, 7, 8, 9, 3]"
      ]
     },
     "execution_count": 24,
     "metadata": {},
     "output_type": "execute_result"
    }
   ],
   "source": [
    "addition(l1,l2)"
   ]
  },
  {
   "cell_type": "code",
   "execution_count": 25,
   "id": "ff61e74a",
   "metadata": {},
   "outputs": [],
   "source": [
    "def addmul(x,y,z):\n",
    "    add=x+y+z\n",
    "    pd=x*y*z\n",
    "    add='addition is',str(add)\n",
    "    pd='product is', str(pd)\n",
    "    print(add)\n",
    "    print(pd)\n"
   ]
  },
  {
   "cell_type": "code",
   "execution_count": 26,
   "id": "3e67a51d",
   "metadata": {},
   "outputs": [
    {
     "name": "stdout",
     "output_type": "stream",
     "text": [
      "('addition is', '330')\n",
      "('product is', '60000')\n"
     ]
    }
   ],
   "source": [
    "addmul(10,20,300)"
   ]
  },
  {
   "cell_type": "code",
   "execution_count": 47,
   "id": "813f4e7f",
   "metadata": {},
   "outputs": [],
   "source": [
    "def addmul(x,y,z):\n",
    "    add=x+y+z\n",
    "    pd=x*y*z\n",
    "    add='addition is',str(add)\n",
    "    pd='product is', str(pd)\n",
    "    return([add,pd])"
   ]
  },
  {
   "cell_type": "code",
   "execution_count": 48,
   "id": "98865f7f",
   "metadata": {
    "scrolled": true
   },
   "outputs": [
    {
     "data": {
      "text/plain": [
       "[('addition is', '90'), ('product is', '24000')]"
      ]
     },
     "execution_count": 48,
     "metadata": {},
     "output_type": "execute_result"
    }
   ],
   "source": [
    "addmul(20,30,40)"
   ]
  },
  {
   "cell_type": "code",
   "execution_count": 49,
   "id": "44aaaae6",
   "metadata": {},
   "outputs": [
    {
     "data": {
      "text/plain": [
       "list"
      ]
     },
     "execution_count": 49,
     "metadata": {},
     "output_type": "execute_result"
    }
   ],
   "source": [
    "type(addmul(20,30,40))"
   ]
  },
  {
   "cell_type": "code",
   "execution_count": null,
   "id": "45cdaed4",
   "metadata": {},
   "outputs": [],
   "source": []
  },
  {
   "cell_type": "markdown",
   "id": "c1225e6c",
   "metadata": {},
   "source": [
    "# factorial"
   ]
  },
  {
   "cell_type": "code",
   "execution_count": 37,
   "id": "6a833229",
   "metadata": {},
   "outputs": [],
   "source": [
    "def factorial(x):\n",
    "    fact=1\n",
    "    for i in range(1,x+1):\n",
    "        fact=fact*i\n",
    "    print(fact)\n",
    "        "
   ]
  },
  {
   "cell_type": "code",
   "execution_count": 38,
   "id": "f6d8541d",
   "metadata": {},
   "outputs": [
    {
     "name": "stdout",
     "output_type": "stream",
     "text": [
      "120\n"
     ]
    }
   ],
   "source": [
    "factorial(5)"
   ]
  },
  {
   "cell_type": "code",
   "execution_count": 39,
   "id": "1d813eda",
   "metadata": {},
   "outputs": [
    {
     "name": "stdout",
     "output_type": "stream",
     "text": [
      "720\n"
     ]
    }
   ],
   "source": [
    "factorial(6)"
   ]
  },
  {
   "cell_type": "code",
   "execution_count": 40,
   "id": "63ace2b8",
   "metadata": {},
   "outputs": [
    {
     "name": "stdout",
     "output_type": "stream",
     "text": [
      "5040\n"
     ]
    }
   ],
   "source": [
    "factorial(7)"
   ]
  },
  {
   "cell_type": "code",
   "execution_count": 41,
   "id": "5e41bb64",
   "metadata": {},
   "outputs": [
    {
     "name": "stdout",
     "output_type": "stream",
     "text": [
      "2\n"
     ]
    }
   ],
   "source": [
    "factorial(2)"
   ]
  },
  {
   "cell_type": "code",
   "execution_count": 42,
   "id": "688de888",
   "metadata": {},
   "outputs": [
    {
     "name": "stdout",
     "output_type": "stream",
     "text": [
      "1\n"
     ]
    }
   ],
   "source": [
    "factorial(0)"
   ]
  },
  {
   "cell_type": "code",
   "execution_count": null,
   "id": "7c8c53f5",
   "metadata": {},
   "outputs": [],
   "source": []
  }
 ],
 "metadata": {
  "kernelspec": {
   "display_name": "Python 3 (ipykernel)",
   "language": "python",
   "name": "python3"
  },
  "language_info": {
   "codemirror_mode": {
    "name": "ipython",
    "version": 3
   },
   "file_extension": ".py",
   "mimetype": "text/x-python",
   "name": "python",
   "nbconvert_exporter": "python",
   "pygments_lexer": "ipython3",
   "version": "3.9.13"
  }
 },
 "nbformat": 4,
 "nbformat_minor": 5
}
