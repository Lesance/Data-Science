{
 "cells": [
  {
   "cell_type": "markdown",
   "id": "1ce23401",
   "metadata": {},
   "source": [
    "# creating dictionary"
   ]
  },
  {
   "cell_type": "code",
   "execution_count": 3,
   "id": "c5c429ca",
   "metadata": {},
   "outputs": [
    {
     "name": "stdout",
     "output_type": "stream",
     "text": [
      "{1: 'name', 2: 'age', 3: 'add', 4: 'marks', 5: 'college'}\n"
     ]
    },
    {
     "data": {
      "text/plain": [
       "{1: 'name', 2: 'age', 3: 'add', 4: 'marks', 5: 'college'}"
      ]
     },
     "execution_count": 3,
     "metadata": {},
     "output_type": "execute_result"
    }
   ],
   "source": [
    "d={1:'name',2:'age',3:'add',4:'marks',5:'college'}\n",
    "print(d)\n",
    "d"
   ]
  },
  {
   "cell_type": "code",
   "execution_count": 19,
   "id": "98405d17",
   "metadata": {},
   "outputs": [
    {
     "name": "stdout",
     "output_type": "stream",
     "text": [
      "{'name': 'Lesa', 'class': 12, 'marks': [67, 78, 65, 66, 34], 'subjects': ['eng', 'tam', 'math']}\n"
     ]
    }
   ],
   "source": [
    "mark=[67,78,65,66,34]\n",
    "sub=['eng','tam','math']\n",
    "     \n",
    "dicts={'name':'Lesa', 'class': 12, 'marks':mark,'subjects':sub}\n",
    "print(dicts)"
   ]
  },
  {
   "cell_type": "code",
   "execution_count": 21,
   "id": "ce90d899",
   "metadata": {},
   "outputs": [],
   "source": [
    "### access individual values"
   ]
  },
  {
   "cell_type": "code",
   "execution_count": 22,
   "id": "22a34f02",
   "metadata": {},
   "outputs": [
    {
     "data": {
      "text/plain": [
       "['eng', 'tam', 'math']"
      ]
     },
     "execution_count": 22,
     "metadata": {},
     "output_type": "execute_result"
    }
   ],
   "source": [
    "dicts['subjects']"
   ]
  },
  {
   "cell_type": "code",
   "execution_count": 23,
   "id": "1798dad2",
   "metadata": {},
   "outputs": [
    {
     "data": {
      "text/plain": [
       "[67, 78, 65, 66, 34]"
      ]
     },
     "execution_count": 23,
     "metadata": {},
     "output_type": "execute_result"
    }
   ],
   "source": [
    "dicts['marks']"
   ]
  },
  {
   "cell_type": "code",
   "execution_count": 24,
   "id": "4824df4f",
   "metadata": {},
   "outputs": [
    {
     "data": {
      "text/plain": [
       "'Lesa'"
      ]
     },
     "execution_count": 24,
     "metadata": {},
     "output_type": "execute_result"
    }
   ],
   "source": [
    "dicts['name']"
   ]
  },
  {
   "cell_type": "code",
   "execution_count": 30,
   "id": "c72690e4",
   "metadata": {},
   "outputs": [
    {
     "ename": "KeyError",
     "evalue": "'addrress'",
     "output_type": "error",
     "traceback": [
      "\u001b[1;31m---------------------------------------------------------------------------\u001b[0m",
      "\u001b[1;31mKeyError\u001b[0m                                  Traceback (most recent call last)",
      "\u001b[1;32m~\\AppData\\Local\\Temp\\ipykernel_20140\\3241299790.py\u001b[0m in \u001b[0;36m<module>\u001b[1;34m\u001b[0m\n\u001b[1;32m----> 1\u001b[1;33m \u001b[0mprint\u001b[0m\u001b[1;33m(\u001b[0m\u001b[0mdicts\u001b[0m\u001b[1;33m[\u001b[0m\u001b[1;34m'addrress'\u001b[0m\u001b[1;33m]\u001b[0m\u001b[1;33m)\u001b[0m\u001b[1;31m#### note that to avoid key error using .get function\u001b[0m\u001b[1;33m\u001b[0m\u001b[1;33m\u001b[0m\u001b[0m\n\u001b[0m",
      "\u001b[1;31mKeyError\u001b[0m: 'addrress'"
     ]
    }
   ],
   "source": [
    "print(dicts['addrress'])#### note that to avoid key error using .get function"
   ]
  },
  {
   "cell_type": "code",
   "execution_count": 29,
   "id": "a92e10ec",
   "metadata": {},
   "outputs": [
    {
     "name": "stdout",
     "output_type": "stream",
     "text": [
      "None\n"
     ]
    }
   ],
   "source": [
    "print(dicts.get('address'))"
   ]
  },
  {
   "cell_type": "markdown",
   "id": "2fd2c249",
   "metadata": {},
   "source": [
    "#  print items, keys, values"
   ]
  },
  {
   "cell_type": "code",
   "execution_count": 31,
   "id": "a261f0b1",
   "metadata": {},
   "outputs": [
    {
     "name": "stdout",
     "output_type": "stream",
     "text": [
      "dict_items([('name', 'Lesa'), ('class', 12), ('marks', [67, 78, 65, 66, 34]), ('subjects', ['eng', 'tam', 'math'])])\n"
     ]
    }
   ],
   "source": [
    "print(dicts.items())"
   ]
  },
  {
   "cell_type": "code",
   "execution_count": 32,
   "id": "13eb4db8",
   "metadata": {},
   "outputs": [
    {
     "name": "stdout",
     "output_type": "stream",
     "text": [
      "dict_keys(['name', 'class', 'marks', 'subjects'])\n"
     ]
    }
   ],
   "source": [
    "print(dicts.keys())"
   ]
  },
  {
   "cell_type": "code",
   "execution_count": 33,
   "id": "161437d9",
   "metadata": {},
   "outputs": [
    {
     "name": "stdout",
     "output_type": "stream",
     "text": [
      "dict_values(['Lesa', 12, [67, 78, 65, 66, 34], ['eng', 'tam', 'math']])\n"
     ]
    }
   ],
   "source": [
    "print(dicts.values())"
   ]
  },
  {
   "cell_type": "markdown",
   "id": "4b9dad26",
   "metadata": {},
   "source": [
    "# loop through the dictionary"
   ]
  },
  {
   "cell_type": "code",
   "execution_count": 35,
   "id": "a9616b21",
   "metadata": {},
   "outputs": [
    {
     "name": "stdout",
     "output_type": "stream",
     "text": [
      "('name', 'Lesa')\n",
      "('class', 12)\n",
      "('marks', [67, 78, 65, 66, 34])\n",
      "('subjects', ['eng', 'tam', 'math'])\n"
     ]
    }
   ],
   "source": [
    "for i in dicts.items():\n",
    "    print(i)\n",
    "    "
   ]
  },
  {
   "cell_type": "code",
   "execution_count": 36,
   "id": "0fe5656b",
   "metadata": {},
   "outputs": [
    {
     "name": "stdout",
     "output_type": "stream",
     "text": [
      "name\n",
      "class\n",
      "marks\n",
      "subjects\n"
     ]
    }
   ],
   "source": [
    "for i in dicts.keys():\n",
    "    print(i)"
   ]
  },
  {
   "cell_type": "code",
   "execution_count": 37,
   "id": "a1bc73a2",
   "metadata": {},
   "outputs": [
    {
     "name": "stdout",
     "output_type": "stream",
     "text": [
      "Lesa\n",
      "12\n",
      "[67, 78, 65, 66, 34]\n",
      "['eng', 'tam', 'math']\n"
     ]
    }
   ],
   "source": [
    "for i in dicts.values():\n",
    "    print(i)"
   ]
  },
  {
   "cell_type": "markdown",
   "id": "53dcf97d",
   "metadata": {},
   "source": [
    "### sorting dictionary"
   ]
  },
  {
   "cell_type": "code",
   "execution_count": 39,
   "id": "f73ede6b",
   "metadata": {},
   "outputs": [
    {
     "name": "stdout",
     "output_type": "stream",
     "text": [
      "class\n",
      "marks\n",
      "name\n",
      "subjects\n"
     ]
    }
   ],
   "source": [
    "for i in sorted(dicts.keys()):\n",
    "    print(i)"
   ]
  },
  {
   "cell_type": "markdown",
   "id": "15edf81c",
   "metadata": {},
   "source": [
    "### find id in dictionary"
   ]
  },
  {
   "cell_type": "code",
   "execution_count": 43,
   "id": "0e2ace3f",
   "metadata": {},
   "outputs": [
    {
     "name": "stdout",
     "output_type": "stream",
     "text": [
      "2249247342656\n"
     ]
    }
   ],
   "source": [
    "print(id(dicts.keys()))"
   ]
  },
  {
   "cell_type": "code",
   "execution_count": 44,
   "id": "7e6f3bfa",
   "metadata": {},
   "outputs": [
    {
     "name": "stdout",
     "output_type": "stream",
     "text": [
      "2249251993024\n"
     ]
    }
   ],
   "source": [
    "print(id(dicts))"
   ]
  },
  {
   "cell_type": "code",
   "execution_count": 45,
   "id": "e3ab8186",
   "metadata": {},
   "outputs": [
    {
     "name": "stdout",
     "output_type": "stream",
     "text": [
      "2249168611984\n"
     ]
    }
   ],
   "source": [
    "print(id(dicts['class']))"
   ]
  },
  {
   "cell_type": "code",
   "execution_count": 46,
   "id": "a20347aa",
   "metadata": {},
   "outputs": [
    {
     "data": {
      "text/plain": [
       "2249251993024"
      ]
     },
     "execution_count": 46,
     "metadata": {},
     "output_type": "execute_result"
    }
   ],
   "source": [
    "id(dicts)"
   ]
  },
  {
   "cell_type": "markdown",
   "id": "fa42e497",
   "metadata": {},
   "source": [
    "### update dictionary values to another dictionary"
   ]
  },
  {
   "cell_type": "code",
   "execution_count": 47,
   "id": "621de5d0",
   "metadata": {},
   "outputs": [],
   "source": [
    "d={1:'name',2:'age',3:'add',4:'marks',5:'college'}"
   ]
  },
  {
   "cell_type": "code",
   "execution_count": 48,
   "id": "a7e43c4b",
   "metadata": {},
   "outputs": [
    {
     "data": {
      "text/plain": [
       "{1: 'name', 2: 'age', 3: 'add', 4: 'marks', 5: 'college'}"
      ]
     },
     "execution_count": 48,
     "metadata": {},
     "output_type": "execute_result"
    }
   ],
   "source": [
    "d"
   ]
  },
  {
   "cell_type": "code",
   "execution_count": 49,
   "id": "87d1bebb",
   "metadata": {},
   "outputs": [
    {
     "data": {
      "text/plain": [
       "{'name': 'Lesa',\n",
       " 'class': 12,\n",
       " 'marks': [67, 78, 65, 66, 34],\n",
       " 'subjects': ['eng', 'tam', 'math']}"
      ]
     },
     "execution_count": 49,
     "metadata": {},
     "output_type": "execute_result"
    }
   ],
   "source": [
    "dicts"
   ]
  },
  {
   "cell_type": "code",
   "execution_count": 50,
   "id": "e0705622",
   "metadata": {},
   "outputs": [],
   "source": [
    "d.update(dicts)"
   ]
  },
  {
   "cell_type": "code",
   "execution_count": 51,
   "id": "1cecf7c0",
   "metadata": {},
   "outputs": [
    {
     "data": {
      "text/plain": [
       "{1: 'name',\n",
       " 2: 'age',\n",
       " 3: 'add',\n",
       " 4: 'marks',\n",
       " 5: 'college',\n",
       " 'name': 'Lesa',\n",
       " 'class': 12,\n",
       " 'marks': [67, 78, 65, 66, 34],\n",
       " 'subjects': ['eng', 'tam', 'math']}"
      ]
     },
     "execution_count": 51,
     "metadata": {},
     "output_type": "execute_result"
    }
   ],
   "source": [
    "d"
   ]
  },
  {
   "cell_type": "code",
   "execution_count": 54,
   "id": "cf00a00a",
   "metadata": {},
   "outputs": [
    {
     "name": "stdout",
     "output_type": "stream",
     "text": [
      "dict_keys([1, 2, 3, 4, 5, 'name', 'class', 'marks', 'subjects']) \n"
     ]
    }
   ],
   "source": [
    "print(d.keys())"
   ]
  },
  {
   "cell_type": "code",
   "execution_count": 55,
   "id": "2de9a8f6",
   "metadata": {},
   "outputs": [
    {
     "name": "stdout",
     "output_type": "stream",
     "text": [
      "dict_values(['name', 'age', 'add', 'marks', 'college', 'Lesa', 12, [67, 78, 65, 66, 34], ['eng', 'tam', 'math']])\n"
     ]
    }
   ],
   "source": [
    "print(d.values())"
   ]
  },
  {
   "cell_type": "markdown",
   "id": "064d0580",
   "metadata": {},
   "source": [
    "### adding single dictionary value"
   ]
  },
  {
   "cell_type": "code",
   "execution_count": 57,
   "id": "8ab963c7",
   "metadata": {},
   "outputs": [],
   "source": [
    "d1= {'new':'varible added'}"
   ]
  },
  {
   "cell_type": "code",
   "execution_count": 58,
   "id": "88e8f33f",
   "metadata": {},
   "outputs": [],
   "source": [
    "d.update(d1)"
   ]
  },
  {
   "cell_type": "code",
   "execution_count": 59,
   "id": "13b9900b",
   "metadata": {},
   "outputs": [
    {
     "data": {
      "text/plain": [
       "{1: 'name',\n",
       " 2: 'age',\n",
       " 3: 'add',\n",
       " 4: 'marks',\n",
       " 5: 'college',\n",
       " 'name': 'Lesa',\n",
       " 'class': 12,\n",
       " 'marks': [67, 78, 65, 66, 34],\n",
       " 'subjects': ['eng', 'tam', 'math'],\n",
       " 'new': 'varible added'}"
      ]
     },
     "execution_count": 59,
     "metadata": {},
     "output_type": "execute_result"
    }
   ],
   "source": [
    "d"
   ]
  },
  {
   "cell_type": "markdown",
   "id": "a52d8601",
   "metadata": {},
   "source": [
    "###  Removing itemd from the dictionary"
   ]
  },
  {
   "cell_type": "code",
   "execution_count": 74,
   "id": "5cf5e126",
   "metadata": {},
   "outputs": [
    {
     "name": "stdout",
     "output_type": "stream",
     "text": [
      "{2: 'age', 3: 'add', 4: 'marks', 5: 'college', 'class': 12, 'marks': [67, 78, 65, 66, 34], 'subjects': ['eng', 'tam', 'math'], 'new': 'varible added'}\n"
     ]
    }
   ],
   "source": [
    "\n",
    "print(d)"
   ]
  },
  {
   "cell_type": "code",
   "execution_count": 76,
   "id": "a7c29016",
   "metadata": {},
   "outputs": [
    {
     "data": {
      "text/plain": [
       "'age'"
      ]
     },
     "execution_count": 76,
     "metadata": {},
     "output_type": "execute_result"
    }
   ],
   "source": [
    "d.pop(2)"
   ]
  },
  {
   "cell_type": "code",
   "execution_count": 78,
   "id": "29b29cd9",
   "metadata": {},
   "outputs": [],
   "source": [
    "del d[3]\n"
   ]
  },
  {
   "cell_type": "code",
   "execution_count": 79,
   "id": "901f6ab5",
   "metadata": {},
   "outputs": [
    {
     "data": {
      "text/plain": [
       "{4: 'marks',\n",
       " 5: 'college',\n",
       " 'class': 12,\n",
       " 'marks': [67, 78, 65, 66, 34],\n",
       " 'subjects': ['eng', 'tam', 'math'],\n",
       " 'new': 'varible added'}"
      ]
     },
     "execution_count": 79,
     "metadata": {},
     "output_type": "execute_result"
    }
   ],
   "source": [
    "d"
   ]
  },
  {
   "cell_type": "code",
   "execution_count": 81,
   "id": "1549b58e",
   "metadata": {},
   "outputs": [],
   "source": [
    "d.clear()"
   ]
  },
  {
   "cell_type": "code",
   "execution_count": 82,
   "id": "a00cb7e5",
   "metadata": {},
   "outputs": [
    {
     "data": {
      "text/plain": [
       "{}"
      ]
     },
     "execution_count": 82,
     "metadata": {},
     "output_type": "execute_result"
    }
   ],
   "source": [
    "d"
   ]
  },
  {
   "cell_type": "code",
   "execution_count": 83,
   "id": "51b33184",
   "metadata": {},
   "outputs": [],
   "source": [
    "del d"
   ]
  },
  {
   "cell_type": "code",
   "execution_count": 84,
   "id": "a4a3545b",
   "metadata": {},
   "outputs": [
    {
     "ename": "NameError",
     "evalue": "name 'd' is not defined",
     "output_type": "error",
     "traceback": [
      "\u001b[1;31m---------------------------------------------------------------------------\u001b[0m",
      "\u001b[1;31mNameError\u001b[0m                                 Traceback (most recent call last)",
      "\u001b[1;32m~\\AppData\\Local\\Temp\\ipykernel_20140\\3161387801.py\u001b[0m in \u001b[0;36m<module>\u001b[1;34m\u001b[0m\n\u001b[1;32m----> 1\u001b[1;33m \u001b[0md\u001b[0m\u001b[1;33m\u001b[0m\u001b[1;33m\u001b[0m\u001b[0m\n\u001b[0m",
      "\u001b[1;31mNameError\u001b[0m: name 'd' is not defined"
     ]
    }
   ],
   "source": [
    "d"
   ]
  },
  {
   "cell_type": "markdown",
   "id": "c2d98326",
   "metadata": {},
   "source": [
    "### Zip function"
   ]
  },
  {
   "cell_type": "code",
   "execution_count": 85,
   "id": "0e65684b",
   "metadata": {},
   "outputs": [
    {
     "data": {
      "text/plain": [
       "{'name': 'Lesa',\n",
       " 'class': 12,\n",
       " 'marks': [67, 78, 65, 66, 34],\n",
       " 'subjects': ['eng', 'tam', 'math']}"
      ]
     },
     "execution_count": 85,
     "metadata": {},
     "output_type": "execute_result"
    }
   ],
   "source": [
    "dicts"
   ]
  },
  {
   "cell_type": "code",
   "execution_count": 92,
   "id": "ba5ef9c7",
   "metadata": {},
   "outputs": [
    {
     "ename": "TypeError",
     "evalue": "'dict' object is not callable",
     "output_type": "error",
     "traceback": [
      "\u001b[1;31m---------------------------------------------------------------------------\u001b[0m",
      "\u001b[1;31mTypeError\u001b[0m                                 Traceback (most recent call last)",
      "\u001b[1;32m~\\AppData\\Local\\Temp\\ipykernel_20140\\1255675966.py\u001b[0m in \u001b[0;36m<module>\u001b[1;34m\u001b[0m\n\u001b[0;32m      6\u001b[0m \u001b[0mvalues\u001b[0m \u001b[1;33m=\u001b[0m \u001b[0md\u001b[0m\u001b[1;33m.\u001b[0m\u001b[0mvalues\u001b[0m\u001b[1;33m(\u001b[0m\u001b[1;33m)\u001b[0m\u001b[1;33m\u001b[0m\u001b[1;33m\u001b[0m\u001b[0m\n\u001b[0;32m      7\u001b[0m \u001b[1;33m\u001b[0m\u001b[0m\n\u001b[1;32m----> 8\u001b[1;33m \u001b[0mn\u001b[0m \u001b[1;33m=\u001b[0m \u001b[0mdict\u001b[0m\u001b[1;33m(\u001b[0m\u001b[0mzip\u001b[0m\u001b[1;33m(\u001b[0m\u001b[0mvalues\u001b[0m\u001b[1;33m,\u001b[0m \u001b[0mkeys\u001b[0m\u001b[1;33m)\u001b[0m\u001b[1;33m)\u001b[0m\u001b[1;33m\u001b[0m\u001b[1;33m\u001b[0m\u001b[0m\n\u001b[0m\u001b[0;32m      9\u001b[0m \u001b[0mo\u001b[0m \u001b[1;33m=\u001b[0m \u001b[0mdict\u001b[0m\u001b[1;33m(\u001b[0m\u001b[0msorted\u001b[0m\u001b[1;33m(\u001b[0m\u001b[0mn\u001b[0m\u001b[1;33m.\u001b[0m\u001b[0mitems\u001b[0m\u001b[1;33m(\u001b[0m\u001b[1;33m)\u001b[0m\u001b[1;33m)\u001b[0m\u001b[1;33m)\u001b[0m\u001b[1;33m\u001b[0m\u001b[1;33m\u001b[0m\u001b[0m\n\u001b[0;32m     10\u001b[0m \u001b[1;33m\u001b[0m\u001b[0m\n",
      "\u001b[1;31mTypeError\u001b[0m: 'dict' object is not callable"
     ]
    }
   ],
   "source": [
    "### zip dictionary\n",
    "\n",
    "d = {'name': 'lisa', 'age': '21', 'addr': 'saidapet'}\n",
    "\n",
    "keys = d.keys()\n",
    "values = d.values()\n",
    "\n",
    "n = dict(zip(values, keys))\n",
    "o = dict(sorted(n.items()))\n",
    "\n",
    "print(o)\n",
    "\n",
    "r = dict(zip(o.values(), o.keys()))\n",
    "print(r)\n"
   ]
  },
  {
   "cell_type": "code",
   "execution_count": 93,
   "id": "6e2925c1",
   "metadata": {},
   "outputs": [
    {
     "name": "stdout",
     "output_type": "stream",
     "text": [
      "['name', 'age', 'addr'] ['lisa', '21', 'saidapet']\n"
     ]
    }
   ],
   "source": [
    "a = list(d.keys())\n",
    "b = list(d.values())\n",
    "\n",
    "print(a, b)"
   ]
  },
  {
   "cell_type": "code",
   "execution_count": 95,
   "id": "cff79b85",
   "metadata": {},
   "outputs": [
    {
     "data": {
      "text/plain": [
       "[('name', 'lisa'), ('age', '21'), ('addr', 'saidapet')]"
      ]
     },
     "execution_count": 95,
     "metadata": {},
     "output_type": "execute_result"
    }
   ],
   "source": [
    "list(zip(a,b))"
   ]
  },
  {
   "cell_type": "markdown",
   "id": "bb2700bf",
   "metadata": {},
   "source": [
    "## Dict compare from list and string"
   ]
  },
  {
   "cell_type": "code",
   "execution_count": 96,
   "id": "65183049",
   "metadata": {},
   "outputs": [],
   "source": [
    "d={i:i**2 for i in [1,2,3]}"
   ]
  },
  {
   "cell_type": "code",
   "execution_count": 97,
   "id": "aa49e896",
   "metadata": {},
   "outputs": [
    {
     "data": {
      "text/plain": [
       "{1: 1, 2: 4, 3: 9}"
      ]
     },
     "execution_count": 97,
     "metadata": {},
     "output_type": "execute_result"
    }
   ],
   "source": [
    "d"
   ]
  },
  {
   "cell_type": "code",
   "execution_count": 98,
   "id": "28be115e",
   "metadata": {},
   "outputs": [],
   "source": [
    "lt=[1,2,3,4,5]\n",
    "d1={i:i**3 for i in lt}\n"
   ]
  },
  {
   "cell_type": "code",
   "execution_count": 99,
   "id": "ba5af9ca",
   "metadata": {},
   "outputs": [
    {
     "data": {
      "text/plain": [
       "{1: 1, 2: 8, 3: 27, 4: 64, 5: 125}"
      ]
     },
     "execution_count": 99,
     "metadata": {},
     "output_type": "execute_result"
    }
   ],
   "source": [
    "d1"
   ]
  },
  {
   "cell_type": "code",
   "execution_count": 100,
   "id": "9ea55ef3",
   "metadata": {},
   "outputs": [],
   "source": [
    "### string\n"
   ]
  },
  {
   "cell_type": "code",
   "execution_count": 104,
   "id": "05605fde",
   "metadata": {},
   "outputs": [],
   "source": [
    "st='helloworld'\n",
    "d={i:i*3 for i in st}"
   ]
  },
  {
   "cell_type": "code",
   "execution_count": 102,
   "id": "dc6a221f",
   "metadata": {},
   "outputs": [
    {
     "data": {
      "text/plain": [
       "{'h': 'hhh',\n",
       " 'e': 'eee',\n",
       " 'l': 'lll',\n",
       " 'o': 'ooo',\n",
       " 'w': 'www',\n",
       " 'r': 'rrr',\n",
       " 'd': 'ddd'}"
      ]
     },
     "execution_count": 102,
     "metadata": {},
     "output_type": "execute_result"
    }
   ],
   "source": [
    "d"
   ]
  },
  {
   "cell_type": "code",
   "execution_count": 105,
   "id": "08f41f4f",
   "metadata": {},
   "outputs": [],
   "source": [
    "### using range "
   ]
  },
  {
   "cell_type": "code",
   "execution_count": 110,
   "id": "2d2daf62",
   "metadata": {},
   "outputs": [],
   "source": [
    "d={i:i**4 for i in range(15)}"
   ]
  },
  {
   "cell_type": "code",
   "execution_count": 111,
   "id": "bfeaff8a",
   "metadata": {},
   "outputs": [
    {
     "data": {
      "text/plain": [
       "{0: 0,\n",
       " 1: 1,\n",
       " 2: 16,\n",
       " 3: 81,\n",
       " 4: 256,\n",
       " 5: 625,\n",
       " 6: 1296,\n",
       " 7: 2401,\n",
       " 8: 4096,\n",
       " 9: 6561,\n",
       " 10: 10000,\n",
       " 11: 14641,\n",
       " 12: 20736,\n",
       " 13: 28561,\n",
       " 14: 38416}"
      ]
     },
     "execution_count": 111,
     "metadata": {},
     "output_type": "execute_result"
    }
   ],
   "source": [
    "d"
   ]
  },
  {
   "cell_type": "code",
   "execution_count": 112,
   "id": "f0f18f97",
   "metadata": {},
   "outputs": [],
   "source": [
    "d={i:i**3 for i in range(len(lt))}"
   ]
  },
  {
   "cell_type": "code",
   "execution_count": 113,
   "id": "c0eb2739",
   "metadata": {},
   "outputs": [
    {
     "data": {
      "text/plain": [
       "{0: 0, 1: 1, 2: 8, 3: 27, 4: 64}"
      ]
     },
     "execution_count": 113,
     "metadata": {},
     "output_type": "execute_result"
    }
   ],
   "source": [
    "d"
   ]
  },
  {
   "cell_type": "code",
   "execution_count": 114,
   "id": "1173928c",
   "metadata": {},
   "outputs": [],
   "source": [
    "## range and if else inside the dictionary"
   ]
  },
  {
   "cell_type": "code",
   "execution_count": 117,
   "id": "ec449db8",
   "metadata": {},
   "outputs": [],
   "source": [
    "d={i:i**5 for i in range(10) if i%2==0}"
   ]
  },
  {
   "cell_type": "code",
   "execution_count": 118,
   "id": "02251535",
   "metadata": {},
   "outputs": [
    {
     "data": {
      "text/plain": [
       "{0: 0, 2: 32, 4: 1024, 6: 7776, 8: 32768}"
      ]
     },
     "execution_count": 118,
     "metadata": {},
     "output_type": "execute_result"
    }
   ],
   "source": [
    "d"
   ]
  },
  {
   "cell_type": "code",
   "execution_count": 119,
   "id": "5b1d865c",
   "metadata": {},
   "outputs": [],
   "source": [
    "### Nested Dictionary"
   ]
  },
  {
   "cell_type": "code",
   "execution_count": 121,
   "id": "b97e2e6d",
   "metadata": {},
   "outputs": [
    {
     "name": "stdout",
     "output_type": "stream",
     "text": [
      "Dictionary with values as list...\n"
     ]
    },
    {
     "data": {
      "text/plain": [
       "{11: [3, 6, 9, 12, 15, 18, 21, 24, 27],\n",
       " 12: [3, 6, 9, 12, 15, 18, 21, 24, 27],\n",
       " 13: [3, 6, 9, 12, 15, 18, 21, 24, 27],\n",
       " 14: [3, 6, 9, 12, 15, 18, 21, 24, 27],\n",
       " 15: [3, 6, 9, 12, 15, 18, 21, 24, 27],\n",
       " 16: [3, 6, 9, 12, 15, 18, 21, 24, 27],\n",
       " 17: [3, 6, 9, 12, 15, 18, 21, 24, 27],\n",
       " 18: [3, 6, 9, 12, 15, 18, 21, 24, 27],\n",
       " 19: [3, 6, 9, 12, 15, 18, 21, 24, 27],\n",
       " 20: [3, 6, 9, 12, 15, 18, 21, 24, 27],\n",
       " 21: [3, 6, 9, 12, 15, 18, 21, 24, 27]}"
      ]
     },
     "execution_count": 121,
     "metadata": {},
     "output_type": "execute_result"
    }
   ],
   "source": [
    "print('Dictionary with values as list...')\n",
    "d={i:[i*3 for i in range(1,10)] for i in range(11,22)}\n",
    "d"
   ]
  },
  {
   "cell_type": "code",
   "execution_count": 127,
   "id": "a60c8b9c",
   "metadata": {},
   "outputs": [
    {
     "name": "stdout",
     "output_type": "stream",
     "text": [
      "Dictionary with values as dict\n"
     ]
    },
    {
     "data": {
      "text/plain": [
       "{11: {1: 3, 2: 6, 3: 9, 4: 12, 5: 15, 6: 18, 7: 21, 8: 24, 9: 27},\n",
       " 12: {1: 3, 2: 6, 3: 9, 4: 12, 5: 15, 6: 18, 7: 21, 8: 24, 9: 27},\n",
       " 13: {1: 3, 2: 6, 3: 9, 4: 12, 5: 15, 6: 18, 7: 21, 8: 24, 9: 27},\n",
       " 14: {1: 3, 2: 6, 3: 9, 4: 12, 5: 15, 6: 18, 7: 21, 8: 24, 9: 27},\n",
       " 15: {1: 3, 2: 6, 3: 9, 4: 12, 5: 15, 6: 18, 7: 21, 8: 24, 9: 27},\n",
       " 16: {1: 3, 2: 6, 3: 9, 4: 12, 5: 15, 6: 18, 7: 21, 8: 24, 9: 27},\n",
       " 17: {1: 3, 2: 6, 3: 9, 4: 12, 5: 15, 6: 18, 7: 21, 8: 24, 9: 27},\n",
       " 18: {1: 3, 2: 6, 3: 9, 4: 12, 5: 15, 6: 18, 7: 21, 8: 24, 9: 27},\n",
       " 19: {1: 3, 2: 6, 3: 9, 4: 12, 5: 15, 6: 18, 7: 21, 8: 24, 9: 27},\n",
       " 20: {1: 3, 2: 6, 3: 9, 4: 12, 5: 15, 6: 18, 7: 21, 8: 24, 9: 27},\n",
       " 21: {1: 3, 2: 6, 3: 9, 4: 12, 5: 15, 6: 18, 7: 21, 8: 24, 9: 27}}"
      ]
     },
     "execution_count": 127,
     "metadata": {},
     "output_type": "execute_result"
    }
   ],
   "source": [
    "print('Dictionary with values as dict')\n",
    "d={i:{d:d*3 for d in range(1,10)} for i in range (11,22)}\n",
    "d"
   ]
  },
  {
   "cell_type": "code",
   "execution_count": 134,
   "id": "d3403cdb",
   "metadata": {},
   "outputs": [
    {
     "name": "stdout",
     "output_type": "stream",
     "text": [
      "Dictionary with values as string\n"
     ]
    },
    {
     "data": {
      "text/plain": [
       "{'h': {1: 'h', 2: 'hh', 3: 'hhh', 4: 'hhhh'},\n",
       " 'e': {1: 'e', 2: 'ee', 3: 'eee', 4: 'eeee'},\n",
       " 'l': {1: 'l', 2: 'll', 3: 'lll', 4: 'llll'},\n",
       " 'o': {1: 'o', 2: 'oo', 3: 'ooo', 4: 'oooo'},\n",
       " 'w': {1: 'w', 2: 'ww', 3: 'www', 4: 'wwww'},\n",
       " 'r': {1: 'r', 2: 'rr', 3: 'rrr', 4: 'rrrr'},\n",
       " 'd': {1: 'd', 2: 'dd', 3: 'ddd', 4: 'dddd'}}"
      ]
     },
     "execution_count": 134,
     "metadata": {},
     "output_type": "execute_result"
    }
   ],
   "source": [
    "print('Dictionary with values as string')\n",
    "d={i:{s:s*i for s in range(1,5)} for i in 'helloworld'}\n",
    "d"
   ]
  },
  {
   "cell_type": "markdown",
   "id": "fc6c9a96",
   "metadata": {},
   "source": [
    "# List Comprehension"
   ]
  },
  {
   "cell_type": "code",
   "execution_count": 135,
   "id": "7bf828a9",
   "metadata": {},
   "outputs": [
    {
     "data": {
      "text/plain": [
       "[2, 4, 6, 8, 10, 12, 14, 16, 18]"
      ]
     },
     "execution_count": 135,
     "metadata": {},
     "output_type": "execute_result"
    }
   ],
   "source": [
    "# even list using list conprehension\n",
    "\n",
    "even=[i for i in range(1,20) if i%2==0]\n",
    "even"
   ]
  },
  {
   "cell_type": "code",
   "execution_count": 137,
   "id": "04f39e81",
   "metadata": {},
   "outputs": [
    {
     "data": {
      "text/plain": [
       "[1, 3, 5, 7, 9, 11, 13, 15, 17, 19]"
      ]
     },
     "execution_count": 137,
     "metadata": {},
     "output_type": "execute_result"
    }
   ],
   "source": [
    "# odd list using list comprehension\n",
    "\n",
    "odd=[i for i in range (1,20) if i%2!=0]\n",
    "odd"
   ]
  },
  {
   "cell_type": "code",
   "execution_count": 142,
   "id": "e6518504",
   "metadata": {},
   "outputs": [
    {
     "data": {
      "text/plain": [
       "[[1, 2, 3, 4], [1, 2, 3, 4]]"
      ]
     },
     "execution_count": 142,
     "metadata": {},
     "output_type": "execute_result"
    }
   ],
   "source": [
    "# matric generation using list comprehension\n",
    "\n",
    "mat=[[i for i in range(1,5)] for j in range(1,3)]\n",
    "mat"
   ]
  },
  {
   "cell_type": "code",
   "execution_count": 144,
   "id": "f048bab6",
   "metadata": {},
   "outputs": [
    {
     "data": {
      "text/plain": [
       "['h', 'e', 'l', 'l', 'o', 'w', 'o', 'r', 'l', 'd']"
      ]
     },
     "execution_count": 144,
     "metadata": {},
     "output_type": "execute_result"
    }
   ],
   "source": [
    "## list comprehension through iteration using  string\n",
    "\n",
    "strings=[a for a in 'helloworld']\n",
    "strings"
   ]
  },
  {
   "cell_type": "markdown",
   "id": "666f64d8",
   "metadata": {},
   "source": [
    "## List handling"
   ]
  },
  {
   "cell_type": "markdown",
   "id": "e3946455",
   "metadata": {},
   "source": [
    "### split,extend, insert, index, remove, pop, clear,\n",
    "### remove, copy, count, any, all, ennumerate, append, update\n"
   ]
  },
  {
   "cell_type": "code",
   "execution_count": 145,
   "id": "147a6bea",
   "metadata": {},
   "outputs": [],
   "source": [
    "lt=[1,2,3,4,5]\n"
   ]
  },
  {
   "cell_type": "code",
   "execution_count": 146,
   "id": "d571f111",
   "metadata": {},
   "outputs": [
    {
     "data": {
      "text/plain": [
       "[1, 2, 3, 4, 5]"
      ]
     },
     "execution_count": 146,
     "metadata": {},
     "output_type": "execute_result"
    }
   ],
   "source": [
    "lt"
   ]
  },
  {
   "cell_type": "code",
   "execution_count": 147,
   "id": "f734771d",
   "metadata": {},
   "outputs": [],
   "source": [
    "ls=[9,8]"
   ]
  },
  {
   "cell_type": "code",
   "execution_count": 148,
   "id": "d508f0b8",
   "metadata": {},
   "outputs": [
    {
     "data": {
      "text/plain": [
       "[9, 8]"
      ]
     },
     "execution_count": 148,
     "metadata": {},
     "output_type": "execute_result"
    }
   ],
   "source": [
    "ls"
   ]
  },
  {
   "cell_type": "code",
   "execution_count": 149,
   "id": "78c453d6",
   "metadata": {},
   "outputs": [],
   "source": [
    "lt.append(ls)"
   ]
  },
  {
   "cell_type": "code",
   "execution_count": 150,
   "id": "18d7b181",
   "metadata": {},
   "outputs": [
    {
     "data": {
      "text/plain": [
       "[1, 2, 3, 4, 5, [9, 8]]"
      ]
     },
     "execution_count": 150,
     "metadata": {},
     "output_type": "execute_result"
    }
   ],
   "source": [
    "lt\n"
   ]
  },
  {
   "cell_type": "code",
   "execution_count": 151,
   "id": "bf956977",
   "metadata": {},
   "outputs": [],
   "source": [
    "lt.extend(ls)"
   ]
  },
  {
   "cell_type": "code",
   "execution_count": 152,
   "id": "f47a85b4",
   "metadata": {},
   "outputs": [
    {
     "data": {
      "text/plain": [
       "[1, 2, 3, 4, 5, [9, 8], 9, 8]"
      ]
     },
     "execution_count": 152,
     "metadata": {},
     "output_type": "execute_result"
    }
   ],
   "source": [
    "lt"
   ]
  },
  {
   "cell_type": "code",
   "execution_count": 153,
   "id": "6ddc323a",
   "metadata": {},
   "outputs": [],
   "source": [
    "del lt"
   ]
  },
  {
   "cell_type": "code",
   "execution_count": 155,
   "id": "4dfaa8ef",
   "metadata": {},
   "outputs": [],
   "source": [
    "lt=[1,2,3,4,5]"
   ]
  },
  {
   "cell_type": "code",
   "execution_count": 156,
   "id": "8cb7bf90",
   "metadata": {},
   "outputs": [],
   "source": [
    "lt.extend(ls)"
   ]
  },
  {
   "cell_type": "code",
   "execution_count": 157,
   "id": "0baa8e37",
   "metadata": {},
   "outputs": [
    {
     "data": {
      "text/plain": [
       "[1, 2, 3, 4, 5, 9, 8]"
      ]
     },
     "execution_count": 157,
     "metadata": {},
     "output_type": "execute_result"
    }
   ],
   "source": [
    "lt"
   ]
  },
  {
   "cell_type": "code",
   "execution_count": 158,
   "id": "ef9c482f",
   "metadata": {},
   "outputs": [
    {
     "ename": "AttributeError",
     "evalue": "'list' object has no attribute 'split'",
     "output_type": "error",
     "traceback": [
      "\u001b[1;31m---------------------------------------------------------------------------\u001b[0m",
      "\u001b[1;31mAttributeError\u001b[0m                            Traceback (most recent call last)",
      "\u001b[1;32m~\\AppData\\Local\\Temp\\ipykernel_20140\\4283403077.py\u001b[0m in \u001b[0;36m<module>\u001b[1;34m\u001b[0m\n\u001b[1;32m----> 1\u001b[1;33m \u001b[0mlt\u001b[0m\u001b[1;33m.\u001b[0m\u001b[0msplit\u001b[0m\u001b[1;33m(\u001b[0m\u001b[1;33m)\u001b[0m\u001b[1;33m\u001b[0m\u001b[1;33m\u001b[0m\u001b[0m\n\u001b[0m",
      "\u001b[1;31mAttributeError\u001b[0m: 'list' object has no attribute 'split'"
     ]
    }
   ],
   "source": [
    "lt.split()"
   ]
  },
  {
   "cell_type": "code",
   "execution_count": 159,
   "id": "ad343aca",
   "metadata": {},
   "outputs": [
    {
     "name": "stdout",
     "output_type": "stream",
     "text": [
      "1,2,3,4,5\n"
     ]
    }
   ],
   "source": [
    "s=input()"
   ]
  },
  {
   "cell_type": "code",
   "execution_count": 160,
   "id": "2f8966ac",
   "metadata": {},
   "outputs": [
    {
     "data": {
      "text/plain": [
       "'1,2,3,4,5'"
      ]
     },
     "execution_count": 160,
     "metadata": {},
     "output_type": "execute_result"
    }
   ],
   "source": [
    "s"
   ]
  },
  {
   "cell_type": "code",
   "execution_count": 161,
   "id": "4153c494",
   "metadata": {},
   "outputs": [
    {
     "data": {
      "text/plain": [
       "['1,2,3,4,5']"
      ]
     },
     "execution_count": 161,
     "metadata": {},
     "output_type": "execute_result"
    }
   ],
   "source": [
    "s.split()"
   ]
  },
  {
   "cell_type": "code",
   "execution_count": null,
   "id": "fd2fb349",
   "metadata": {},
   "outputs": [],
   "source": []
  }
 ],
 "metadata": {
  "kernelspec": {
   "display_name": "Python 3 (ipykernel)",
   "language": "python",
   "name": "python3"
  },
  "language_info": {
   "codemirror_mode": {
    "name": "ipython",
    "version": 3
   },
   "file_extension": ".py",
   "mimetype": "text/x-python",
   "name": "python",
   "nbconvert_exporter": "python",
   "pygments_lexer": "ipython3",
   "version": "3.9.13"
  }
 },
 "nbformat": 4,
 "nbformat_minor": 5
}
