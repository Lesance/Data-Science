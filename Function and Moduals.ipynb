{
 "cells": [
  {
   "cell_type": "markdown",
   "id": "cf2c6b98",
   "metadata": {},
   "source": [
    "# Function and moduals"
   ]
  },
  {
   "cell_type": "code",
   "execution_count": 1,
   "id": "0aaff069",
   "metadata": {},
   "outputs": [],
   "source": [
    "# create user defined function"
   ]
  },
  {
   "cell_type": "code",
   "execution_count": 4,
   "id": "1a820a64",
   "metadata": {},
   "outputs": [],
   "source": [
    "def square(x):\n",
    "    print(x**2)\n"
   ]
  },
  {
   "cell_type": "code",
   "execution_count": 5,
   "id": "a9eb6b02",
   "metadata": {},
   "outputs": [
    {
     "name": "stdout",
     "output_type": "stream",
     "text": [
      "9\n"
     ]
    }
   ],
   "source": [
    "square(3)"
   ]
  },
  {
   "cell_type": "code",
   "execution_count": 6,
   "id": "2f2474b6",
   "metadata": {},
   "outputs": [],
   "source": [
    "def welcome():\n",
    "    print('Hello World!!, welcome to my Jupyter Notebook')"
   ]
  },
  {
   "cell_type": "code",
   "execution_count": 7,
   "id": "94b0d0d8",
   "metadata": {},
   "outputs": [
    {
     "name": "stdout",
     "output_type": "stream",
     "text": [
      "Hello World!!, welcome to my Jupyter Notebook\n"
     ]
    }
   ],
   "source": [
    "welcome()"
   ]
  },
  {
   "cell_type": "code",
   "execution_count": 8,
   "id": "8c1d4b43",
   "metadata": {},
   "outputs": [
    {
     "name": "stdout",
     "output_type": "stream",
     "text": [
      "Hello World!!, welcome to my Jupyter Notebook\n"
     ]
    }
   ],
   "source": [
    "# function calling\n",
    "\n",
    "def welcome():\n",
    "    print('Hello World!!, welcome to my Jupyter Notebook')\n",
    "welcome()"
   ]
  },
  {
   "cell_type": "code",
   "execution_count": 17,
   "id": "7e387505",
   "metadata": {},
   "outputs": [],
   "source": [
    "# define multiple arguments\n",
    "\n",
    "def number(x1,x2,x3,x4):\n",
    "    a=x1+x2\n",
    "    b=x3*x4\n",
    "    c=x1+x2-x3+x4\n",
    "    d=x2/x3\n",
    "    e=x2//x3\n",
    "    f=x1%x4\n",
    "    print(a,b,c,d,e,f)\n",
    "    #return([a,b,c,d,e,f])"
   ]
  },
  {
   "cell_type": "code",
   "execution_count": 18,
   "id": "1875b5e0",
   "metadata": {},
   "outputs": [
    {
     "name": "stdout",
     "output_type": "stream",
     "text": [
      "15 48 17 0.8333333333333334 0 2\n"
     ]
    }
   ],
   "source": [
    "number(10,5,6,8)"
   ]
  },
  {
   "cell_type": "code",
   "execution_count": 1,
   "id": "198af208",
   "metadata": {},
   "outputs": [
    {
     "name": "stdout",
     "output_type": "stream",
     "text": [
      "before increment: 5\n",
      "In Increment: 6\n",
      "after increment: 5\n"
     ]
    }
   ],
   "source": [
    "# call by value- immutable \n",
    "\n",
    "def increment(n):\n",
    "    n=n+1\n",
    "    print('In Increment:',str(n))\n",
    "    \n",
    "n=5\n",
    "print('before increment:', str(n))\n",
    "increment(n)\n",
    "print('after increment:',str(n))\n"
   ]
  },
  {
   "cell_type": "code",
   "execution_count": null,
   "id": "abae934e",
   "metadata": {},
   "outputs": [],
   "source": [
    "increment(5)"
   ]
  },
  {
   "cell_type": "code",
   "execution_count": 2,
   "id": "db4230f9",
   "metadata": {},
   "outputs": [
    {
     "name": "stdout",
     "output_type": "stream",
     "text": [
      "before lt: [1, 2, 3, 4, 5]\n",
      "In function: [1, 2, 3, 4, 5, 234]\n",
      "after lt: [1, 2, 3, 4, 5, 234]\n"
     ]
    }
   ],
   "source": [
    "# call by reference- mutable\n",
    "\n",
    "def increment(lt):\n",
    "    lt.append(234)\n",
    "    print('In function:', lt)\n",
    "\n",
    "lt=[1,2,3,4,5]\n",
    "print('before lt:', lt)\n",
    "increment(lt)\n",
    "print('after lt:',lt)\n",
    "    \n"
   ]
  },
  {
   "cell_type": "code",
   "execution_count": 4,
   "id": "b799c676",
   "metadata": {},
   "outputs": [],
   "source": [
    "# return statement\n",
    "\n",
    "def summing(num1,num2):\n",
    "    return(num1+num2)\n"
   ]
  },
  {
   "cell_type": "code",
   "execution_count": 5,
   "id": "de8886b6",
   "metadata": {},
   "outputs": [
    {
     "data": {
      "text/plain": [
       "7"
      ]
     },
     "execution_count": 5,
     "metadata": {},
     "output_type": "execute_result"
    }
   ],
   "source": [
    "summing(3,4)"
   ]
  },
  {
   "cell_type": "markdown",
   "id": "76388d1d",
   "metadata": {},
   "source": [
    "#  Type of function Arguments:\n"
   ]
  },
  {
   "cell_type": "code",
   "execution_count": 18,
   "id": "a978a10e",
   "metadata": {},
   "outputs": [
    {
     "name": "stdout",
     "output_type": "stream",
     "text": [
      "10 + 43 = 53\n",
      "5 + 43 = 48\n"
     ]
    }
   ],
   "source": [
    "# Default Arguments:\n",
    "\n",
    "  \n",
    "# def adds(n1,n2=50):\n",
    "#     print(n1,'+',n2,'=',n1+n2)\n",
    "\n",
    "# adds(10)\n",
    "# adds(10,10)\n",
    "\n",
    "def adds(n1,n2=43):\n",
    "    print(n1,'+',n2,'=',n1+n2)\n",
    "\n",
    "adds(10)\n",
    "\n",
    "def adds(n1=5,n2=43):\n",
    "    print(n1,'+',n2,'=',n1+n2)\n",
    "\n",
    "adds()\n",
    "\n",
    "\n",
    "    "
   ]
  },
  {
   "cell_type": "code",
   "execution_count": 19,
   "id": "d708f330",
   "metadata": {},
   "outputs": [
    {
     "ename": "SyntaxError",
     "evalue": "non-default argument follows default argument (1684447788.py, line 1)",
     "output_type": "error",
     "traceback": [
      "\u001b[1;36m  File \u001b[1;32m\"C:\\Users\\vigne\\AppData\\Local\\Temp\\ipykernel_14020\\1684447788.py\"\u001b[1;36m, line \u001b[1;32m1\u001b[0m\n\u001b[1;33m    def adds(n1=5,n2):\u001b[0m\n\u001b[1;37m                    ^\u001b[0m\n\u001b[1;31mSyntaxError\u001b[0m\u001b[1;31m:\u001b[0m non-default argument follows default argument\n"
     ]
    }
   ],
   "source": [
    "def adds(n1=5,n2):\n",
    "    print(n1,'+',n2,'=',n1+n2)\n",
    "\n",
    "adds()"
   ]
  },
  {
   "cell_type": "markdown",
   "id": "3d6107d7",
   "metadata": {},
   "source": [
    "# Keyword arguments"
   ]
  },
  {
   "cell_type": "code",
   "execution_count": 23,
   "id": "e7c9abfc",
   "metadata": {},
   "outputs": [
    {
     "name": "stdout",
     "output_type": "stream",
     "text": [
      "21 lisa saidapet\n",
      "21 lisa saidapet\n",
      "21 lisa saidapet\n",
      "21 lisa saidapet\n"
     ]
    }
   ],
   "source": [
    "\n",
    "def prints(age, name, area):\n",
    "    print(age, name,area)\n",
    "    \n",
    "prints(21,'lisa','saidapet')\n",
    "prints(21,name='lisa',area='saidapet')\n",
    "prints(name='lisa',area='saidapet',age=21)\n",
    "prints(area='saidapet',age=21,name='lisa')"
   ]
  },
  {
   "cell_type": "code",
   "execution_count": 24,
   "id": "68a18568",
   "metadata": {},
   "outputs": [
    {
     "ename": "SyntaxError",
     "evalue": "positional argument follows keyword argument (4179342896.py, line 6)",
     "output_type": "error",
     "traceback": [
      "\u001b[1;36m  File \u001b[1;32m\"C:\\Users\\vigne\\AppData\\Local\\Temp\\ipykernel_14020\\4179342896.py\"\u001b[1;36m, line \u001b[1;32m6\u001b[0m\n\u001b[1;33m    prints(name='lisa','saidapet',age=21)\u001b[0m\n\u001b[1;37m                                        ^\u001b[0m\n\u001b[1;31mSyntaxError\u001b[0m\u001b[1;31m:\u001b[0m positional argument follows keyword argument\n"
     ]
    }
   ],
   "source": [
    "def prints(age, name, area):\n",
    "    print(age, name,area)\n",
    "    \n",
    "prints(21,'lisa','saidapet')\n",
    "prints(21,name='lisa',area='saidapet')\n",
    "prints(name='lisa','saidapet',age=21)\n",
    "prints(area='saidapet',age=21,name='lisa')"
   ]
  },
  {
   "cell_type": "markdown",
   "id": "0ce54789",
   "metadata": {},
   "source": [
    "# Positional arguments"
   ]
  },
  {
   "cell_type": "code",
   "execution_count": 25,
   "id": "730500d3",
   "metadata": {},
   "outputs": [
    {
     "name": "stdout",
     "output_type": "stream",
     "text": [
      "21 lisa saidapet\n",
      "lisa saidapet 21\n",
      "saidapet 21 lisa\n"
     ]
    }
   ],
   "source": [
    "def prints(age, name, area):\n",
    "    print(age, name,area)\n",
    "    \n",
    "prints(21,'lisa','saidapet')\n",
    "prints('lisa','saidapet',21)\n",
    "prints('saidapet',21,'lisa')"
   ]
  },
  {
   "cell_type": "markdown",
   "id": "40ebab33",
   "metadata": {},
   "source": [
    "# Arbitary arguments"
   ]
  },
  {
   "cell_type": "code",
   "execution_count": 28,
   "id": "83070b78",
   "metadata": {},
   "outputs": [],
   "source": [
    "# you can give n number of arguments in the function\n",
    "\n",
    "def summ(n,*arg):\n",
    "    s=0\n",
    "    for i in arg:\n",
    "        s=s+i\n",
    "    print(s)\n"
   ]
  },
  {
   "cell_type": "code",
   "execution_count": 35,
   "id": "128a6a00",
   "metadata": {},
   "outputs": [
    {
     "name": "stdout",
     "output_type": "stream",
     "text": [
      "5\n"
     ]
    }
   ],
   "source": [
    "summ(3,4,1)  # first values not com=nsider in summing up let's check."
   ]
  },
  {
   "cell_type": "code",
   "execution_count": 33,
   "id": "4ba68cec",
   "metadata": {},
   "outputs": [
    {
     "name": "stdout",
     "output_type": "stream",
     "text": [
      "14\n",
      "23\n",
      "36\n",
      "5\n"
     ]
    }
   ],
   "source": [
    "summ(1,2,3,4,5)\n",
    "summ(1,2,3,4,5,4,5)\n",
    "summ(1,2,3,4,5,4,5,6,7)\n",
    "summ(1,1,1,1,1,1)"
   ]
  },
  {
   "cell_type": "markdown",
   "id": "8aa42fa9",
   "metadata": {},
   "source": [
    "# kwargs"
   ]
  },
  {
   "cell_type": "code",
   "execution_count": 38,
   "id": "a616fdca",
   "metadata": {},
   "outputs": [
    {
     "ename": "NameError",
     "evalue": "name 'kwargs' is not defined",
     "output_type": "error",
     "traceback": [
      "\u001b[1;31m---------------------------------------------------------------------------\u001b[0m",
      "\u001b[1;31mNameError\u001b[0m                                 Traceback (most recent call last)",
      "\u001b[1;32m~\\AppData\\Local\\Temp\\ipykernel_14020\\1763335073.py\u001b[0m in \u001b[0;36m<module>\u001b[1;34m\u001b[0m\n\u001b[1;32m----> 1\u001b[1;33m \u001b[1;32mfor\u001b[0m \u001b[0mi\u001b[0m \u001b[1;32min\u001b[0m \u001b[0mkwargs\u001b[0m\u001b[1;33m.\u001b[0m\u001b[0mitems\u001b[0m\u001b[1;33m(\u001b[0m\u001b[1;33m)\u001b[0m\u001b[1;33m:\u001b[0m\u001b[1;33m\u001b[0m\u001b[1;33m\u001b[0m\u001b[0m\n\u001b[0m\u001b[0;32m      2\u001b[0m     \u001b[0mprint\u001b[0m\u001b[1;33m(\u001b[0m\u001b[0mi\u001b[0m\u001b[1;33m)\u001b[0m\u001b[1;33m\u001b[0m\u001b[1;33m\u001b[0m\u001b[0m\n",
      "\u001b[1;31mNameError\u001b[0m: name 'kwargs' is not defined"
     ]
    }
   ],
   "source": [
    "for i in kwargs.items():\n",
    "    print(i)"
   ]
  },
  {
   "cell_type": "code",
   "execution_count": 42,
   "id": "1ebc0e1d",
   "metadata": {},
   "outputs": [],
   "source": [
    "def info(**kwargs):\n",
    "    print(kwargs)\n",
    "    print()"
   ]
  },
  {
   "cell_type": "code",
   "execution_count": 45,
   "id": "c9e427fa",
   "metadata": {},
   "outputs": [
    {
     "name": "stdout",
     "output_type": "stream",
     "text": [
      "{'age': 21, 'name': 'lisa'}\n",
      "\n",
      "{'age': 21}\n",
      "\n",
      "{'age': 21, 'name': 'lisa', 'area': 'saidapet'}\n",
      "\n",
      "{'name': 'lisa', 'area': 'saidapet', 'age': 21}\n",
      "\n",
      "{'area': 'saidapet', 'age': 21, 'name': 'lisa'}\n",
      "\n"
     ]
    }
   ],
   "source": [
    "info(age=21,name='lisa')\n",
    "info(age=21)\n",
    "info(age=21,name='lisa',area='saidapet')\n",
    "info(name='lisa',area='saidapet',age=21)\n",
    "info(area='saidapet',age=21,name='lisa')"
   ]
  },
  {
   "cell_type": "markdown",
   "id": "e3ca55f7",
   "metadata": {},
   "source": [
    "# Doc string"
   ]
  },
  {
   "cell_type": "code",
   "execution_count": 60,
   "id": "de0f41df",
   "metadata": {},
   "outputs": [
    {
     "name": "stdout",
     "output_type": "stream",
     "text": [
      "summing up n1 and n2 \n",
      "    getting ready to sum doc function \n",
      "    concatenating all the string\n"
     ]
    }
   ],
   "source": [
    "def add(n1,n2):\n",
    "    '''summing up n1 and n2 \n",
    "    getting ready to sum doc function \n",
    "    concatenating all the string'''\n",
    "    s=n1+n2\n",
    "    return(s)\n",
    "\n",
    "print(add.__doc__)"
   ]
  },
  {
   "cell_type": "code",
   "execution_count": 55,
   "id": "b7e88038",
   "metadata": {},
   "outputs": [
    {
     "data": {
      "text/plain": [
       "89"
      ]
     },
     "execution_count": 55,
     "metadata": {},
     "output_type": "execute_result"
    }
   ],
   "source": [
    "add(4,85)"
   ]
  },
  {
   "cell_type": "code",
   "execution_count": 52,
   "id": "b6b98c9d",
   "metadata": {},
   "outputs": [
    {
     "name": "stdout",
     "output_type": "stream",
     "text": [
      "Function returns concatenated string\n"
     ]
    }
   ],
   "source": [
    "def adds(s1,s2):\n",
    "    '''Function returns concatenated string'''\n",
    "    s = s1+s2\n",
    "    return s\n",
    "\n",
    "print(adds.__doc__)"
   ]
  },
  {
   "cell_type": "markdown",
   "id": "186d71af",
   "metadata": {},
   "source": [
    "# Function within function"
   ]
  },
  {
   "cell_type": "code",
   "execution_count": 4,
   "id": "ce67c48f",
   "metadata": {},
   "outputs": [
    {
     "name": "stdout",
     "output_type": "stream",
     "text": [
      "function 1\n",
      "function 2\n"
     ]
    }
   ],
   "source": [
    "def p1():\n",
    "    print('function 1')\n",
    "    def p2():\n",
    "        print('function 2')\n",
    "    p2()\n",
    "\n",
    "    \n",
    "\n",
    "p1()\n",
    "    "
   ]
  },
  {
   "cell_type": "markdown",
   "id": "efb4d04d",
   "metadata": {},
   "source": [
    "# lambda function"
   ]
  },
  {
   "cell_type": "code",
   "execution_count": 5,
   "id": "f54a31d4",
   "metadata": {},
   "outputs": [
    {
     "data": {
      "text/plain": [
       "49"
      ]
     },
     "execution_count": 5,
     "metadata": {},
     "output_type": "execute_result"
    }
   ],
   "source": [
    "sq=lambda x:x**2\n",
    "sq(7)"
   ]
  },
  {
   "cell_type": "code",
   "execution_count": 6,
   "id": "c7c5c52e",
   "metadata": {},
   "outputs": [
    {
     "data": {
      "text/plain": [
       "64"
      ]
     },
     "execution_count": 6,
     "metadata": {},
     "output_type": "execute_result"
    }
   ],
   "source": [
    "cube=lambda x: x**3\n",
    "cube(4)"
   ]
  },
  {
   "cell_type": "code",
   "execution_count": 9,
   "id": "7b990c86",
   "metadata": {},
   "outputs": [
    {
     "data": {
      "text/plain": [
       "'lesser'"
      ]
     },
     "execution_count": 9,
     "metadata": {},
     "output_type": "execute_result"
    }
   ],
   "source": [
    "# if else in lambda\n",
    "\n",
    "res=lambda x: 'greater' if x<10 else 'lesser'\n",
    "res(12)\n"
   ]
  },
  {
   "cell_type": "code",
   "execution_count": 12,
   "id": "75a6cd85",
   "metadata": {},
   "outputs": [
    {
     "data": {
      "text/plain": [
       "True"
      ]
     },
     "execution_count": 12,
     "metadata": {},
     "output_type": "execute_result"
    }
   ],
   "source": [
    "# odd or even in lambda function\n",
    "\n",
    "odd=lambda x: x%2==1\n",
    "odd(5)"
   ]
  },
  {
   "cell_type": "code",
   "execution_count": 13,
   "id": "57245eae",
   "metadata": {},
   "outputs": [
    {
     "data": {
      "text/plain": [
       "True"
      ]
     },
     "execution_count": 13,
     "metadata": {},
     "output_type": "execute_result"
    }
   ],
   "source": [
    "even= lambda x: x%2==0\n",
    "even(4)"
   ]
  },
  {
   "cell_type": "markdown",
   "id": "334c549f",
   "metadata": {},
   "source": [
    "#  Variable scope"
   ]
  },
  {
   "cell_type": "code",
   "execution_count": 14,
   "id": "b92fbbde",
   "metadata": {},
   "outputs": [],
   "source": [
    "# varibale can used inside the function is called  local variable scope\n",
    "# A variable can be used in ouside of the function is called global scope.\n",
    "\n",
    "# you can used global varible in local scope useing 'global 'keyword in local scope.\n",
    "#same varibale can be act as a global scope and local scope based on 'global'keyword you have mention inside \n",
    "# of the function."
   ]
  },
  {
   "cell_type": "code",
   "execution_count": 17,
   "id": "be437c0c",
   "metadata": {},
   "outputs": [],
   "source": [
    "\n",
    "# local scope\n",
    "def fun(x):\n",
    "    x=x+1\n",
    "    print(x)"
   ]
  },
  {
   "cell_type": "code",
   "execution_count": 18,
   "id": "cf9b1f4e",
   "metadata": {},
   "outputs": [
    {
     "name": "stdout",
     "output_type": "stream",
     "text": [
      "5\n"
     ]
    }
   ],
   "source": [
    "fun(4)"
   ]
  },
  {
   "cell_type": "code",
   "execution_count": 22,
   "id": "acdea718",
   "metadata": {},
   "outputs": [
    {
     "name": "stdout",
     "output_type": "stream",
     "text": [
      "300\n"
     ]
    }
   ],
   "source": [
    "# global scope\n",
    "x = 300\n",
    "\n",
    "def myfunc():\n",
    "    print(x)\n",
    "\n",
    "myfunc()\n",
    "\n",
    "# print(x)\n"
   ]
  },
  {
   "cell_type": "code",
   "execution_count": 26,
   "id": "d3ea3235",
   "metadata": {},
   "outputs": [
    {
     "name": "stdout",
     "output_type": "stream",
     "text": [
      "10 20\n",
      "10 10 12\n",
      "20\n"
     ]
    }
   ],
   "source": [
    "n,m = 10,20\n",
    "print(n,m)\n",
    "\n",
    "def func(n):\n",
    "    a = 10\n",
    "    global b\n",
    "    b=12\n",
    "    print(a,n,b)  \n",
    "    print(m)\n",
    "\n",
    "func(n)\n"
   ]
  },
  {
   "cell_type": "markdown",
   "id": "ab006738",
   "metadata": {},
   "source": [
    "# return vs yield"
   ]
  },
  {
   "cell_type": "code",
   "execution_count": 51,
   "id": "951deca4",
   "metadata": {},
   "outputs": [],
   "source": [
    "def square(x):\n",
    "    for i in range(1,x):\n",
    "        return(i**2)\n"
   ]
  },
  {
   "cell_type": "code",
   "execution_count": 52,
   "id": "f0209a70",
   "metadata": {},
   "outputs": [
    {
     "data": {
      "text/plain": [
       "1"
      ]
     },
     "execution_count": 52,
     "metadata": {},
     "output_type": "execute_result"
    }
   ],
   "source": [
    "square(4)"
   ]
  },
  {
   "cell_type": "code",
   "execution_count": 55,
   "id": "09a4c7f2",
   "metadata": {},
   "outputs": [
    {
     "name": "stdout",
     "output_type": "stream",
     "text": [
      "[1, 4, 9, 16, 25]\n"
     ]
    }
   ],
   "source": [
    "def square(x):\n",
    "    for i in range(1,x):\n",
    "        yield(i**2)\n",
    "print(list(square(6)))"
   ]
  },
  {
   "cell_type": "code",
   "execution_count": 48,
   "id": "2e1188b9",
   "metadata": {},
   "outputs": [
    {
     "data": {
      "text/plain": [
       "<generator object square at 0x0000023B86200660>"
      ]
     },
     "execution_count": 48,
     "metadata": {},
     "output_type": "execute_result"
    }
   ],
   "source": [
    "square(4)"
   ]
  },
  {
   "cell_type": "code",
   "execution_count": 49,
   "id": "82621d8b",
   "metadata": {},
   "outputs": [
    {
     "name": "stdout",
     "output_type": "stream",
     "text": [
      "[1, 4, 9, 16]\n"
     ]
    }
   ],
   "source": [
    "# yield\n",
    "\n",
    "def fun2(n):\n",
    "    for i in range(1,n):\n",
    "        yield i**2\n",
    "\n",
    "print(list(fun2(5)))"
   ]
  },
  {
   "cell_type": "markdown",
   "id": "76d11e3b",
   "metadata": {},
   "source": [
    "### Map"
   ]
  },
  {
   "cell_type": "code",
   "execution_count": 56,
   "id": "bbf29fa1",
   "metadata": {},
   "outputs": [],
   "source": [
    "# it is used to iteration of variables\n",
    "# first create lambda function for one iteration \n",
    "# and then repeate the same for all the iteration using 'Map' function\n"
   ]
  },
  {
   "cell_type": "markdown",
   "id": "d15d6eb7",
   "metadata": {},
   "source": [
    "#### 1. Lambda"
   ]
  },
  {
   "cell_type": "code",
   "execution_count": 58,
   "id": "1baa15a1",
   "metadata": {},
   "outputs": [
    {
     "data": {
      "text/plain": [
       "16"
      ]
     },
     "execution_count": 58,
     "metadata": {},
     "output_type": "execute_result"
    }
   ],
   "source": [
    "sqr=lambda x:x**2\n",
    "sqr(4)"
   ]
  },
  {
   "cell_type": "markdown",
   "id": "3c722e94",
   "metadata": {},
   "source": [
    "#### 2. Map"
   ]
  },
  {
   "cell_type": "code",
   "execution_count": 63,
   "id": "5c92e409",
   "metadata": {},
   "outputs": [
    {
     "name": "stdout",
     "output_type": "stream",
     "text": [
      "[4, 9, 16, 25, 36, 49]\n"
     ]
    }
   ],
   "source": [
    "# map(function, iterable)\n",
    "\n",
    "lt=[2,3,4,5,6,7]\n",
    "out=list(map(sqr,lt))  # mention list of output otherwise its shows errror\n",
    "print(out)"
   ]
  },
  {
   "cell_type": "code",
   "execution_count": 65,
   "id": "921a9779",
   "metadata": {},
   "outputs": [
    {
     "name": "stdout",
     "output_type": "stream",
     "text": [
      "[8000, 27000, 1728, 39304, 91125]\n"
     ]
    }
   ],
   "source": [
    "lt=[20,30,12,34,45]\n",
    "\n",
    "out2=list(map(lambda x: x**3,lt))\n",
    "print(out2)"
   ]
  },
  {
   "cell_type": "markdown",
   "id": "e342bff2",
   "metadata": {},
   "source": [
    "#### 3. filter"
   ]
  },
  {
   "cell_type": "code",
   "execution_count": 81,
   "id": "427e366b",
   "metadata": {},
   "outputs": [
    {
     "name": "stdout",
     "output_type": "stream",
     "text": [
      "[1, 3, 5, 7, 9, 11, 13, 15, 17, 19]\n",
      "[2, 4, 6, 8, 10, 12, 14, 16, 18]\n"
     ]
    }
   ],
   "source": [
    "# filter(condition, iterable)\n",
    "\n",
    "odd=list(filter(lambda x: x%2==1, range(1,20)))\n",
    "\n",
    "print(odd)\n",
    "\n",
    "even=list(filter(lambda x: x%2==0, range(1,20)))\n",
    "print(even)"
   ]
  },
  {
   "cell_type": "markdown",
   "id": "02feeccd",
   "metadata": {},
   "source": [
    "#### 4. Reduce and accumulate"
   ]
  },
  {
   "cell_type": "code",
   "execution_count": 87,
   "id": "5927796e",
   "metadata": {},
   "outputs": [
    {
     "name": "stdout",
     "output_type": "stream",
     "text": [
      "190\n"
     ]
    }
   ],
   "source": [
    "from functools import reduce  \n",
    "## reduce is used to summarizing the values and return the last summerized value.\n",
    "print(reduce(lambda x,y: x+y, range(1,20)))"
   ]
  },
  {
   "cell_type": "code",
   "execution_count": 96,
   "id": "93d9c392",
   "metadata": {},
   "outputs": [
    {
     "name": "stdout",
     "output_type": "stream",
     "text": [
      "[1, 3, 12, 120, 480]\n",
      "[1, 2, 6, 24]\n"
     ]
    }
   ],
   "source": [
    "from itertools import accumulate\n",
    "#  accumulate its also give summrized valued in an iterative manner\n",
    "lis= [1, 3, 4, 10, 4]\n",
    "print(list(accumulate(lis,lambda x,y: x*y)))\n",
    "\n",
    "print(list(accumulate(range(1,5),lambda x,y: x*y)))"
   ]
  },
  {
   "cell_type": "code",
   "execution_count": null,
   "id": "83999289",
   "metadata": {},
   "outputs": [],
   "source": []
  }
 ],
 "metadata": {
  "kernelspec": {
   "display_name": "Python 3 (ipykernel)",
   "language": "python",
   "name": "python3"
  },
  "language_info": {
   "codemirror_mode": {
    "name": "ipython",
    "version": 3
   },
   "file_extension": ".py",
   "mimetype": "text/x-python",
   "name": "python",
   "nbconvert_exporter": "python",
   "pygments_lexer": "ipython3",
   "version": "3.9.13"
  }
 },
 "nbformat": 4,
 "nbformat_minor": 5
}
