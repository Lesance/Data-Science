{
 "cells": [
  {
   "cell_type": "markdown",
   "id": "afcdcd08",
   "metadata": {},
   "source": [
    "# Dictionary"
   ]
  },
  {
   "cell_type": "code",
   "execution_count": 1,
   "id": "b82ad1f2",
   "metadata": {},
   "outputs": [],
   "source": [
    "# dictionary is also a collection of unordered item similarly to the set,but it also have key and values separately.\n"
   ]
  },
  {
   "cell_type": "code",
   "execution_count": 2,
   "id": "09eff24b",
   "metadata": {},
   "outputs": [],
   "source": [
    "student={'lisa':98,'vky':100,'sathish':78,'deeksha':100}"
   ]
  },
  {
   "cell_type": "code",
   "execution_count": 3,
   "id": "777b12c2",
   "metadata": {},
   "outputs": [
    {
     "data": {
      "text/plain": [
       "{'lisa': 98, 'vky': 100, 'sathish': 78, 'deeksha': 100}"
      ]
     },
     "execution_count": 3,
     "metadata": {},
     "output_type": "execute_result"
    }
   ],
   "source": [
    "student"
   ]
  },
  {
   "cell_type": "code",
   "execution_count": 6,
   "id": "5553b33e",
   "metadata": {},
   "outputs": [
    {
     "data": {
      "text/plain": [
       "98"
      ]
     },
     "execution_count": 6,
     "metadata": {},
     "output_type": "execute_result"
    }
   ],
   "source": [
    "student['lisa']"
   ]
  },
  {
   "cell_type": "code",
   "execution_count": 7,
   "id": "62a9b8d1",
   "metadata": {},
   "outputs": [
    {
     "data": {
      "text/plain": [
       "100"
      ]
     },
     "execution_count": 7,
     "metadata": {},
     "output_type": "execute_result"
    }
   ],
   "source": [
    "student['deeksha']"
   ]
  },
  {
   "cell_type": "code",
   "execution_count": 8,
   "id": "c12eb4c6",
   "metadata": {},
   "outputs": [
    {
     "name": "stdout",
     "output_type": "stream",
     "text": [
      "lisa\n",
      "vky\n",
      "sathish\n",
      "deeksha\n"
     ]
    }
   ],
   "source": [
    "for i in student:\n",
    "    print(i)"
   ]
  },
  {
   "cell_type": "code",
   "execution_count": 9,
   "id": "c65ca5ae",
   "metadata": {},
   "outputs": [
    {
     "name": "stdout",
     "output_type": "stream",
     "text": [
      "lisa 98\n",
      "vky 100\n",
      "sathish 78\n",
      "deeksha 100\n"
     ]
    }
   ],
   "source": [
    "for i in student:\n",
    "    print(i,student[i])"
   ]
  },
  {
   "cell_type": "code",
   "execution_count": 13,
   "id": "0d87fe4e",
   "metadata": {},
   "outputs": [
    {
     "name": "stdout",
     "output_type": "stream",
     "text": [
      "lisa 98\n",
      "vky 100\n",
      "sathish 78\n",
      "deeksha 100\n"
     ]
    }
   ],
   "source": [
    "for key, values in student.items():\n",
    "    print(key,values)"
   ]
  },
  {
   "cell_type": "code",
   "execution_count": 14,
   "id": "06f4f0e3",
   "metadata": {},
   "outputs": [],
   "source": [
    "stud={'lisa':[89,98,78,60,53],'sathish':[78,87,67,77,98]}"
   ]
  },
  {
   "cell_type": "code",
   "execution_count": 15,
   "id": "5f532f39",
   "metadata": {},
   "outputs": [
    {
     "data": {
      "text/plain": [
       "{'lisa': [89, 98, 78, 60, 53], 'sathish': [78, 87, 67, 77, 98]}"
      ]
     },
     "execution_count": 15,
     "metadata": {},
     "output_type": "execute_result"
    }
   ],
   "source": [
    "stud"
   ]
  },
  {
   "cell_type": "code",
   "execution_count": 16,
   "id": "07fcef43",
   "metadata": {},
   "outputs": [
    {
     "name": "stdout",
     "output_type": "stream",
     "text": [
      "lisa [89, 98, 78, 60, 53]\n",
      "sathish [78, 87, 67, 77, 98]\n"
     ]
    }
   ],
   "source": [
    "for key, values in stud.items():\n",
    "    print(key, values)"
   ]
  },
  {
   "cell_type": "code",
   "execution_count": 17,
   "id": "78db6d51",
   "metadata": {},
   "outputs": [
    {
     "name": "stdout",
     "output_type": "stream",
     "text": [
      "[89, 98, 78, 60, 53]\n",
      "[78, 87, 67, 77, 98]\n"
     ]
    }
   ],
   "source": [
    "for i in stud.values():\n",
    "    print(i)"
   ]
  },
  {
   "cell_type": "code",
   "execution_count": 19,
   "id": "ea242b33",
   "metadata": {},
   "outputs": [],
   "source": [
    "stud['shan']=[56,67,78,89,90]"
   ]
  },
  {
   "cell_type": "code",
   "execution_count": 20,
   "id": "385bf962",
   "metadata": {},
   "outputs": [
    {
     "data": {
      "text/plain": [
       "{'lisa': [89, 98, 78, 60, 53],\n",
       " 'sathish': [78, 87, 67, 77, 98],\n",
       " 'shan': [56, 67, 78, 89, 90]}"
      ]
     },
     "execution_count": 20,
     "metadata": {},
     "output_type": "execute_result"
    }
   ],
   "source": [
    "stud"
   ]
  },
  {
   "cell_type": "code",
   "execution_count": 21,
   "id": "8ed7cabe",
   "metadata": {},
   "outputs": [],
   "source": [
    "stud['rone']=[34,56,67,45,54]"
   ]
  },
  {
   "cell_type": "code",
   "execution_count": 22,
   "id": "e84390a1",
   "metadata": {},
   "outputs": [
    {
     "data": {
      "text/plain": [
       "{'lisa': [89, 98, 78, 60, 53],\n",
       " 'sathish': [78, 87, 67, 77, 98],\n",
       " 'shan': [56, 67, 78, 89, 90],\n",
       " 'rone': [34, 56, 67, 45, 54]}"
      ]
     },
     "execution_count": 22,
     "metadata": {},
     "output_type": "execute_result"
    }
   ],
   "source": [
    "stud"
   ]
  },
  {
   "cell_type": "code",
   "execution_count": 23,
   "id": "68fd1317",
   "metadata": {},
   "outputs": [],
   "source": [
    "stud['mike']=[34,45]"
   ]
  },
  {
   "cell_type": "code",
   "execution_count": 24,
   "id": "4783109a",
   "metadata": {},
   "outputs": [
    {
     "data": {
      "text/plain": [
       "{'lisa': [89, 98, 78, 60, 53],\n",
       " 'sathish': [78, 87, 67, 77, 98],\n",
       " 'shan': [56, 67, 78, 89, 90],\n",
       " 'rone': [34, 56, 67, 45, 54],\n",
       " 'mike': [34, 45]}"
      ]
     },
     "execution_count": 24,
     "metadata": {},
     "output_type": "execute_result"
    }
   ],
   "source": [
    "\n",
    "stud"
   ]
  },
  {
   "cell_type": "code",
   "execution_count": 25,
   "id": "05d9c7bf",
   "metadata": {},
   "outputs": [
    {
     "data": {
      "text/plain": [
       "5"
      ]
     },
     "execution_count": 25,
     "metadata": {},
     "output_type": "execute_result"
    }
   ],
   "source": [
    "len(stud)"
   ]
  },
  {
   "cell_type": "code",
   "execution_count": 26,
   "id": "14c287ce",
   "metadata": {},
   "outputs": [
    {
     "name": "stdout",
     "output_type": "stream",
     "text": [
      "lisa 5\n",
      "sathish 5\n",
      "shan 5\n",
      "rone 5\n",
      "mike 2\n"
     ]
    }
   ],
   "source": [
    "for i in stud:\n",
    "    print(i, len(stud[i]))"
   ]
  },
  {
   "cell_type": "code",
   "execution_count": 27,
   "id": "f177c333",
   "metadata": {},
   "outputs": [
    {
     "data": {
      "text/plain": [
       "[34, 56, 67, 45, 54]"
      ]
     },
     "execution_count": 27,
     "metadata": {},
     "output_type": "execute_result"
    }
   ],
   "source": [
    "stud.pop('rone')"
   ]
  },
  {
   "cell_type": "code",
   "execution_count": 28,
   "id": "9b668868",
   "metadata": {},
   "outputs": [
    {
     "data": {
      "text/plain": [
       "{'lisa': [89, 98, 78, 60, 53],\n",
       " 'sathish': [78, 87, 67, 77, 98],\n",
       " 'shan': [56, 67, 78, 89, 90],\n",
       " 'mike': [34, 45]}"
      ]
     },
     "execution_count": 28,
     "metadata": {},
     "output_type": "execute_result"
    }
   ],
   "source": [
    "stud"
   ]
  },
  {
   "cell_type": "code",
   "execution_count": 29,
   "id": "346d2c1e",
   "metadata": {},
   "outputs": [],
   "source": [
    "del stud['mike']"
   ]
  },
  {
   "cell_type": "code",
   "execution_count": 30,
   "id": "53137fed",
   "metadata": {},
   "outputs": [
    {
     "data": {
      "text/plain": [
       "{'lisa': [89, 98, 78, 60, 53],\n",
       " 'sathish': [78, 87, 67, 77, 98],\n",
       " 'shan': [56, 67, 78, 89, 90]}"
      ]
     },
     "execution_count": 30,
     "metadata": {},
     "output_type": "execute_result"
    }
   ],
   "source": [
    "stud"
   ]
  },
  {
   "cell_type": "markdown",
   "id": "5ab9a57f",
   "metadata": {},
   "source": [
    "# Nested dictionary"
   ]
  },
  {
   "cell_type": "code",
   "execution_count": 33,
   "id": "38fbf815",
   "metadata": {},
   "outputs": [],
   "source": [
    "\n",
    "student={'anitha':{'english':87,'tamil':90,'maths':99,'physics':69,'chemistry':78,'computer':88},\n",
    "        'kavitha':{'english':89,'tamil':70,'maths':89,'physics':79,'chemistry':88,'computer':68},\n",
    "        'preethi':{'english':86,'tamil':80,'maths':79,'physics':89,'chemistry':98,'computer':78},\n",
    "        'janani':{'english':84,'tamil':60,'maths':94,'physics':99,'chemistry':48,'computer':98},\n",
    "        'divya':{'english':67,'tamil':50,'maths':59,'physics':90,'chemistry':75,'computer':84}}"
   ]
  },
  {
   "cell_type": "code",
   "execution_count": 34,
   "id": "cba28e7a",
   "metadata": {},
   "outputs": [
    {
     "data": {
      "text/plain": [
       "{'anitha': {'english': 87,\n",
       "  'tamil': 90,\n",
       "  'maths': 99,\n",
       "  'physics': 69,\n",
       "  'chemistry': 78,\n",
       "  'computer': 88},\n",
       " 'kavitha': {'english': 89,\n",
       "  'tamil': 70,\n",
       "  'maths': 89,\n",
       "  'physics': 79,\n",
       "  'chemistry': 88,\n",
       "  'computer': 68},\n",
       " 'preethi': {'english': 86,\n",
       "  'tamil': 80,\n",
       "  'maths': 79,\n",
       "  'physics': 89,\n",
       "  'chemistry': 98,\n",
       "  'computer': 78},\n",
       " 'janani': {'english': 84,\n",
       "  'tamil': 60,\n",
       "  'maths': 94,\n",
       "  'physics': 99,\n",
       "  'chemistry': 48,\n",
       "  'computer': 98},\n",
       " 'divya': {'english': 67,\n",
       "  'tamil': 50,\n",
       "  'maths': 59,\n",
       "  'physics': 90,\n",
       "  'chemistry': 75,\n",
       "  'computer': 84}}"
      ]
     },
     "execution_count": 34,
     "metadata": {},
     "output_type": "execute_result"
    }
   ],
   "source": [
    "student"
   ]
  },
  {
   "cell_type": "code",
   "execution_count": 35,
   "id": "e2016c6d",
   "metadata": {},
   "outputs": [
    {
     "name": "stdout",
     "output_type": "stream",
     "text": [
      "anitha\n",
      "kavitha\n",
      "preethi\n",
      "janani\n",
      "divya\n"
     ]
    }
   ],
   "source": [
    "for i in student:\n",
    "    print(i)"
   ]
  },
  {
   "cell_type": "code",
   "execution_count": 36,
   "id": "34af8776",
   "metadata": {},
   "outputs": [
    {
     "name": "stdout",
     "output_type": "stream",
     "text": [
      "anitha {'english': 87, 'tamil': 90, 'maths': 99, 'physics': 69, 'chemistry': 78, 'computer': 88}\n",
      "kavitha {'english': 89, 'tamil': 70, 'maths': 89, 'physics': 79, 'chemistry': 88, 'computer': 68}\n",
      "preethi {'english': 86, 'tamil': 80, 'maths': 79, 'physics': 89, 'chemistry': 98, 'computer': 78}\n",
      "janani {'english': 84, 'tamil': 60, 'maths': 94, 'physics': 99, 'chemistry': 48, 'computer': 98}\n",
      "divya {'english': 67, 'tamil': 50, 'maths': 59, 'physics': 90, 'chemistry': 75, 'computer': 84}\n"
     ]
    }
   ],
   "source": [
    "for i in student:\n",
    "    print(i, student[i])"
   ]
  },
  {
   "cell_type": "code",
   "execution_count": 37,
   "id": "b6c4f44d",
   "metadata": {},
   "outputs": [],
   "source": [
    "# how to find highest mark in each subject"
   ]
  },
  {
   "cell_type": "code",
   "execution_count": 38,
   "id": "5946c94b",
   "metadata": {},
   "outputs": [
    {
     "name": "stdout",
     "output_type": "stream",
     "text": [
      "{'english': 87, 'tamil': 90, 'maths': 99, 'physics': 69, 'chemistry': 78, 'computer': 88}\n",
      "{'english': 89, 'tamil': 70, 'maths': 89, 'physics': 79, 'chemistry': 88, 'computer': 68}\n",
      "{'english': 86, 'tamil': 80, 'maths': 79, 'physics': 89, 'chemistry': 98, 'computer': 78}\n",
      "{'english': 84, 'tamil': 60, 'maths': 94, 'physics': 99, 'chemistry': 48, 'computer': 98}\n",
      "{'english': 67, 'tamil': 50, 'maths': 59, 'physics': 90, 'chemistry': 75, 'computer': 84}\n"
     ]
    }
   ],
   "source": [
    "for i in student:\n",
    "    print(student[i])"
   ]
  },
  {
   "cell_type": "code",
   "execution_count": 39,
   "id": "38a02cce",
   "metadata": {},
   "outputs": [
    {
     "data": {
      "text/plain": [
       "98"
      ]
     },
     "execution_count": 39,
     "metadata": {},
     "output_type": "execute_result"
    }
   ],
   "source": [
    "student['janani']['computer']"
   ]
  },
  {
   "cell_type": "code",
   "execution_count": 41,
   "id": "65b8c91c",
   "metadata": {},
   "outputs": [
    {
     "data": {
      "text/plain": [
       "50"
      ]
     },
     "execution_count": 41,
     "metadata": {},
     "output_type": "execute_result"
    }
   ],
   "source": [
    "student['divya']['tamil']"
   ]
  },
  {
   "cell_type": "code",
   "execution_count": 43,
   "id": "a6e859da",
   "metadata": {},
   "outputs": [
    {
     "name": "stdout",
     "output_type": "stream",
     "text": [
      "anitha 69\n",
      "kavitha 79\n",
      "preethi 89\n",
      "janani 99\n",
      "divya 90\n"
     ]
    }
   ],
   "source": [
    "for i in student:\n",
    "    print(i, student[i]['physics'])"
   ]
  },
  {
   "cell_type": "code",
   "execution_count": 47,
   "id": "f6caf3a3",
   "metadata": {},
   "outputs": [
    {
     "name": "stdout",
     "output_type": "stream",
     "text": [
      "english\n",
      "tamil\n",
      "maths\n",
      "physics\n",
      "chemistry\n",
      "computer\n",
      "english\n",
      "tamil\n",
      "maths\n",
      "physics\n",
      "chemistry\n",
      "computer\n",
      "english\n",
      "tamil\n",
      "maths\n",
      "physics\n",
      "chemistry\n",
      "computer\n",
      "english\n",
      "tamil\n",
      "maths\n",
      "physics\n",
      "chemistry\n",
      "computer\n",
      "english\n",
      "tamil\n",
      "maths\n",
      "physics\n",
      "chemistry\n",
      "computer\n"
     ]
    }
   ],
   "source": [
    "for i in student:\n",
    "    for j in student[i]:\n",
    "        print(j)"
   ]
  },
  {
   "cell_type": "code",
   "execution_count": 71,
   "id": "76a41506",
   "metadata": {},
   "outputs": [],
   "source": [
    "subjects=[]\n",
    "for i in student['janani']:\n",
    "    subjects.append(i)"
   ]
  },
  {
   "cell_type": "code",
   "execution_count": 72,
   "id": "bb33e2ae",
   "metadata": {},
   "outputs": [
    {
     "data": {
      "text/plain": [
       "['english', 'tamil', 'maths', 'physics', 'chemistry', 'computer']"
      ]
     },
     "execution_count": 72,
     "metadata": {},
     "output_type": "execute_result"
    }
   ],
   "source": [
    "subjects"
   ]
  },
  {
   "cell_type": "code",
   "execution_count": 70,
   "id": "4815d9f7",
   "metadata": {},
   "outputs": [
    {
     "name": "stdout",
     "output_type": "stream",
     "text": [
      "{'english': 87, 'tamil': 90, 'maths': 99, 'physics': 69, 'chemistry': 78, 'computer': 88}\n",
      "{'english': 89, 'tamil': 70, 'maths': 89, 'physics': 79, 'chemistry': 88, 'computer': 68}\n",
      "{'english': 86, 'tamil': 80, 'maths': 79, 'physics': 89, 'chemistry': 98, 'computer': 78}\n",
      "{'english': 84, 'tamil': 60, 'maths': 94, 'physics': 99, 'chemistry': 48, 'computer': 98}\n",
      "{'english': 67, 'tamil': 50, 'maths': 59, 'physics': 90, 'chemistry': 75, 'computer': 84}\n"
     ]
    }
   ],
   "source": [
    "for i in student:\n",
    "    print(student[i])"
   ]
  },
  {
   "cell_type": "code",
   "execution_count": 78,
   "id": "9e10882a",
   "metadata": {},
   "outputs": [
    {
     "name": "stdout",
     "output_type": "stream",
     "text": [
      "anitha {'english': 87, 'tamil': 90, 'maths': 99, 'physics': 69, 'chemistry': 78, 'computer': 88}\n",
      "kavitha {'english': 89, 'tamil': 70, 'maths': 89, 'physics': 79, 'chemistry': 88, 'computer': 68}\n",
      "preethi {'english': 86, 'tamil': 80, 'maths': 79, 'physics': 89, 'chemistry': 98, 'computer': 78}\n",
      "janani {'english': 84, 'tamil': 60, 'maths': 94, 'physics': 99, 'chemistry': 48, 'computer': 98}\n",
      "divya {'english': 67, 'tamil': 50, 'maths': 59, 'physics': 90, 'chemistry': 75, 'computer': 84}\n"
     ]
    }
   ],
   "source": [
    "for i in student:\n",
    "    print(i,student[i])"
   ]
  },
  {
   "cell_type": "code",
   "execution_count": null,
   "id": "2264545c",
   "metadata": {},
   "outputs": [],
   "source": []
  },
  {
   "cell_type": "code",
   "execution_count": 79,
   "id": "2e56bdd9",
   "metadata": {},
   "outputs": [
    {
     "name": "stdout",
     "output_type": "stream",
     "text": [
      "[87]\n",
      "[87, 89]\n",
      "[87, 89, 86]\n",
      "[87, 89, 86, 84]\n",
      "[87, 89, 86, 84, 67]\n",
      "english 89\n",
      "[90]\n",
      "[90, 70]\n",
      "[90, 70, 80]\n",
      "[90, 70, 80, 60]\n",
      "[90, 70, 80, 60, 50]\n",
      "tamil 90\n",
      "[99]\n",
      "[99, 89]\n",
      "[99, 89, 79]\n",
      "[99, 89, 79, 94]\n",
      "[99, 89, 79, 94, 59]\n",
      "maths 99\n",
      "[69]\n",
      "[69, 79]\n",
      "[69, 79, 89]\n",
      "[69, 79, 89, 99]\n",
      "[69, 79, 89, 99, 90]\n",
      "physics 99\n",
      "[78]\n",
      "[78, 88]\n",
      "[78, 88, 98]\n",
      "[78, 88, 98, 48]\n",
      "[78, 88, 98, 48, 75]\n",
      "chemistry 98\n",
      "[88]\n",
      "[88, 68]\n",
      "[88, 68, 78]\n",
      "[88, 68, 78, 98]\n",
      "[88, 68, 78, 98, 84]\n",
      "computer 98\n"
     ]
    }
   ],
   "source": [
    "\n",
    "for i in subjects:\n",
    "    mark=[]\n",
    "    for j in student:\n",
    "        mark.append(student[j][i])\n",
    "        print(mark)\n",
    "    print(i, max(mark))\n",
    "    "
   ]
  },
  {
   "cell_type": "code",
   "execution_count": null,
   "id": "2b6f26c8",
   "metadata": {},
   "outputs": [],
   "source": []
  }
 ],
 "metadata": {
  "kernelspec": {
   "display_name": "Python 3 (ipykernel)",
   "language": "python",
   "name": "python3"
  },
  "language_info": {
   "codemirror_mode": {
    "name": "ipython",
    "version": 3
   },
   "file_extension": ".py",
   "mimetype": "text/x-python",
   "name": "python",
   "nbconvert_exporter": "python",
   "pygments_lexer": "ipython3",
   "version": "3.9.13"
  }
 },
 "nbformat": 4,
 "nbformat_minor": 5
}
