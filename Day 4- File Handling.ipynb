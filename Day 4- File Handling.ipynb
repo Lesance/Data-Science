{
 "cells": [
  {
   "cell_type": "markdown",
   "id": "0ccdebb9",
   "metadata": {},
   "source": [
    "## Open a file"
   ]
  },
  {
   "cell_type": "code",
   "execution_count": 3,
   "id": "a12bb81f",
   "metadata": {},
   "outputs": [],
   "source": [
    "import os\n"
   ]
  },
  {
   "cell_type": "markdown",
   "id": "8e6f0270",
   "metadata": {},
   "source": [
    "## getcwd"
   ]
  },
  {
   "cell_type": "code",
   "execution_count": 4,
   "id": "6e2f8f70",
   "metadata": {},
   "outputs": [
    {
     "data": {
      "text/plain": [
       "'C:\\\\Users\\\\vigne\\\\100 days of code learning'"
      ]
     },
     "execution_count": 4,
     "metadata": {},
     "output_type": "execute_result"
    }
   ],
   "source": [
    "## getting working directory\n",
    "\n",
    "os.getcwd()"
   ]
  },
  {
   "cell_type": "code",
   "execution_count": 7,
   "id": "c8f346ad",
   "metadata": {},
   "outputs": [
    {
     "name": "stdout",
     "output_type": "stream",
     "text": [
      "file is opened successfully\n"
     ]
    }
   ],
   "source": [
    "# open a text file\n",
    "\n",
    "file=open(\"text1.txt\",\"r\")\n",
    "if file:\n",
    "    print('file is opened successfully')"
   ]
  },
  {
   "cell_type": "code",
   "execution_count": 8,
   "id": "51c06554",
   "metadata": {},
   "outputs": [
    {
     "data": {
      "text/plain": [
       "<_io.TextIOWrapper name='text1.txt' mode='r' encoding='cp1252'>"
      ]
     },
     "execution_count": 8,
     "metadata": {},
     "output_type": "execute_result"
    }
   ],
   "source": [
    "file"
   ]
  },
  {
   "cell_type": "code",
   "execution_count": 9,
   "id": "d02c9e96",
   "metadata": {},
   "outputs": [
    {
     "name": "stdout",
     "output_type": "stream",
     "text": [
      "this is text1 file for demo in python open file commend\n",
      "\n"
     ]
    }
   ],
   "source": [
    "# a file named \"file\", will be opened with the reading mode.\n",
    "file = open('text1.txt', 'r')\n",
    "\n",
    "# This will print every line one by one in the file\n",
    "for each in file:\n",
    "\tprint (each)"
   ]
  },
  {
   "cell_type": "markdown",
   "id": "e5bd094c",
   "metadata": {},
   "source": [
    "## read()"
   ]
  },
  {
   "cell_type": "code",
   "execution_count": 11,
   "id": "2bda0070",
   "metadata": {},
   "outputs": [
    {
     "name": "stdout",
     "output_type": "stream",
     "text": [
      "this is text1 file for demo in python open file commend\n",
      "\n"
     ]
    }
   ],
   "source": [
    "file=open('text1.txt','r')\n",
    "print(file.read())"
   ]
  },
  {
   "cell_type": "markdown",
   "id": "1f78e47f",
   "metadata": {},
   "source": [
    "## read and with operator"
   ]
  },
  {
   "cell_type": "code",
   "execution_count": 12,
   "id": "dc56cea8",
   "metadata": {},
   "outputs": [
    {
     "name": "stdout",
     "output_type": "stream",
     "text": [
      "this is text1 file for demo in python open file commend\n",
      "\n"
     ]
    }
   ],
   "source": [
    "with open('text1.txt','r') as file:\n",
    "    print(file.read())"
   ]
  },
  {
   "cell_type": "markdown",
   "id": "cff49196",
   "metadata": {},
   "source": [
    "## read specific number of characters"
   ]
  },
  {
   "cell_type": "code",
   "execution_count": 14,
   "id": "405f33c0",
   "metadata": {},
   "outputs": [
    {
     "name": "stdout",
     "output_type": "stream",
     "text": [
      "this is te\n"
     ]
    }
   ],
   "source": [
    "with open('text1.txt','r') as file:\n",
    "    print(file.read(10))\n"
   ]
  },
  {
   "cell_type": "markdown",
   "id": "bbe4267d",
   "metadata": {},
   "source": [
    "# readlines function"
   ]
  },
  {
   "cell_type": "code",
   "execution_count": 16,
   "id": "af4e273e",
   "metadata": {},
   "outputs": [
    {
     "name": "stdout",
     "output_type": "stream",
     "text": [
      "this is text1 file for demo in python open file commend\n",
      "\n"
     ]
    }
   ],
   "source": [
    "with open('text1.txt','r')as file:\n",
    "    print(file.readline())"
   ]
  },
  {
   "cell_type": "markdown",
   "id": "2664498a",
   "metadata": {},
   "source": [
    "## readlines"
   ]
  },
  {
   "cell_type": "code",
   "execution_count": 17,
   "id": "eaf6172a",
   "metadata": {},
   "outputs": [
    {
     "name": "stdout",
     "output_type": "stream",
     "text": [
      "['this is text1 file for demo in python open file commend\\n']\n",
      "['this', 'is', 'text1', 'file', 'for', 'demo', 'in', 'python', 'open', 'file', 'commend']\n"
     ]
    }
   ],
   "source": [
    "with open('text1.txt','r') as file:\n",
    "    data=file.readlines()\n",
    "    print(data)\n",
    "    for i in data:\n",
    "        print(i.split())\n",
    "    \n"
   ]
  },
  {
   "cell_type": "markdown",
   "id": "27f06cd1",
   "metadata": {},
   "source": [
    "## Write"
   ]
  },
  {
   "cell_type": "code",
   "execution_count": 25,
   "id": "ce0ab0c1",
   "metadata": {},
   "outputs": [],
   "source": [
    "file=open('text1.txt','w')\n",
    "file.write(\"\\n This is the line which i worte using write commend\")\n",
    "file.write(\"\\n just for one more line to see the difference\")\n",
    "file.close()"
   ]
  },
  {
   "cell_type": "code",
   "execution_count": 26,
   "id": "fd90e56f",
   "metadata": {},
   "outputs": [
    {
     "name": "stdout",
     "output_type": "stream",
     "text": [
      "\n",
      " This is the line which i worte using write commend\n",
      " just for one more line to see the difference\n"
     ]
    }
   ],
   "source": [
    "with open('text1.txt','r') as file:\n",
    "    print(file.read())"
   ]
  },
  {
   "cell_type": "markdown",
   "id": "648bd9a6",
   "metadata": {},
   "source": [
    "## write and with keyword"
   ]
  },
  {
   "cell_type": "code",
   "execution_count": 28,
   "id": "69e3896f",
   "metadata": {},
   "outputs": [],
   "source": [
    "## write and with keyword\n",
    "\n",
    "with open('text1.txt','w') as file:\n",
    "    file.write(\"\\n another try\")\n",
    "file.close()"
   ]
  },
  {
   "cell_type": "code",
   "execution_count": 29,
   "id": "a898e10a",
   "metadata": {},
   "outputs": [
    {
     "name": "stdout",
     "output_type": "stream",
     "text": [
      "\n",
      " another try\n"
     ]
    }
   ],
   "source": [
    "with open('text1.txt','r') as file:\n",
    "    print(file.read())\n"
   ]
  },
  {
   "cell_type": "markdown",
   "id": "ccbbe2cb",
   "metadata": {},
   "source": [
    "# writelines()"
   ]
  },
  {
   "cell_type": "code",
   "execution_count": 33,
   "id": "36e50ffc",
   "metadata": {},
   "outputs": [],
   "source": [
    "lt=['hi\\n','im\\n','lisa\\n','this\\n','is\\n','my\\n','first\\n','program\\n']\n",
    "with open('text1.txt', 'w') as file:\n",
    "    file.writelines(lt)\n",
    "file.close()"
   ]
  },
  {
   "cell_type": "code",
   "execution_count": 34,
   "id": "377ccbf1",
   "metadata": {},
   "outputs": [
    {
     "name": "stdout",
     "output_type": "stream",
     "text": [
      "hi\n",
      "im\n",
      "lisa\n",
      "this\n",
      "is\n",
      "my\n",
      "first\n",
      "program\n",
      "\n"
     ]
    }
   ],
   "source": [
    "with open('text1.txt','r') as file:\n",
    "    print(file.read())"
   ]
  },
  {
   "cell_type": "markdown",
   "id": "cacb268e",
   "metadata": {},
   "source": [
    "## file appending"
   ]
  },
  {
   "cell_type": "code",
   "execution_count": 35,
   "id": "a14c9b05",
   "metadata": {},
   "outputs": [],
   "source": [
    "with open('text1.txt','a') as file:\n",
    "    file.write(\"\\n just appending the file\")\n",
    "    file.write(\"\\n do not overwriting the file\")\n",
    "    file.write(\"\\n appending those lines using a in the format\")\n",
    "file.close()"
   ]
  },
  {
   "cell_type": "code",
   "execution_count": 36,
   "id": "06c9cf63",
   "metadata": {},
   "outputs": [
    {
     "name": "stdout",
     "output_type": "stream",
     "text": [
      "hi\n",
      "im\n",
      "lisa\n",
      "this\n",
      "is\n",
      "my\n",
      "first\n",
      "program\n",
      "\n",
      " just appending the file\n",
      " do not overwriting the file\n",
      " appending those lines using a in the format\n"
     ]
    }
   ],
   "source": [
    "with open('text1.txt','r') as file:\n",
    "    print(file.read())"
   ]
  },
  {
   "cell_type": "markdown",
   "id": "2726dfe6",
   "metadata": {},
   "source": [
    "## close files"
   ]
  },
  {
   "cell_type": "code",
   "execution_count": 40,
   "id": "492733a9",
   "metadata": {},
   "outputs": [
    {
     "name": "stdout",
     "output_type": "stream",
     "text": [
      "opened successfully\n",
      "file closed\n"
     ]
    }
   ],
   "source": [
    "file=open('text1.txt','r')\n",
    "    \n",
    "if file:\n",
    "    print('opened successfully')\n",
    "file.close()\n",
    "\n",
    "print('file closed')\n"
   ]
  },
  {
   "cell_type": "markdown",
   "id": "a5b6eb9e",
   "metadata": {},
   "source": [
    "## try and except block for opening file"
   ]
  },
  {
   "cell_type": "code",
   "execution_count": 41,
   "id": "b1e423b0",
   "metadata": {},
   "outputs": [
    {
     "name": "stdout",
     "output_type": "stream",
     "text": [
      "hi\n",
      "im\n",
      "lisa\n",
      "this\n",
      "is\n",
      "my\n",
      "first\n",
      "program\n",
      "\n",
      " just appending the file\n",
      " do not overwriting the file\n",
      " appending those lines using a in the format\n",
      "file closed\n"
     ]
    }
   ],
   "source": [
    "\n",
    "try:\n",
    "    file=open('text1.txt','r')\n",
    "    print(file.read())\n",
    "except:\n",
    "    print('file not found')\n",
    "finally:\n",
    "    file.close()\n",
    "    print('file closed')"
   ]
  },
  {
   "cell_type": "code",
   "execution_count": 42,
   "id": "9a29dacd",
   "metadata": {},
   "outputs": [
    {
     "name": "stdout",
     "output_type": "stream",
     "text": [
      "file not found\n",
      "file closed\n"
     ]
    }
   ],
   "source": [
    "\n",
    "try:\n",
    "    file=open('text2.txt','r')\n",
    "    print(file.read())\n",
    "except:\n",
    "    print('file not found')\n",
    "finally:\n",
    "    file.close()\n",
    "    print('file closed')"
   ]
  },
  {
   "cell_type": "markdown",
   "id": "2c3f5096",
   "metadata": {},
   "source": [
    "### OS module Operation"
   ]
  },
  {
   "cell_type": "code",
   "execution_count": 43,
   "id": "4c6e69b5",
   "metadata": {},
   "outputs": [],
   "source": [
    "import os"
   ]
  },
  {
   "cell_type": "markdown",
   "id": "750148c0",
   "metadata": {},
   "source": [
    "### getcwd"
   ]
  },
  {
   "cell_type": "code",
   "execution_count": 44,
   "id": "6e991dfa",
   "metadata": {},
   "outputs": [
    {
     "data": {
      "text/plain": [
       "'C:\\\\Users\\\\vigne\\\\100 days of code learning'"
      ]
     },
     "execution_count": 44,
     "metadata": {},
     "output_type": "execute_result"
    }
   ],
   "source": [
    "os.getcwd()"
   ]
  },
  {
   "cell_type": "markdown",
   "id": "a4e1a371",
   "metadata": {},
   "source": [
    "### rename"
   ]
  },
  {
   "cell_type": "code",
   "execution_count": 48,
   "id": "163be367",
   "metadata": {},
   "outputs": [],
   "source": [
    "os.rename('text.txt', 'text2.txt')"
   ]
  },
  {
   "cell_type": "markdown",
   "id": "5ef749a7",
   "metadata": {},
   "source": [
    "## writing in new file"
   ]
  },
  {
   "cell_type": "code",
   "execution_count": 49,
   "id": "14c83867",
   "metadata": {},
   "outputs": [],
   "source": [
    "with open('text2.txt','w') as file:\n",
    "    file.write('\\n trying to writing in newly created file')\n",
    "file.close()"
   ]
  },
  {
   "cell_type": "code",
   "execution_count": 50,
   "id": "f0020360",
   "metadata": {},
   "outputs": [
    {
     "name": "stdout",
     "output_type": "stream",
     "text": [
      "\n",
      " trying to writing in newly created file\n"
     ]
    }
   ],
   "source": [
    "with open('text2.txt','r') as file:\n",
    "    print(file.read())"
   ]
  },
  {
   "cell_type": "markdown",
   "id": "e5ed3055",
   "metadata": {},
   "source": [
    "## remove"
   ]
  },
  {
   "cell_type": "code",
   "execution_count": 51,
   "id": "f40d9bae",
   "metadata": {},
   "outputs": [],
   "source": [
    "os.remove('text2.txt')"
   ]
  },
  {
   "cell_type": "markdown",
   "id": "9551254c",
   "metadata": {},
   "source": [
    "# making directory\n"
   ]
  },
  {
   "cell_type": "code",
   "execution_count": 58,
   "id": "ce3c11e9",
   "metadata": {},
   "outputs": [],
   "source": [
    "os.mkdir('other')"
   ]
  },
  {
   "cell_type": "markdown",
   "id": "014d8334",
   "metadata": {},
   "source": [
    "# changing directory"
   ]
  },
  {
   "cell_type": "code",
   "execution_count": 59,
   "id": "fac9a473",
   "metadata": {},
   "outputs": [],
   "source": [
    "os.chdir('other')"
   ]
  },
  {
   "cell_type": "markdown",
   "id": "2507b21c",
   "metadata": {},
   "source": [
    "# getting new directory"
   ]
  },
  {
   "cell_type": "code",
   "execution_count": 60,
   "id": "7616de2d",
   "metadata": {},
   "outputs": [
    {
     "data": {
      "text/plain": [
       "'C:\\\\Users\\\\vigne\\\\100 days of code learning\\\\other\\\\other'"
      ]
     },
     "execution_count": 60,
     "metadata": {},
     "output_type": "execute_result"
    }
   ],
   "source": [
    "os.getcwd()"
   ]
  },
  {
   "cell_type": "markdown",
   "id": "d4068cdb",
   "metadata": {},
   "source": [
    "# removing directory"
   ]
  },
  {
   "cell_type": "code",
   "execution_count": 61,
   "id": "52af4e46",
   "metadata": {},
   "outputs": [
    {
     "ename": "FileNotFoundError",
     "evalue": "[WinError 2] The system cannot find the file specified: 'other'",
     "output_type": "error",
     "traceback": [
      "\u001b[1;31m---------------------------------------------------------------------------\u001b[0m",
      "\u001b[1;31mFileNotFoundError\u001b[0m                         Traceback (most recent call last)",
      "\u001b[1;32m~\\AppData\\Local\\Temp\\ipykernel_6188\\724435657.py\u001b[0m in \u001b[0;36m<module>\u001b[1;34m\u001b[0m\n\u001b[1;32m----> 1\u001b[1;33m \u001b[0mos\u001b[0m\u001b[1;33m.\u001b[0m\u001b[0mrmdir\u001b[0m\u001b[1;33m(\u001b[0m\u001b[1;34m'other'\u001b[0m\u001b[1;33m)\u001b[0m\u001b[1;33m\u001b[0m\u001b[1;33m\u001b[0m\u001b[0m\n\u001b[0m",
      "\u001b[1;31mFileNotFoundError\u001b[0m: [WinError 2] The system cannot find the file specified: 'other'"
     ]
    }
   ],
   "source": [
    "os.rmdir('other')"
   ]
  },
  {
   "cell_type": "code",
   "execution_count": 63,
   "id": "98402d9e",
   "metadata": {},
   "outputs": [
    {
     "ename": "FileNotFoundError",
     "evalue": "[WinError 2] The system cannot find the file specified: 'other'",
     "output_type": "error",
     "traceback": [
      "\u001b[1;31m---------------------------------------------------------------------------\u001b[0m",
      "\u001b[1;31mFileNotFoundError\u001b[0m                         Traceback (most recent call last)",
      "\u001b[1;32m~\\AppData\\Local\\Temp\\ipykernel_6188\\365907427.py\u001b[0m in \u001b[0;36m<module>\u001b[1;34m\u001b[0m\n\u001b[0;32m      1\u001b[0m \u001b[1;32mimport\u001b[0m \u001b[0mos\u001b[0m\u001b[1;33m\u001b[0m\u001b[1;33m\u001b[0m\u001b[0m\n\u001b[0;32m      2\u001b[0m \u001b[1;33m\u001b[0m\u001b[0m\n\u001b[1;32m----> 3\u001b[1;33m \u001b[0mos\u001b[0m\u001b[1;33m.\u001b[0m\u001b[0mrmdir\u001b[0m\u001b[1;33m(\u001b[0m\u001b[1;34m'other'\u001b[0m\u001b[1;33m)\u001b[0m\u001b[1;33m\u001b[0m\u001b[1;33m\u001b[0m\u001b[0m\n\u001b[0m",
      "\u001b[1;31mFileNotFoundError\u001b[0m: [WinError 2] The system cannot find the file specified: 'other'"
     ]
    }
   ],
   "source": [
    "import os\n",
    "\n",
    "os.rmdir('other')"
   ]
  },
  {
   "cell_type": "code",
   "execution_count": null,
   "id": "2d08a579",
   "metadata": {},
   "outputs": [],
   "source": []
  }
 ],
 "metadata": {
  "kernelspec": {
   "display_name": "Python 3 (ipykernel)",
   "language": "python",
   "name": "python3"
  },
  "language_info": {
   "codemirror_mode": {
    "name": "ipython",
    "version": 3
   },
   "file_extension": ".py",
   "mimetype": "text/x-python",
   "name": "python",
   "nbconvert_exporter": "python",
   "pygments_lexer": "ipython3",
   "version": "3.9.13"
  }
 },
 "nbformat": 4,
 "nbformat_minor": 5
}
