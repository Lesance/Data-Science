{
 "cells": [
  {
   "cell_type": "markdown",
   "id": "a90c54ea",
   "metadata": {},
   "source": [
    "# Lamda function"
   ]
  },
  {
   "cell_type": "code",
   "execution_count": 9,
   "id": "b7690279",
   "metadata": {},
   "outputs": [],
   "source": [
    "def square(x):\n",
    "    return(x**2)"
   ]
  },
  {
   "cell_type": "code",
   "execution_count": 10,
   "id": "7241984b",
   "metadata": {},
   "outputs": [
    {
     "data": {
      "text/plain": [
       "16"
      ]
     },
     "execution_count": 10,
     "metadata": {},
     "output_type": "execute_result"
    }
   ],
   "source": [
    "square(4)"
   ]
  },
  {
   "cell_type": "code",
   "execution_count": 11,
   "id": "b4cdbfc2",
   "metadata": {},
   "outputs": [
    {
     "data": {
      "text/plain": [
       "25"
      ]
     },
     "execution_count": 11,
     "metadata": {},
     "output_type": "execute_result"
    }
   ],
   "source": [
    "square(5)"
   ]
  },
  {
   "cell_type": "code",
   "execution_count": 12,
   "id": "492a1a76",
   "metadata": {},
   "outputs": [
    {
     "data": {
      "text/plain": [
       "4"
      ]
     },
     "execution_count": 12,
     "metadata": {},
     "output_type": "execute_result"
    }
   ],
   "source": [
    "square(2)"
   ]
  },
  {
   "cell_type": "code",
   "execution_count": 13,
   "id": "8885393a",
   "metadata": {},
   "outputs": [],
   "source": [
    "def cube(x):\n",
    "    return(x**3)"
   ]
  },
  {
   "cell_type": "code",
   "execution_count": 14,
   "id": "b93c7231",
   "metadata": {},
   "outputs": [
    {
     "data": {
      "text/plain": [
       "27"
      ]
     },
     "execution_count": 14,
     "metadata": {},
     "output_type": "execute_result"
    }
   ],
   "source": [
    "cube(3)"
   ]
  },
  {
   "cell_type": "code",
   "execution_count": 15,
   "id": "bed72354",
   "metadata": {},
   "outputs": [
    {
     "data": {
      "text/plain": [
       "125"
      ]
     },
     "execution_count": 15,
     "metadata": {},
     "output_type": "execute_result"
    }
   ],
   "source": [
    "cube(5)"
   ]
  },
  {
   "cell_type": "code",
   "execution_count": 71,
   "id": "cb9fc977",
   "metadata": {},
   "outputs": [],
   "source": [
    "def add(x,y,z):\n",
    "    add=x+y+z\n",
    "    return(add)"
   ]
  },
  {
   "cell_type": "code",
   "execution_count": 72,
   "id": "f6558267",
   "metadata": {},
   "outputs": [
    {
     "data": {
      "text/plain": [
       "60"
      ]
     },
     "execution_count": 72,
     "metadata": {},
     "output_type": "execute_result"
    }
   ],
   "source": [
    "add(10,20,30)"
   ]
  },
  {
   "cell_type": "code",
   "execution_count": 18,
   "id": "99fe2463",
   "metadata": {},
   "outputs": [],
   "source": [
    "def prod(x,y):\n",
    "    pd=x*y\n",
    "    return(pd)"
   ]
  },
  {
   "cell_type": "code",
   "execution_count": 19,
   "id": "7a53b6bb",
   "metadata": {},
   "outputs": [
    {
     "data": {
      "text/plain": [
       "210"
      ]
     },
     "execution_count": 19,
     "metadata": {},
     "output_type": "execute_result"
    }
   ],
   "source": [
    "prod(30,7)"
   ]
  },
  {
   "cell_type": "code",
   "execution_count": 20,
   "id": "7bad4f5a",
   "metadata": {},
   "outputs": [],
   "source": [
    "def sub(x,y):\n",
    "    sb=x-y\n",
    "    return(sb)"
   ]
  },
  {
   "cell_type": "code",
   "execution_count": 21,
   "id": "184098c3",
   "metadata": {},
   "outputs": [
    {
     "data": {
      "text/plain": [
       "10"
      ]
     },
     "execution_count": 21,
     "metadata": {},
     "output_type": "execute_result"
    }
   ],
   "source": [
    "sub(20,10)"
   ]
  },
  {
   "cell_type": "code",
   "execution_count": 22,
   "id": "b4ea75d7",
   "metadata": {},
   "outputs": [],
   "source": [
    "# lamda function for all above function\n"
   ]
  },
  {
   "cell_type": "code",
   "execution_count": 25,
   "id": "d63c488b",
   "metadata": {},
   "outputs": [],
   "source": [
    "sq= lambda x: x**2"
   ]
  },
  {
   "cell_type": "code",
   "execution_count": 26,
   "id": "f7a181c9",
   "metadata": {},
   "outputs": [
    {
     "data": {
      "text/plain": [
       "16"
      ]
     },
     "execution_count": 26,
     "metadata": {},
     "output_type": "execute_result"
    }
   ],
   "source": [
    "sq(4)"
   ]
  },
  {
   "cell_type": "code",
   "execution_count": 27,
   "id": "fe774624",
   "metadata": {},
   "outputs": [
    {
     "data": {
      "text/plain": [
       "625"
      ]
     },
     "execution_count": 27,
     "metadata": {},
     "output_type": "execute_result"
    }
   ],
   "source": [
    "sq(25)"
   ]
  },
  {
   "cell_type": "code",
   "execution_count": 28,
   "id": "2b018ee2",
   "metadata": {},
   "outputs": [
    {
     "data": {
      "text/plain": [
       "4"
      ]
     },
     "execution_count": 28,
     "metadata": {},
     "output_type": "execute_result"
    }
   ],
   "source": [
    "sq(2)"
   ]
  },
  {
   "cell_type": "code",
   "execution_count": 29,
   "id": "6da58f5a",
   "metadata": {},
   "outputs": [],
   "source": [
    "cub= lambda x: x**3"
   ]
  },
  {
   "cell_type": "code",
   "execution_count": 30,
   "id": "2ea5e666",
   "metadata": {},
   "outputs": [
    {
     "data": {
      "text/plain": [
       "64"
      ]
     },
     "execution_count": 30,
     "metadata": {},
     "output_type": "execute_result"
    }
   ],
   "source": [
    "cub(4)"
   ]
  },
  {
   "cell_type": "code",
   "execution_count": 31,
   "id": "e33a8810",
   "metadata": {},
   "outputs": [],
   "source": [
    "ad=lambda x,y,z: x+y+z"
   ]
  },
  {
   "cell_type": "code",
   "execution_count": 32,
   "id": "4d80a143",
   "metadata": {},
   "outputs": [
    {
     "data": {
      "text/plain": [
       "60"
      ]
     },
     "execution_count": 32,
     "metadata": {},
     "output_type": "execute_result"
    }
   ],
   "source": [
    "ad(10,20,30)"
   ]
  },
  {
   "cell_type": "code",
   "execution_count": 33,
   "id": "029947d9",
   "metadata": {},
   "outputs": [],
   "source": [
    "sb=lambda x,y: x-y"
   ]
  },
  {
   "cell_type": "code",
   "execution_count": 34,
   "id": "97b39f8b",
   "metadata": {},
   "outputs": [
    {
     "data": {
      "text/plain": [
       "80"
      ]
     },
     "execution_count": 34,
     "metadata": {},
     "output_type": "execute_result"
    }
   ],
   "source": [
    "sb(100,20)"
   ]
  },
  {
   "cell_type": "code",
   "execution_count": 35,
   "id": "20a71018",
   "metadata": {},
   "outputs": [
    {
     "data": {
      "text/plain": [
       "-80"
      ]
     },
     "execution_count": 35,
     "metadata": {},
     "output_type": "execute_result"
    }
   ],
   "source": [
    "sb(20,100)"
   ]
  },
  {
   "cell_type": "code",
   "execution_count": 36,
   "id": "ae5d037d",
   "metadata": {},
   "outputs": [],
   "source": [
    "ml=lambda x,y: x*y"
   ]
  },
  {
   "cell_type": "code",
   "execution_count": 37,
   "id": "1bcda4c1",
   "metadata": {},
   "outputs": [
    {
     "data": {
      "text/plain": [
       "200"
      ]
     },
     "execution_count": 37,
     "metadata": {},
     "output_type": "execute_result"
    }
   ],
   "source": [
    "ml(10,20)"
   ]
  },
  {
   "cell_type": "code",
   "execution_count": 38,
   "id": "2a76da20",
   "metadata": {},
   "outputs": [],
   "source": [
    "## writing if else function"
   ]
  },
  {
   "cell_type": "code",
   "execution_count": 39,
   "id": "35134da2",
   "metadata": {},
   "outputs": [],
   "source": [
    "def greater(x):\n",
    "    if x>10:\n",
    "        print('Given no. is greater')\n",
    "    else:\n",
    "        print('lesser')"
   ]
  },
  {
   "cell_type": "code",
   "execution_count": 40,
   "id": "f0d21430",
   "metadata": {},
   "outputs": [
    {
     "name": "stdout",
     "output_type": "stream",
     "text": [
      "Given no. is greater\n"
     ]
    }
   ],
   "source": [
    "greater(20)"
   ]
  },
  {
   "cell_type": "code",
   "execution_count": 41,
   "id": "85fd5d8a",
   "metadata": {},
   "outputs": [
    {
     "name": "stdout",
     "output_type": "stream",
     "text": [
      "lesser\n"
     ]
    }
   ],
   "source": [
    "greater(6)"
   ]
  },
  {
   "cell_type": "code",
   "execution_count": 46,
   "id": "d956b278",
   "metadata": {},
   "outputs": [],
   "source": [
    "gt=lambda x: 'Given no. is greater' if x>10 else 'lesser'"
   ]
  },
  {
   "cell_type": "code",
   "execution_count": 47,
   "id": "2e216b7e",
   "metadata": {},
   "outputs": [
    {
     "data": {
      "text/plain": [
       "'Given no. is greater'"
      ]
     },
     "execution_count": 47,
     "metadata": {},
     "output_type": "execute_result"
    }
   ],
   "source": [
    "gt(20)"
   ]
  },
  {
   "cell_type": "code",
   "execution_count": 48,
   "id": "c27a69f5",
   "metadata": {},
   "outputs": [
    {
     "data": {
      "text/plain": [
       "'lesser'"
      ]
     },
     "execution_count": 48,
     "metadata": {},
     "output_type": "execute_result"
    }
   ],
   "source": [
    "gt(6)"
   ]
  },
  {
   "cell_type": "code",
   "execution_count": 42,
   "id": "f10d6dc0",
   "metadata": {},
   "outputs": [],
   "source": [
    "def condition(x):\n",
    "    if x<=5:\n",
    "        print('less than 5')\n",
    "    elif ((x>5)&(x<10)):\n",
    "        print('between 5 to 10')\n",
    "    else:\n",
    "        print('greater than 10')"
   ]
  },
  {
   "cell_type": "code",
   "execution_count": 43,
   "id": "fc8f7329",
   "metadata": {},
   "outputs": [
    {
     "name": "stdout",
     "output_type": "stream",
     "text": [
      "greater than 10\n"
     ]
    }
   ],
   "source": [
    "condition(20)"
   ]
  },
  {
   "cell_type": "code",
   "execution_count": 44,
   "id": "b7645536",
   "metadata": {},
   "outputs": [
    {
     "name": "stdout",
     "output_type": "stream",
     "text": [
      "less than 5\n"
     ]
    }
   ],
   "source": [
    "condition(3)"
   ]
  },
  {
   "cell_type": "code",
   "execution_count": 45,
   "id": "6b04f71d",
   "metadata": {},
   "outputs": [
    {
     "name": "stdout",
     "output_type": "stream",
     "text": [
      "between 5 to 10\n"
     ]
    }
   ],
   "source": [
    "condition(7)"
   ]
  },
  {
   "cell_type": "code",
   "execution_count": 49,
   "id": "80ba17a5",
   "metadata": {},
   "outputs": [],
   "source": [
    "def even(x):\n",
    "    if x%2==0:\n",
    "        print('even')\n",
    "    else:\n",
    "        print('odd')"
   ]
  },
  {
   "cell_type": "code",
   "execution_count": 50,
   "id": "30e7a254",
   "metadata": {},
   "outputs": [
    {
     "name": "stdout",
     "output_type": "stream",
     "text": [
      "odd\n"
     ]
    }
   ],
   "source": [
    "even(3)"
   ]
  },
  {
   "cell_type": "code",
   "execution_count": 51,
   "id": "03f48455",
   "metadata": {},
   "outputs": [
    {
     "name": "stdout",
     "output_type": "stream",
     "text": [
      "even\n"
     ]
    }
   ],
   "source": [
    "even(6)"
   ]
  },
  {
   "cell_type": "code",
   "execution_count": 52,
   "id": "c34718cd",
   "metadata": {},
   "outputs": [],
   "source": [
    "odd=lambda x: 'even' if x%2==0 else 'odd'"
   ]
  },
  {
   "cell_type": "code",
   "execution_count": 53,
   "id": "2f6d7b87",
   "metadata": {},
   "outputs": [
    {
     "data": {
      "text/plain": [
       "'odd'"
      ]
     },
     "execution_count": 53,
     "metadata": {},
     "output_type": "execute_result"
    }
   ],
   "source": [
    "odd(3)"
   ]
  },
  {
   "cell_type": "code",
   "execution_count": 54,
   "id": "f078d122",
   "metadata": {},
   "outputs": [
    {
     "data": {
      "text/plain": [
       "'even'"
      ]
     },
     "execution_count": 54,
     "metadata": {},
     "output_type": "execute_result"
    }
   ],
   "source": [
    "odd(6)"
   ]
  },
  {
   "cell_type": "markdown",
   "id": "87abe120",
   "metadata": {},
   "source": [
    "# Map function"
   ]
  },
  {
   "cell_type": "code",
   "execution_count": 55,
   "id": "d40a034e",
   "metadata": {},
   "outputs": [],
   "source": [
    "# in map function we can give list or tuple of arguments in the function instead of single value.\n"
   ]
  },
  {
   "cell_type": "code",
   "execution_count": 56,
   "id": "03b4cc9a",
   "metadata": {},
   "outputs": [],
   "source": [
    "def square(x):\n",
    "    return(x**2)"
   ]
  },
  {
   "cell_type": "code",
   "execution_count": 57,
   "id": "df28c269",
   "metadata": {},
   "outputs": [
    {
     "data": {
      "text/plain": [
       "4"
      ]
     },
     "execution_count": 57,
     "metadata": {},
     "output_type": "execute_result"
    }
   ],
   "source": [
    "square(2)"
   ]
  },
  {
   "cell_type": "code",
   "execution_count": 58,
   "id": "95d3a36b",
   "metadata": {},
   "outputs": [
    {
     "data": {
      "text/plain": [
       "9"
      ]
     },
     "execution_count": 58,
     "metadata": {},
     "output_type": "execute_result"
    }
   ],
   "source": [
    "square(3)"
   ]
  },
  {
   "cell_type": "code",
   "execution_count": 59,
   "id": "a2a179ad",
   "metadata": {},
   "outputs": [
    {
     "data": {
      "text/plain": [
       "16"
      ]
     },
     "execution_count": 59,
     "metadata": {},
     "output_type": "execute_result"
    }
   ],
   "source": [
    "square(4)"
   ]
  },
  {
   "cell_type": "markdown",
   "id": "088079b2",
   "metadata": {},
   "source": [
    "# map"
   ]
  },
  {
   "cell_type": "code",
   "execution_count": 77,
   "id": "fe445ae6",
   "metadata": {},
   "outputs": [],
   "source": [
    "x=[1,2,3,4,5,6,7,8,9,10]\n",
    "y=[1,2,3,4,5]\n",
    "z=[1,2,3,4,5,6,7,8]"
   ]
  },
  {
   "cell_type": "code",
   "execution_count": 62,
   "id": "89b8443a",
   "metadata": {},
   "outputs": [],
   "source": [
    "out=map(square,x)"
   ]
  },
  {
   "cell_type": "code",
   "execution_count": 64,
   "id": "5169e782",
   "metadata": {},
   "outputs": [
    {
     "data": {
      "text/plain": [
       "[1, 4, 9, 16, 25, 36, 49, 64, 81, 100]"
      ]
     },
     "execution_count": 64,
     "metadata": {},
     "output_type": "execute_result"
    }
   ],
   "source": [
    "list(out)"
   ]
  },
  {
   "cell_type": "code",
   "execution_count": 67,
   "id": "084bd307",
   "metadata": {},
   "outputs": [],
   "source": [
    "o1=map(cube,x)"
   ]
  },
  {
   "cell_type": "code",
   "execution_count": 68,
   "id": "0e0b3f83",
   "metadata": {},
   "outputs": [
    {
     "data": {
      "text/plain": [
       "[1, 8, 27, 64, 125, 216, 343, 512, 729, 1000]"
      ]
     },
     "execution_count": 68,
     "metadata": {},
     "output_type": "execute_result"
    }
   ],
   "source": [
    "list(o1)"
   ]
  },
  {
   "cell_type": "code",
   "execution_count": 78,
   "id": "62aae536",
   "metadata": {},
   "outputs": [],
   "source": [
    "o2=map(add,x,y,z)"
   ]
  },
  {
   "cell_type": "code",
   "execution_count": 79,
   "id": "2ccd2bb0",
   "metadata": {},
   "outputs": [
    {
     "data": {
      "text/plain": [
       "<map at 0x14997a7f820>"
      ]
     },
     "execution_count": 79,
     "metadata": {},
     "output_type": "execute_result"
    }
   ],
   "source": [
    "o2"
   ]
  },
  {
   "cell_type": "code",
   "execution_count": 80,
   "id": "b0e7d408",
   "metadata": {},
   "outputs": [
    {
     "data": {
      "text/plain": [
       "[3, 6, 9, 12, 15]"
      ]
     },
     "execution_count": 80,
     "metadata": {},
     "output_type": "execute_result"
    }
   ],
   "source": [
    "list(o2)"
   ]
  },
  {
   "cell_type": "code",
   "execution_count": null,
   "id": "e00bda69",
   "metadata": {},
   "outputs": [],
   "source": []
  }
 ],
 "metadata": {
  "kernelspec": {
   "display_name": "Python 3 (ipykernel)",
   "language": "python",
   "name": "python3"
  },
  "language_info": {
   "codemirror_mode": {
    "name": "ipython",
    "version": 3
   },
   "file_extension": ".py",
   "mimetype": "text/x-python",
   "name": "python",
   "nbconvert_exporter": "python",
   "pygments_lexer": "ipython3",
   "version": "3.9.13"
  }
 },
 "nbformat": 4,
 "nbformat_minor": 5
}
