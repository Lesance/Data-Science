{
 "cells": [
  {
   "cell_type": "markdown",
   "id": "2997440f",
   "metadata": {},
   "source": [
    "# Numpy Basics"
   ]
  },
  {
   "cell_type": "code",
   "execution_count": 1,
   "id": "70d05094",
   "metadata": {},
   "outputs": [],
   "source": [
    "import numpy as np"
   ]
  },
  {
   "cell_type": "code",
   "execution_count": 2,
   "id": "cdd6736f",
   "metadata": {},
   "outputs": [],
   "source": [
    "# checking numpy version:\n",
    "\n",
    "#the version string is stored under 'version' attribute"
   ]
  },
  {
   "cell_type": "code",
   "execution_count": 3,
   "id": "346ceb7b",
   "metadata": {},
   "outputs": [
    {
     "name": "stdout",
     "output_type": "stream",
     "text": [
      "1.23.5\n"
     ]
    }
   ],
   "source": [
    "import numpy as np\n",
    "print(np.__version__)"
   ]
  },
  {
   "cell_type": "markdown",
   "id": "262cbfcb",
   "metadata": {},
   "source": [
    "# Create arrays"
   ]
  },
  {
   "cell_type": "markdown",
   "id": "e8226c71",
   "metadata": {},
   "source": [
    "### 1D Array:"
   ]
  },
  {
   "cell_type": "code",
   "execution_count": 4,
   "id": "41d75764",
   "metadata": {},
   "outputs": [],
   "source": [
    "arr=np.array([1,2,3,4,5])"
   ]
  },
  {
   "cell_type": "code",
   "execution_count": 5,
   "id": "8117d2b1",
   "metadata": {},
   "outputs": [
    {
     "name": "stdout",
     "output_type": "stream",
     "text": [
      "[1 2 3 4 5]\n"
     ]
    }
   ],
   "source": [
    "print(arr)"
   ]
  },
  {
   "cell_type": "code",
   "execution_count": 6,
   "id": "82ad5389",
   "metadata": {},
   "outputs": [
    {
     "data": {
      "text/plain": [
       "[1, 2, 3, 4, 5]"
      ]
     },
     "execution_count": 6,
     "metadata": {},
     "output_type": "execute_result"
    }
   ],
   "source": [
    "lit=[1,2,3,4,5]\n",
    "lit"
   ]
  },
  {
   "cell_type": "code",
   "execution_count": 7,
   "id": "2240c672",
   "metadata": {},
   "outputs": [
    {
     "data": {
      "text/plain": [
       "numpy.ndarray"
      ]
     },
     "execution_count": 7,
     "metadata": {},
     "output_type": "execute_result"
    }
   ],
   "source": [
    "type(arr)"
   ]
  },
  {
   "cell_type": "markdown",
   "id": "848b732a",
   "metadata": {},
   "source": [
    "### 2D Array:"
   ]
  },
  {
   "cell_type": "code",
   "execution_count": 11,
   "id": "a5654baa",
   "metadata": {},
   "outputs": [],
   "source": [
    "arr=np.array([[1,2,3,4],[5,6,7,8]])"
   ]
  },
  {
   "cell_type": "code",
   "execution_count": 12,
   "id": "5ce15fa3",
   "metadata": {
    "scrolled": true
   },
   "outputs": [
    {
     "name": "stdout",
     "output_type": "stream",
     "text": [
      "[[1 2 3 4]\n",
      " [5 6 7 8]]\n"
     ]
    }
   ],
   "source": [
    "print(arr)"
   ]
  },
  {
   "cell_type": "code",
   "execution_count": 13,
   "id": "748fde1c",
   "metadata": {},
   "outputs": [
    {
     "name": "stderr",
     "output_type": "stream",
     "text": [
      "C:\\Users\\vigne\\AppData\\Local\\Temp\\ipykernel_10908\\1798736792.py:1: VisibleDeprecationWarning: Creating an ndarray from ragged nested sequences (which is a list-or-tuple of lists-or-tuples-or ndarrays with different lengths or shapes) is deprecated. If you meant to do this, you must specify 'dtype=object' when creating the ndarray.\n",
      "  arr=np.array([[1,2,3,4],[5,6,7]])\n"
     ]
    },
    {
     "data": {
      "text/plain": [
       "array([list([1, 2, 3, 4]), list([5, 6, 7])], dtype=object)"
      ]
     },
     "execution_count": 13,
     "metadata": {},
     "output_type": "execute_result"
    }
   ],
   "source": [
    "arr=np.array([[1,2,3,4],[5,6,7]])\n",
    "arr"
   ]
  },
  {
   "cell_type": "markdown",
   "id": "a7fc30f0",
   "metadata": {},
   "source": [
    "### 3D Array:"
   ]
  },
  {
   "cell_type": "code",
   "execution_count": 15,
   "id": "25292de6",
   "metadata": {},
   "outputs": [
    {
     "name": "stdout",
     "output_type": "stream",
     "text": [
      "[[[1 2 3 4]]]\n"
     ]
    }
   ],
   "source": [
    "arr=np.array([1,2,3,4], ndmin=3)\n",
    "print(arr)"
   ]
  },
  {
   "cell_type": "markdown",
   "id": "726a6c22",
   "metadata": {},
   "source": [
    "# Higher dimensional array"
   ]
  },
  {
   "cell_type": "code",
   "execution_count": 19,
   "id": "5f3b89cd",
   "metadata": {},
   "outputs": [
    {
     "name": "stdout",
     "output_type": "stream",
     "text": [
      "[[[[[1 2 3 4 5]]]]]\n"
     ]
    }
   ],
   "source": [
    "arr=np.array([1,2,3,4,5], ndmin=5)\n",
    "print(arr)"
   ]
  },
  {
   "cell_type": "markdown",
   "id": "fc5afe6e",
   "metadata": {},
   "source": [
    "#### Reshape:  can create another array with different shape, from one array"
   ]
  },
  {
   "cell_type": "code",
   "execution_count": 21,
   "id": "2c5da63c",
   "metadata": {},
   "outputs": [
    {
     "name": "stdout",
     "output_type": "stream",
     "text": [
      "[[1 2 3]\n",
      " [4 5 6]\n",
      " [7 8 9]]\n"
     ]
    }
   ],
   "source": [
    "a=np.array([1,2,3,4,5,6,7,8,9])\n",
    "arr=a.reshape(3,3)\n",
    "print(arr)"
   ]
  },
  {
   "cell_type": "markdown",
   "id": "ffe9c6b9",
   "metadata": {},
   "source": [
    "# Flattening the arrays"
   ]
  },
  {
   "cell_type": "code",
   "execution_count": 22,
   "id": "a913df17",
   "metadata": {},
   "outputs": [],
   "source": [
    "# flattening array means converting a nultidimentional array into a 1d array\n",
    "# we can use reshape(-1) to do  this"
   ]
  },
  {
   "cell_type": "code",
   "execution_count": 25,
   "id": "b879fef6",
   "metadata": {},
   "outputs": [
    {
     "name": "stdout",
     "output_type": "stream",
     "text": [
      "[1 2 3 4 1 4 5 7 2 3 5 6]\n"
     ]
    }
   ],
   "source": [
    "a=np.array([[1,2,3,4],[1,4,5,7],[2,3,5,6]])\n",
    "arr=a.reshape(-1)\n",
    "print(arr)"
   ]
  },
  {
   "cell_type": "markdown",
   "id": "f971c227",
   "metadata": {},
   "source": [
    "## tolist:  convert array to,list"
   ]
  },
  {
   "cell_type": "code",
   "execution_count": 27,
   "id": "8472db3d",
   "metadata": {},
   "outputs": [
    {
     "name": "stdout",
     "output_type": "stream",
     "text": [
      "<class 'list'> [1, 2, 3, 4, 5, 6, 7, 8]\n"
     ]
    }
   ],
   "source": [
    "a=np.array([1,2,3,4,5,6,7,8])\n",
    "lt=a.tolist()\n",
    "print(type(lt), lt)"
   ]
  },
  {
   "cell_type": "markdown",
   "id": "d34889c3",
   "metadata": {},
   "source": [
    "# Attributes of ndarray"
   ]
  },
  {
   "cell_type": "markdown",
   "id": "e261cb92",
   "metadata": {},
   "source": [
    "#### ndmin: ndmin atribute returns an integer that tells us how many dimensions the array have"
   ]
  },
  {
   "cell_type": "code",
   "execution_count": 31,
   "id": "815e6c18",
   "metadata": {},
   "outputs": [],
   "source": [
    "x=np.array(56)\n",
    "a=np.array([234])\n",
    "b=np.array([1,2,3,4])\n",
    "c=np.array([[1,2,3],[4,5,6]])\n",
    "d=np.array([[[1,2,3],[4,5,6],[6,7,8],[2,7,4]]])\n"
   ]
  },
  {
   "cell_type": "code",
   "execution_count": 32,
   "id": "d6240e32",
   "metadata": {},
   "outputs": [
    {
     "name": "stdout",
     "output_type": "stream",
     "text": [
      "0\n",
      "1\n",
      "1\n",
      "2\n",
      "3\n"
     ]
    }
   ],
   "source": [
    "print(x.ndim)\n",
    "print(a.ndim)\n",
    "print(b.ndim)\n",
    "print(c.ndim)\n",
    "print(d.ndim)"
   ]
  },
  {
   "cell_type": "markdown",
   "id": "3f24f643",
   "metadata": {},
   "source": [
    "# Size"
   ]
  },
  {
   "cell_type": "code",
   "execution_count": 34,
   "id": "04c43d61",
   "metadata": {},
   "outputs": [],
   "source": [
    "# Size: return total number of elements in array=(row*col)"
   ]
  },
  {
   "cell_type": "code",
   "execution_count": 35,
   "id": "a8782d2a",
   "metadata": {},
   "outputs": [
    {
     "name": "stdout",
     "output_type": "stream",
     "text": [
      "1\n",
      "1\n",
      "4\n",
      "6\n",
      "12\n"
     ]
    }
   ],
   "source": [
    "print(x.size)\n",
    "print(a.size)\n",
    "print(b.size)\n",
    "print(c.size)\n",
    "print(d.size)"
   ]
  },
  {
   "cell_type": "markdown",
   "id": "f5dc8b64",
   "metadata": {},
   "source": [
    "# Shape"
   ]
  },
  {
   "cell_type": "code",
   "execution_count": 36,
   "id": "3f5a2c01",
   "metadata": {},
   "outputs": [],
   "source": [
    "# shape return (row, col) of the array"
   ]
  },
  {
   "cell_type": "code",
   "execution_count": 38,
   "id": "e0ca669c",
   "metadata": {},
   "outputs": [
    {
     "name": "stdout",
     "output_type": "stream",
     "text": [
      "()\n",
      "(1,)\n",
      "(4,)\n",
      "(2, 3)\n",
      "(1, 4, 3)\n"
     ]
    }
   ],
   "source": [
    "print(x.shape)\n",
    "print(a.shape)\n",
    "print(b.shape)\n",
    "print(c.shape)\n",
    "print(d.shape)"
   ]
  },
  {
   "cell_type": "markdown",
   "id": "0241f320",
   "metadata": {},
   "source": [
    "# access array elements"
   ]
  },
  {
   "cell_type": "code",
   "execution_count": 39,
   "id": "153a6434",
   "metadata": {},
   "outputs": [],
   "source": [
    "# Iterating arrays using nditer():\n",
    "# Makes easy to iterate through each scalar elements in the array even for complex dimentional as well\n"
   ]
  },
  {
   "cell_type": "code",
   "execution_count": 41,
   "id": "7ecde573",
   "metadata": {},
   "outputs": [
    {
     "name": "stdout",
     "output_type": "stream",
     "text": [
      "[[[1 2]\n",
      "  [3 4]]\n",
      "\n",
      " [[5 6]\n",
      "  [7 8]]]\n"
     ]
    }
   ],
   "source": [
    "arr=np.array([[[1,2],[3,4]],[[5,6],[7,8]]])\n",
    "print(arr)"
   ]
  },
  {
   "cell_type": "code",
   "execution_count": 42,
   "id": "454f47d0",
   "metadata": {},
   "outputs": [
    {
     "name": "stdout",
     "output_type": "stream",
     "text": [
      "1\n",
      "2\n",
      "3\n",
      "4\n",
      "5\n",
      "6\n",
      "7\n",
      "8\n"
     ]
    }
   ],
   "source": [
    "for i in np.nditer(arr):\n",
    "    print(i)"
   ]
  },
  {
   "cell_type": "code",
   "execution_count": 43,
   "id": "e04cecbe",
   "metadata": {},
   "outputs": [],
   "source": [
    "d=np.array([[[1,2,3],[4,5,6],[6,7,8],[2,7,4]]])"
   ]
  },
  {
   "cell_type": "code",
   "execution_count": 45,
   "id": "780c1bcf",
   "metadata": {},
   "outputs": [
    {
     "name": "stdout",
     "output_type": "stream",
     "text": [
      "1\n",
      "2\n",
      "3\n",
      "4\n",
      "5\n",
      "6\n",
      "6\n",
      "7\n",
      "8\n",
      "2\n",
      "7\n",
      "4\n"
     ]
    }
   ],
   "source": [
    "for i in np.nditer(d):\n",
    "    print(i)"
   ]
  },
  {
   "cell_type": "markdown",
   "id": "fb1b388e",
   "metadata": {},
   "source": [
    "Iterating with Different step size"
   ]
  },
  {
   "cell_type": "code",
   "execution_count": 47,
   "id": "c7a2aaca",
   "metadata": {},
   "outputs": [
    {
     "name": "stdout",
     "output_type": "stream",
     "text": [
      "1\n",
      "2\n",
      "3\n",
      "4\n",
      "2\n",
      "5\n",
      "7\n",
      "8\n"
     ]
    }
   ],
   "source": [
    "arr=np.array([[1,2,3,4],[2,5,7,8]])\n",
    "for i in np.nditer(arr):\n",
    "    print(i)\n",
    "  \n"
   ]
  },
  {
   "cell_type": "code",
   "execution_count": 48,
   "id": "ea3008d3",
   "metadata": {},
   "outputs": [
    {
     "name": "stdout",
     "output_type": "stream",
     "text": [
      "1\n",
      "3\n",
      "2\n",
      "7\n"
     ]
    }
   ],
   "source": [
    "for i in np.nditer(arr[:,::2]):\n",
    "    print(i)"
   ]
  },
  {
   "cell_type": "markdown",
   "id": "d35c39e0",
   "metadata": {},
   "source": [
    "#Enumerated iteration using ndenumerate()"
   ]
  },
  {
   "cell_type": "code",
   "execution_count": 49,
   "id": "7d89ec00",
   "metadata": {},
   "outputs": [],
   "source": [
    "# enumerated means mentioning  sequence number of something one by one\n",
    "\n",
    "# Sometimes we required corresponding index of the elements while ioterationg\n",
    "# the ndenumerate( method can be used for those use cases)"
   ]
  },
  {
   "cell_type": "code",
   "execution_count": 51,
   "id": "8b52a5d8",
   "metadata": {},
   "outputs": [
    {
     "name": "stdout",
     "output_type": "stream",
     "text": [
      "(0,) 1\n",
      "(1,) 2\n",
      "(2,) 3\n",
      "(3,) 4\n"
     ]
    }
   ],
   "source": [
    "arr=np.array([1,2,3,4])\n",
    "for x,y in np.ndenumerate(arr):\n",
    "    print(x,y)"
   ]
  },
  {
   "cell_type": "code",
   "execution_count": 52,
   "id": "e30d6703",
   "metadata": {},
   "outputs": [
    {
     "name": "stdout",
     "output_type": "stream",
     "text": [
      "(0,) 4\n",
      "(1,) 3\n",
      "(2,) 2\n",
      "(3,) 1\n"
     ]
    }
   ],
   "source": [
    "arr=np.array([4,3,2,1])\n",
    "for x,y in np.ndenumerate(arr):\n",
    "    print(x,y)"
   ]
  },
  {
   "cell_type": "markdown",
   "id": "a33078e1",
   "metadata": {},
   "source": [
    "# 1. Array Indexing"
   ]
  },
  {
   "cell_type": "code",
   "execution_count": 53,
   "id": "4d5b305c",
   "metadata": {},
   "outputs": [],
   "source": [
    "arr=np.array([1,2,3,4,5,6,7,8])"
   ]
  },
  {
   "cell_type": "code",
   "execution_count": 54,
   "id": "a07349d6",
   "metadata": {},
   "outputs": [
    {
     "name": "stdout",
     "output_type": "stream",
     "text": [
      "1\n"
     ]
    }
   ],
   "source": [
    "print(arr[0])"
   ]
  },
  {
   "cell_type": "code",
   "execution_count": 59,
   "id": "3e1dcbab",
   "metadata": {},
   "outputs": [],
   "source": [
    "# Array creation using Numpy functions:\n"
   ]
  },
  {
   "cell_type": "markdown",
   "id": "ac279e20",
   "metadata": {},
   "source": [
    "#Zero"
   ]
  },
  {
   "cell_type": "code",
   "execution_count": 62,
   "id": "499a398c",
   "metadata": {},
   "outputs": [
    {
     "name": "stdout",
     "output_type": "stream",
     "text": [
      "[[0 0 0]\n",
      " [0 0 0]\n",
      " [0 0 0]]\n"
     ]
    }
   ],
   "source": [
    "# 1.zeros: Create array with all elements 0, with given dimensions.\n",
    "\n",
    "a=np.zeros((3,3), dtype=int)\n",
    "print(a)"
   ]
  },
  {
   "cell_type": "markdown",
   "id": "6e840054",
   "metadata": {},
   "source": [
    "# Ones"
   ]
  },
  {
   "cell_type": "code",
   "execution_count": 63,
   "id": "53abc60b",
   "metadata": {},
   "outputs": [],
   "source": [
    "# ones: create array with all elements 1 with given dimention:\n"
   ]
  },
  {
   "cell_type": "code",
   "execution_count": 64,
   "id": "9f72d7f2",
   "metadata": {},
   "outputs": [
    {
     "name": "stdout",
     "output_type": "stream",
     "text": [
      "[[1 1 1 1]\n",
      " [1 1 1 1]\n",
      " [1 1 1 1]\n",
      " [1 1 1 1]\n",
      " [1 1 1 1]]\n"
     ]
    }
   ],
   "source": [
    "a=np.ones((5,4),dtype=int)\n",
    "print(a)"
   ]
  },
  {
   "cell_type": "markdown",
   "id": "b7f2bd52",
   "metadata": {},
   "source": [
    "# arrange()function"
   ]
  },
  {
   "cell_type": "code",
   "execution_count": 65,
   "id": "1b495f15",
   "metadata": {},
   "outputs": [],
   "source": [
    "# arrange function create a sequence of number "
   ]
  },
  {
   "cell_type": "code",
   "execution_count": 69,
   "id": "db5c53bc",
   "metadata": {},
   "outputs": [
    {
     "name": "stdout",
     "output_type": "stream",
     "text": [
      "[0 1 2 3 4 5 6 7 8 9]\n",
      "[11. 12. 13. 14. 15. 16. 17. 18. 19. 20. 21.]\n"
     ]
    }
   ],
   "source": [
    "a=np.arange(10)\n",
    "print(a)\n",
    "\n",
    "b=np.arange(11,22,dtype='f')\n",
    "print(b)"
   ]
  },
  {
   "cell_type": "markdown",
   "id": "76e568b0",
   "metadata": {},
   "source": [
    "# linespace"
   ]
  },
  {
   "cell_type": "code",
   "execution_count": null,
   "id": "59f1a36d",
   "metadata": {},
   "outputs": [],
   "source": [
    "# 4. linspace: Create 1-D array of linear space numbers / values, by default 50 linspace"
   ]
  },
  {
   "cell_type": "code",
   "execution_count": 70,
   "id": "6bbae3bb",
   "metadata": {},
   "outputs": [
    {
     "name": "stdout",
     "output_type": "stream",
     "text": [
      "[3.         3.04081633 3.08163265 3.12244898 3.16326531 3.20408163\n",
      " 3.24489796 3.28571429 3.32653061 3.36734694 3.40816327 3.44897959\n",
      " 3.48979592 3.53061224 3.57142857 3.6122449  3.65306122 3.69387755\n",
      " 3.73469388 3.7755102  3.81632653 3.85714286 3.89795918 3.93877551\n",
      " 3.97959184 4.02040816 4.06122449 4.10204082 4.14285714 4.18367347\n",
      " 4.2244898  4.26530612 4.30612245 4.34693878 4.3877551  4.42857143\n",
      " 4.46938776 4.51020408 4.55102041 4.59183673 4.63265306 4.67346939\n",
      " 4.71428571 4.75510204 4.79591837 4.83673469 4.87755102 4.91836735\n",
      " 4.95918367 5.        ]\n"
     ]
    }
   ],
   "source": [
    "p = np.linspace(3,5)\n",
    "print(p)\n"
   ]
  },
  {
   "cell_type": "markdown",
   "id": "e7c22b89",
   "metadata": {},
   "source": [
    "## Numpy function"
   ]
  },
  {
   "cell_type": "code",
   "execution_count": 74,
   "id": "506b50e0",
   "metadata": {},
   "outputs": [
    {
     "name": "stdout",
     "output_type": "stream",
     "text": [
      "[  1   2   3   4   5 100]\n"
     ]
    }
   ],
   "source": [
    "# insert\n",
    "\n",
    "a=np.array([1,2,3,4,5])\n",
    "a=np.insert(a,5,100)\n",
    "print(a)"
   ]
  },
  {
   "cell_type": "code",
   "execution_count": 77,
   "id": "068f1d01",
   "metadata": {},
   "outputs": [
    {
     "name": "stdout",
     "output_type": "stream",
     "text": [
      "[  2   3   4   5 300]\n"
     ]
    }
   ],
   "source": [
    "# append : insert values at the end of the array\n",
    "\n",
    "a=np.array([2,3,4,5])\n",
    "a=np.append(a,300)\n",
    "\n",
    "print(a)"
   ]
  },
  {
   "cell_type": "code",
   "execution_count": 78,
   "id": "8c0f8803",
   "metadata": {},
   "outputs": [
    {
     "name": "stdout",
     "output_type": "stream",
     "text": [
      "[ 2.  4.  7.  9. 13.]\n"
     ]
    }
   ],
   "source": [
    "## ceil():\n",
    "\n",
    "# closest upper int value to the given float number\n",
    "\n",
    "a=np.array([1.2,3.5,6.7,8.4,12.6])\n",
    "a=np.ceil(a)\n",
    "print(a)\n"
   ]
  },
  {
   "cell_type": "code",
   "execution_count": 80,
   "id": "b076440c",
   "metadata": {},
   "outputs": [
    {
     "name": "stdout",
     "output_type": "stream",
     "text": [
      "[ 1.  3.  6.  8. 12.]\n"
     ]
    }
   ],
   "source": [
    "## Floor\n",
    "\n",
    "# closest lower int value to the given number\n",
    "\n",
    "a=np.array([1.2,3.5,6.7,8.4,12.6])\n",
    "a=np.floor(a)\n",
    "print(a)"
   ]
  },
  {
   "cell_type": "code",
   "execution_count": 81,
   "id": "0d195840",
   "metadata": {},
   "outputs": [
    {
     "name": "stdout",
     "output_type": "stream",
     "text": [
      "[ 1.  4.  7.  8. 13.]\n"
     ]
    }
   ],
   "source": [
    "# around()\n",
    "\n",
    "a=np.array([1.2,3.5,6.7,8.4,12.6])\n",
    "a=np.around(a)\n",
    "print(a)"
   ]
  },
  {
   "cell_type": "code",
   "execution_count": 82,
   "id": "5732a6cf",
   "metadata": {},
   "outputs": [
    {
     "name": "stdout",
     "output_type": "stream",
     "text": [
      "4\n"
     ]
    }
   ],
   "source": [
    "#argmax():  return max(index)\n",
    "# return index of the max element in the array\n",
    "\n",
    "a=np.array([1.2,3.5,6.7,8.4,12.6])\n",
    "a=np.argmax(a)\n",
    "print(a)"
   ]
  },
  {
   "cell_type": "code",
   "execution_count": 83,
   "id": "8c62b35a",
   "metadata": {},
   "outputs": [
    {
     "name": "stdout",
     "output_type": "stream",
     "text": [
      "0\n"
     ]
    }
   ],
   "source": [
    "# argmin:  return min(index) of the element in the array\n",
    "\n",
    "a=np.array([1.2,3.5,6.7,8.4,12.6])\n",
    "a=np.argmin(a)\n",
    "print(a)"
   ]
  },
  {
   "cell_type": "markdown",
   "id": "78789fa6",
   "metadata": {},
   "source": [
    "## where "
   ]
  },
  {
   "cell_type": "code",
   "execution_count": 84,
   "id": "f117705e",
   "metadata": {},
   "outputs": [],
   "source": [
    "# where is similar for the if else condition\n",
    "# return indices of values, for which the given condition is statisfied.\n",
    "\n",
    "#np.where(condition, true(replace with this value), false(replace with this value))"
   ]
  },
  {
   "cell_type": "code",
   "execution_count": 86,
   "id": "8144f0c4",
   "metadata": {},
   "outputs": [
    {
     "name": "stdout",
     "output_type": "stream",
     "text": [
      "[0 0 0 0 1 1 1]\n"
     ]
    }
   ],
   "source": [
    "a=np.array([2,3,4,5,6,7,8])\n",
    "a=np.where(a>5,1,0)\n",
    "print(a)"
   ]
  },
  {
   "cell_type": "markdown",
   "id": "9a8f4949",
   "metadata": {},
   "source": [
    "# copy"
   ]
  },
  {
   "cell_type": "code",
   "execution_count": 87,
   "id": "3b1c6fc8",
   "metadata": {},
   "outputs": [
    {
     "data": {
      "text/plain": [
       "array([0, 0, 0, 0, 1, 1, 1])"
      ]
     },
     "execution_count": 87,
     "metadata": {},
     "output_type": "execute_result"
    }
   ],
   "source": [
    "a"
   ]
  },
  {
   "cell_type": "code",
   "execution_count": 88,
   "id": "58b1cb9f",
   "metadata": {},
   "outputs": [],
   "source": [
    "b=a.copy()"
   ]
  },
  {
   "cell_type": "code",
   "execution_count": 89,
   "id": "252da77e",
   "metadata": {},
   "outputs": [
    {
     "data": {
      "text/plain": [
       "array([0, 0, 0, 0, 1, 1, 1])"
      ]
     },
     "execution_count": 89,
     "metadata": {},
     "output_type": "execute_result"
    }
   ],
   "source": [
    "b"
   ]
  },
  {
   "cell_type": "markdown",
   "id": "b88888f3",
   "metadata": {},
   "source": [
    "# view"
   ]
  },
  {
   "cell_type": "code",
   "execution_count": 91,
   "id": "316426b2",
   "metadata": {},
   "outputs": [
    {
     "data": {
      "text/plain": [
       "array([0, 0, 0, 0, 1, 1, 1])"
      ]
     },
     "execution_count": 91,
     "metadata": {},
     "output_type": "execute_result"
    }
   ],
   "source": [
    "a.view()"
   ]
  },
  {
   "cell_type": "markdown",
   "id": "60f50ead",
   "metadata": {},
   "source": [
    "# Numpy joining array"
   ]
  },
  {
   "cell_type": "markdown",
   "id": "935a48a7",
   "metadata": {},
   "source": [
    "# row wise joining"
   ]
  },
  {
   "cell_type": "code",
   "execution_count": 92,
   "id": "4bec2648",
   "metadata": {},
   "outputs": [],
   "source": [
    "a=np.array([1,2,3,4,5])\n",
    "b=np.array([6,7,8,9,5])\n",
    "\n",
    "join=np.concatenate((a,b),axis=0)"
   ]
  },
  {
   "cell_type": "code",
   "execution_count": 93,
   "id": "a4aa9cb7",
   "metadata": {},
   "outputs": [
    {
     "data": {
      "text/plain": [
       "array([1, 2, 3, 4, 5, 6, 7, 8, 9, 5])"
      ]
     },
     "execution_count": 93,
     "metadata": {},
     "output_type": "execute_result"
    }
   ],
   "source": [
    "join"
   ]
  },
  {
   "cell_type": "code",
   "execution_count": 96,
   "id": "35236be2",
   "metadata": {},
   "outputs": [
    {
     "data": {
      "text/plain": [
       "array([[1, 2, 3, 4, 5, 6, 7, 8, 9, 5],\n",
       "       [6, 7, 8, 9, 5, 1, 2, 3, 4, 5]])"
      ]
     },
     "execution_count": 96,
     "metadata": {},
     "output_type": "execute_result"
    }
   ],
   "source": [
    "a=np.array([[1,2,3,4,5],[6,7,8,9,5]])\n",
    "b=np.array([[6,7,8,9,5],[1,2,3,4,5]])\n",
    "\n",
    "join2=np.concatenate((a,b),axis=1)\n",
    "join2"
   ]
  },
  {
   "cell_type": "code",
   "execution_count": null,
   "id": "b12f337c",
   "metadata": {},
   "outputs": [],
   "source": []
  }
 ],
 "metadata": {
  "kernelspec": {
   "display_name": "Python 3 (ipykernel)",
   "language": "python",
   "name": "python3"
  },
  "language_info": {
   "codemirror_mode": {
    "name": "ipython",
    "version": 3
   },
   "file_extension": ".py",
   "mimetype": "text/x-python",
   "name": "python",
   "nbconvert_exporter": "python",
   "pygments_lexer": "ipython3",
   "version": "3.9.13"
  }
 },
 "nbformat": 4,
 "nbformat_minor": 5
}
